{
 "cells": [
  {
   "cell_type": "markdown",
   "metadata": {},
   "source": [
    "# 1. Overview"
   ]
  },
  {
   "cell_type": "code",
   "execution_count": null,
   "metadata": {},
   "outputs": [],
   "source": []
  },
  {
   "cell_type": "markdown",
   "metadata": {},
   "source": [
    "# 2. Data Understanding"
   ]
  },
  {
   "cell_type": "markdown",
   "metadata": {},
   "source": [
    "## 2.1 Data Description"
   ]
  },
  {
   "cell_type": "markdown",
   "metadata": {},
   "source": [
    "## 2.2 Import necessary libraries"
   ]
  },
  {
   "cell_type": "code",
   "execution_count": 27,
   "metadata": {
    "scrolled": true
   },
   "outputs": [],
   "source": [
    "import pandas as pd\n",
    "import yfinance as yf\n",
    "import matplotlib.pyplot as plt \n",
    "import seaborn as sns\n",
    "import numpy as np\n",
    "import warnings\n",
    "\n",
    "from datetime import datetime, timedelta\n",
    "from statsmodels.tsa.seasonal import STL\n",
    "from statsmodels.graphics.tsaplots import plot_acf, plot_pacf\n",
    "\n",
    "# Suppress the SettingWithCopyWarning\n",
    "warnings.filterwarnings('ignore', category=pd.errors.SettingWithCopyWarning)"
   ]
  },
  {
   "cell_type": "markdown",
   "metadata": {},
   "source": [
    "## 2.3 Define Global Variables"
   ]
  },
  {
   "cell_type": "code",
   "execution_count": 28,
   "metadata": {},
   "outputs": [],
   "source": [
    "company_name = ['Zeiss Group', 'Trumpf Group', 'NTS Group']  \n",
    "start_date = '2013-01-01'\n",
    "end_date = datetime.today().strftime(\"%Y-%m-%d\")\n",
    "output_data = 'data/weekly_data.csv'"
   ]
  },
  {
   "cell_type": "markdown",
   "metadata": {},
   "source": [
    "## 2.4 Functions"
   ]
  },
  {
   "cell_type": "code",
   "execution_count": 29,
   "metadata": {},
   "outputs": [],
   "source": [
    "def get_historical_data(ticker_symbol, start_date, end_date):\n",
    "    \"\"\"\n",
    "    Fetches historical stock data for a given company between specified dates. \n",
    "    Returns a DataFrame containing the historical data.\n",
    "\n",
    "    Input:\n",
    "    - ticker_symbol: The stock ticker of the company (e.g., 'ASML').\n",
    "    - start_date: The start date for the historical data (e.g., '2000-01-01').\n",
    "    - end_date: The end date for the historical data (e.g., '2024-10-05').\n",
    "\n",
    "    Output:\n",
    "    - A pandas DataFrame containing the historical stock data for the specified period.\n",
    "    \"\"\"\n",
    "    # Define the ticker symbol\n",
    "    stock_data = yf.Ticker(ticker_symbol)\n",
    "\n",
    "    # Download historical data between the start and end dates\n",
    "    historical_data = stock_data.history(start=start_date, end=end_date)\n",
    "\n",
    "    # Reset the index to convert 'Date' from an index to a regular column\n",
    "    historical_data.reset_index(inplace=True)\n",
    "\n",
    "    # Return the resulting DataFrame\n",
    "    return historical_data"
   ]
  },
  {
   "cell_type": "code",
   "execution_count": 30,
   "metadata": {},
   "outputs": [],
   "source": [
    "def plot_closing_prices(historical_data, company_name):\n",
    "    \"\"\"\n",
    "    Plots the historical closing prices of a company's stock over time.\n",
    "\n",
    "    Input:\n",
    "    - historical_data: DataFrame containing the stock data with 'Date' and 'Close' columns.\n",
    "    - company_name: The name or ticker of the company to be displayed in the plot title.\n",
    "\n",
    "    Output:\n",
    "    - A line plot of the company's historical closing prices.\n",
    "    \"\"\"\n",
    "    # Convert the 'Date' and 'Close' columns to numpy arrays\n",
    "    dates = np.array(historical_data['Date'])\n",
    "    close_prices = np.array(historical_data['Close'])\n",
    "\n",
    "    # Create the plot for the 'Close' (closing price) column using matplotlib\n",
    "    plt.figure(figsize=(10, 6))  # Set the figure size\n",
    "    plt.plot(dates, close_prices, label='Closing Price', color='blue')\n",
    "\n",
    "    # Add title and axis labels\n",
    "    plt.title(f'Historical Closing Prices of {company_name} between {dates[0]} and {dates[-1]}')\n",
    "    plt.xlabel('Date')\n",
    "    plt.ylabel('Closing Price (USD)')\n",
    "\n",
    "    # Rotate X-axis labels for better readability\n",
    "    plt.xticks(rotation=45)\n",
    "\n",
    "    # Show the legend\n",
    "    plt.legend()\n",
    "\n",
    "    # Adjust layout to prevent overlap of elements\n",
    "    plt.tight_layout()\n",
    "\n",
    "    # Display the plot\n",
    "    plt.show()"
   ]
  },
  {
   "cell_type": "code",
   "execution_count": 31,
   "metadata": {},
   "outputs": [],
   "source": [
    "# Groupby daily, weekly, and monthly\n",
    "def plot_stock_by_period(historical_data, company_name):\n",
    "    \"\"\"\n",
    "    Input: \n",
    "    - historical_data: DataFrame containing stock data with 'Date' and 'Close' columns.\n",
    "    - company_name: String representing the name of the company.\n",
    "\n",
    "    Output: \n",
    "    - Three line plots showing daily, weekly, and monthly average closing prices.\n",
    "    - Prints the count of data points for each group (daily, weekly, and monthly).\n",
    "\n",
    "    Logic: \n",
    "    - The function resamples the stock data by day, week, and month, computes the average closing price, \n",
    "      and generates line plots using Matplotlib for each resampled dataset.\n",
    "    \"\"\"\n",
    "\n",
    "    # Convert 'Date' column to datetime if not already\n",
    "    historical_data['Date'] = pd.to_datetime(historical_data['Date'])\n",
    "\n",
    "    # Set 'Date' as the DataFrame index\n",
    "    historical_data.set_index('Date', inplace=True)\n",
    "\n",
    "    # Group by different periods\n",
    "    daily_data = historical_data.resample('D').median()\n",
    "    weekly_data = historical_data.resample('W').median()\n",
    "    monthly_data = historical_data.resample('M').median()\n",
    "\n",
    "    # Print the number of data points for each period\n",
    "    print(f\"Number of daily data points: {daily_data.shape[0]}\")\n",
    "    print(f\"Number of weekly data points: {weekly_data.shape[0]}\")\n",
    "    print(f\"Number of monthly data points: {monthly_data.shape[0]}\")\n",
    "\n",
    "    # Convert 'Date' and 'Close' columns to NumPy arrays for matplotlib compatibility\n",
    "    daily_dates = daily_data.index.to_numpy()\n",
    "    daily_close_prices = daily_data['Close'].to_numpy()\n",
    "\n",
    "    weekly_dates = weekly_data.index.to_numpy()\n",
    "    weekly_close_prices = weekly_data['Close'].to_numpy()\n",
    "\n",
    "    monthly_dates = monthly_data.index.to_numpy()\n",
    "    monthly_close_prices = monthly_data['Close'].to_numpy()\n",
    "\n",
    "    # Plot daily data\n",
    "    plt.figure(figsize=(10, 6))\n",
    "    plt.plot(daily_dates, daily_close_prices, label='Daily Closing Price', color='blue')\n",
    "    plt.title(f'{company_name} - Daily Closing Prices')\n",
    "    plt.xlabel('Date')\n",
    "    plt.ylabel('Closing Price (USD)')\n",
    "    plt.xticks(rotation=45)\n",
    "    plt.tight_layout()\n",
    "    plt.show()\n",
    "\n",
    "    # Plot weekly data\n",
    "    plt.figure(figsize=(10, 6))\n",
    "    plt.plot(weekly_dates, weekly_close_prices, label='Weekly Closing Price', color='green')\n",
    "    plt.title(f'{company_name} - Weekly Closing Prices')\n",
    "    plt.xlabel('Date')\n",
    "    plt.ylabel('Closing Price (USD)')\n",
    "    plt.xticks(rotation=45)\n",
    "    plt.tight_layout()\n",
    "    plt.show()\n",
    "\n",
    "    # Plot monthly data\n",
    "    plt.figure(figsize=(10, 6))\n",
    "    plt.plot(monthly_dates, monthly_close_prices, label='Monthly Closing Price', color='red')\n",
    "    plt.title(f'{company_name} - Monthly Closing Prices')\n",
    "    plt.xlabel('Date')\n",
    "    plt.ylabel('Closing Price (USD)')\n",
    "    plt.xticks(rotation=45)\n",
    "    plt.tight_layout()\n",
    "    plt.show()"
   ]
  },
  {
   "cell_type": "code",
   "execution_count": 32,
   "metadata": {},
   "outputs": [],
   "source": [
    "def create_daily_date_list(start_date, end_date):\n",
    "    # Parse the start and end dates from string format to datetime objects\n",
    "    start = datetime.strptime(start_date, \"%Y-%m-%d\")\n",
    "    end = datetime.strptime(end_date, \"%Y-%m-%d\")\n",
    "    \n",
    "    # Initialize an empty list to store the dates\n",
    "    date_list = []\n",
    "    \n",
    "    # Generate dates by iterating from start to end date with daily frequency\n",
    "    current_date = start\n",
    "    while current_date <= end:\n",
    "        date_list.append(current_date.strftime(\"%Y-%m-%d\"))  # Append date as a string in 'YYYY-MM-DD' format\n",
    "        current_date += timedelta(days=1)  # Move to the next day\n",
    "\n",
    "    return date_list"
   ]
  },
  {
   "cell_type": "code",
   "execution_count": 33,
   "metadata": {},
   "outputs": [],
   "source": [
    "def plot_stock_with_multiple_boxplots(historical_data, company_name):\n",
    "    \"\"\"\n",
    "    Plots the stock's closing price distribution for weekly, monthly, and quarterly with\n",
    "    multiple boxplots for each period.\n",
    "    \n",
    "    Input:\n",
    "    - historical_data: DataFrame containing stock data with 'Date' and 'Close' columns.\n",
    "    - company_name: String representing the name of the company.\n",
    "    \n",
    "    Output:\n",
    "    - Boxplots for each period (7 for weekly, 12 for monthly, and 4 for quarterly).\n",
    "    \"\"\"\n",
    "\n",
    "    # Ensure 'Date' column is in datetime format\n",
    "    historical_data['Date'] = pd.to_datetime(historical_data['Date'])\n",
    "\n",
    "    # Extract additional time period information\n",
    "    historical_data['Weekday'] = historical_data['Date'].dt.weekday  # Weekday (0=Monday, 6=Sunday)\n",
    "    historical_data['Month'] = historical_data['Date'].dt.month      # Month (1=January, 12=December)\n",
    "    historical_data['Quarter'] = historical_data['Date'].dt.quarter  # Quarter (1 to 4)\n",
    "\n",
    "    # Plot Weekly Data (7 boxplots for each day of the week)\n",
    "    plt.figure(figsize=(12, 8))\n",
    "    historical_data.boxplot(column='Close', by='Weekday', grid=True)\n",
    "    plt.title(f'{company_name} - Weekly Closing Prices (by Weekday)')\n",
    "    plt.suptitle('')\n",
    "    plt.xlabel('Weekday (0=Monday, 6=Sunday)')\n",
    "    plt.ylabel('Closing Price (USD)')\n",
    "    plt.show();\n",
    "\n",
    "    # Plot Monthly Data (12 boxplots for each month)\n",
    "    plt.figure(figsize=(12, 8))\n",
    "    historical_data.boxplot(column='Close', by='Month', grid=True)\n",
    "    plt.title(f'{company_name} - Monthly Closing Prices (by Month)')\n",
    "    plt.suptitle('')\n",
    "    plt.xlabel('Month')\n",
    "    plt.ylabel('Closing Price (USD)')\n",
    "    plt.show();\n",
    "\n",
    "    # Plot Quarterly Data (4 boxplots for each quarter)\n",
    "    plt.figure(figsize=(12, 8))\n",
    "    historical_data.boxplot(column='Close', by='Quarter', grid=True)\n",
    "    plt.title(f'{company_name} - Quarterly Closing Prices (by Quarter)')\n",
    "    plt.suptitle('')\n",
    "    plt.xlabel('Quarter')\n",
    "    plt.ylabel('Closing Price (USD)')\n",
    "    plt.show();\n"
   ]
  },
  {
   "cell_type": "markdown",
   "metadata": {},
   "source": [
    "## 2.5 Code"
   ]
  },
  {
   "cell_type": "markdown",
   "metadata": {},
   "source": [
    "### 2.5.1 Looking at the dataset"
   ]
  },
  {
   "cell_type": "markdown",
   "metadata": {},
   "source": [
    "We are going to load the data using the function get_historical_data"
   ]
  },
  {
   "cell_type": "code",
   "execution_count": 34,
   "metadata": {
    "scrolled": false
   },
   "outputs": [
    {
     "name": "stderr",
     "output_type": "stream",
     "text": [
      "$ZEISS GROUP: possibly delisted; no timezone found\n",
      "$TRUMPF GROUP: possibly delisted; no timezone found\n",
      "$NTS GROUP: possibly delisted; no timezone found\n"
     ]
    },
    {
     "name": "stdout",
     "output_type": "stream",
     "text": [
      "Loading data for Zeiss Group...\n",
      "Loading data for Trumpf Group...\n",
      "Loading data for NTS Group...\n"
     ]
    },
    {
     "data": {
      "text/html": [
       "<div>\n",
       "<style scoped>\n",
       "    .dataframe tbody tr th:only-of-type {\n",
       "        vertical-align: middle;\n",
       "    }\n",
       "\n",
       "    .dataframe tbody tr th {\n",
       "        vertical-align: top;\n",
       "    }\n",
       "\n",
       "    .dataframe thead th {\n",
       "        text-align: right;\n",
       "    }\n",
       "</style>\n",
       "<table border=\"1\" class=\"dataframe\">\n",
       "  <thead>\n",
       "    <tr style=\"text-align: right;\">\n",
       "      <th></th>\n",
       "      <th>Date</th>\n",
       "      <th>Open</th>\n",
       "      <th>High</th>\n",
       "      <th>Low</th>\n",
       "      <th>Close</th>\n",
       "      <th>Adj Close</th>\n",
       "      <th>Volume</th>\n",
       "      <th>Company</th>\n",
       "    </tr>\n",
       "  </thead>\n",
       "  <tbody>\n",
       "  </tbody>\n",
       "</table>\n",
       "</div>"
      ],
      "text/plain": [
       "Empty DataFrame\n",
       "Columns: [Date, Open, High, Low, Close, Adj Close, Volume, Company]\n",
       "Index: []"
      ]
     },
     "execution_count": 34,
     "metadata": {},
     "output_type": "execute_result"
    }
   ],
   "source": [
    "# Create an empty list to store data for each company\n",
    "all_data = []\n",
    "\n",
    "# Load historical data for each company\n",
    "for company in company_name:\n",
    "    print(f\"Loading data for {company}...\")\n",
    "    \n",
    "    # Call the function get_historical_data for each company\n",
    "    historical_data = get_historical_data(company, start_date, end_date)\n",
    "\n",
    "    # Convert 'Date' column to datetime format and keep only the date (without time)\n",
    "    historical_data['Date'] = pd.to_datetime(historical_data['Date']).dt.date\n",
    "\n",
    "    # Add company name to the data\n",
    "    historical_data['Company'] = company\n",
    "\n",
    "    # Append to the list\n",
    "    all_data.append(historical_data)\n",
    "\n",
    "# Concatenate all data into a single DataFrame\n",
    "combined_historical_data = pd.concat(all_data, ignore_index=True)\n",
    "\n",
    "# Display the combined data\n",
    "combined_historical_data.head()"
   ]
  },
  {
   "cell_type": "markdown",
   "metadata": {},
   "source": [
    "Now let's plot the stock data"
   ]
  },
  {
   "cell_type": "code",
   "execution_count": 9,
   "metadata": {
    "scrolled": false
   },
   "outputs": [
    {
     "data": {
      "image/png": "[encoded data removed]",
      "text/plain": [
       "<Figure size 1000x600 with 1 Axes>"
      ]
     },
     "metadata": {},
     "output_type": "display_data"
    }
   ],
   "source": [
    "plot_closing_prices(historical_data, company_name)"
   ]
  },
  {
   "cell_type": "markdown",
   "metadata": {},
   "source": [
    "### 2.5.2 Checking for duplicate values"
   ]
  },
  {
   "cell_type": "code",
   "execution_count": 10,
   "metadata": {},
   "outputs": [
    {
     "data": {
      "text/plain": [
       "0"
      ]
     },
     "execution_count": 10,
     "metadata": {},
     "output_type": "execute_result"
    }
   ],
   "source": [
    "historical_data.duplicated().sum()"
   ]
  },
  {
   "cell_type": "markdown",
   "metadata": {},
   "source": [
    "There is no duplicated values. So we can continue"
   ]
  },
  {
   "cell_type": "markdown",
   "metadata": {},
   "source": [
    "### 2.5.3 Checking for missing dates"
   ]
  },
  {
   "cell_type": "code",
   "execution_count": 11,
   "metadata": {},
   "outputs": [
    {
     "data": {
      "text/plain": [
       "Date            0.0\n",
       "Open            0.0\n",
       "High            0.0\n",
       "Low             0.0\n",
       "Close           0.0\n",
       "Volume          0.0\n",
       "Dividends       0.0\n",
       "Stock Splits    0.0\n",
       "dtype: float64"
      ]
     },
     "execution_count": 11,
     "metadata": {},
     "output_type": "execute_result"
    }
   ],
   "source": [
    "(historical_data.isna().sum()/len(historical_data))*100"
   ]
  },
  {
   "cell_type": "markdown",
   "metadata": {},
   "source": [
    "As we can see there aren't any null values"
   ]
  },
  {
   "cell_type": "markdown",
   "metadata": {},
   "source": [
    "Let's check the dates of the data"
   ]
  },
  {
   "cell_type": "code",
   "execution_count": 12,
   "metadata": {},
   "outputs": [
    {
     "data": {
      "text/html": [
       "<div>\n",
       "<style scoped>\n",
       "    .dataframe tbody tr th:only-of-type {\n",
       "        vertical-align: middle;\n",
       "    }\n",
       "\n",
       "    .dataframe tbody tr th {\n",
       "        vertical-align: top;\n",
       "    }\n",
       "\n",
       "    .dataframe thead th {\n",
       "        text-align: right;\n",
       "    }\n",
       "</style>\n",
       "<table border=\"1\" class=\"dataframe\">\n",
       "  <thead>\n",
       "    <tr style=\"text-align: right;\">\n",
       "      <th></th>\n",
       "      <th>Date</th>\n",
       "    </tr>\n",
       "  </thead>\n",
       "  <tbody>\n",
       "    <tr>\n",
       "      <th>0</th>\n",
       "      <td>2013-01-01</td>\n",
       "    </tr>\n",
       "    <tr>\n",
       "      <th>1</th>\n",
       "      <td>2013-01-02</td>\n",
       "    </tr>\n",
       "    <tr>\n",
       "      <th>2</th>\n",
       "      <td>2013-01-03</td>\n",
       "    </tr>\n",
       "    <tr>\n",
       "      <th>3</th>\n",
       "      <td>2013-01-04</td>\n",
       "    </tr>\n",
       "    <tr>\n",
       "      <th>4</th>\n",
       "      <td>2013-01-05</td>\n",
       "    </tr>\n",
       "    <tr>\n",
       "      <th>...</th>\n",
       "      <td>...</td>\n",
       "    </tr>\n",
       "    <tr>\n",
       "      <th>4307</th>\n",
       "      <td>2024-10-17</td>\n",
       "    </tr>\n",
       "    <tr>\n",
       "      <th>4308</th>\n",
       "      <td>2024-10-18</td>\n",
       "    </tr>\n",
       "    <tr>\n",
       "      <th>4309</th>\n",
       "      <td>2024-10-19</td>\n",
       "    </tr>\n",
       "    <tr>\n",
       "      <th>4310</th>\n",
       "      <td>2024-10-20</td>\n",
       "    </tr>\n",
       "    <tr>\n",
       "      <th>4311</th>\n",
       "      <td>2024-10-21</td>\n",
       "    </tr>\n",
       "  </tbody>\n",
       "</table>\n",
       "<p>4312 rows × 1 columns</p>\n",
       "</div>"
      ],
      "text/plain": [
       "            Date\n",
       "0     2013-01-01\n",
       "1     2013-01-02\n",
       "2     2013-01-03\n",
       "3     2013-01-04\n",
       "4     2013-01-05\n",
       "...          ...\n",
       "4307  2024-10-17\n",
       "4308  2024-10-18\n",
       "4309  2024-10-19\n",
       "4310  2024-10-20\n",
       "4311  2024-10-21\n",
       "\n",
       "[4312 rows x 1 columns]"
      ]
     },
     "execution_count": 12,
     "metadata": {},
     "output_type": "execute_result"
    }
   ],
   "source": [
    "dates = create_daily_date_list(start_date, end_date)\n",
    "\n",
    "date_range = pd.DataFrame(dates, columns=[\"Date\"]) \n",
    "\n",
    "date_range"
   ]
  },
  {
   "cell_type": "code",
   "execution_count": 13,
   "metadata": {
    "scrolled": false
   },
   "outputs": [
    {
     "data": {
      "text/html": [
       "<div>\n",
       "<style scoped>\n",
       "    .dataframe tbody tr th:only-of-type {\n",
       "        vertical-align: middle;\n",
       "    }\n",
       "\n",
       "    .dataframe tbody tr th {\n",
       "        vertical-align: top;\n",
       "    }\n",
       "\n",
       "    .dataframe thead th {\n",
       "        text-align: right;\n",
       "    }\n",
       "</style>\n",
       "<table border=\"1\" class=\"dataframe\">\n",
       "  <thead>\n",
       "    <tr style=\"text-align: right;\">\n",
       "      <th></th>\n",
       "      <th>Date</th>\n",
       "      <th>Open</th>\n",
       "      <th>High</th>\n",
       "      <th>Low</th>\n",
       "      <th>Close</th>\n",
       "      <th>Volume</th>\n",
       "      <th>Dividends</th>\n",
       "      <th>Stock Splits</th>\n",
       "    </tr>\n",
       "  </thead>\n",
       "  <tbody>\n",
       "    <tr>\n",
       "      <th>0</th>\n",
       "      <td>2013-01-01</td>\n",
       "      <td>NaN</td>\n",
       "      <td>NaN</td>\n",
       "      <td>NaN</td>\n",
       "      <td>NaN</td>\n",
       "      <td>NaN</td>\n",
       "      <td>NaN</td>\n",
       "      <td>NaN</td>\n",
       "    </tr>\n",
       "    <tr>\n",
       "      <th>1</th>\n",
       "      <td>2013-01-02</td>\n",
       "      <td>58.742809</td>\n",
       "      <td>59.455055</td>\n",
       "      <td>58.564743</td>\n",
       "      <td>59.455055</td>\n",
       "      <td>1824000.0</td>\n",
       "      <td>0.0</td>\n",
       "      <td>0.0</td>\n",
       "    </tr>\n",
       "    <tr>\n",
       "      <th>2</th>\n",
       "      <td>2013-01-03</td>\n",
       "      <td>58.751698</td>\n",
       "      <td>59.018794</td>\n",
       "      <td>57.923707</td>\n",
       "      <td>58.208607</td>\n",
       "      <td>1725400.0</td>\n",
       "      <td>0.0</td>\n",
       "      <td>0.0</td>\n",
       "    </tr>\n",
       "    <tr>\n",
       "      <th>3</th>\n",
       "      <td>2013-01-04</td>\n",
       "      <td>57.549792</td>\n",
       "      <td>57.914824</td>\n",
       "      <td>57.291601</td>\n",
       "      <td>57.612114</td>\n",
       "      <td>3170800.0</td>\n",
       "      <td>0.0</td>\n",
       "      <td>0.0</td>\n",
       "    </tr>\n",
       "    <tr>\n",
       "      <th>4</th>\n",
       "      <td>2013-01-05</td>\n",
       "      <td>NaN</td>\n",
       "      <td>NaN</td>\n",
       "      <td>NaN</td>\n",
       "      <td>NaN</td>\n",
       "      <td>NaN</td>\n",
       "      <td>NaN</td>\n",
       "      <td>NaN</td>\n",
       "    </tr>\n",
       "    <tr>\n",
       "      <th>...</th>\n",
       "      <td>...</td>\n",
       "      <td>...</td>\n",
       "      <td>...</td>\n",
       "      <td>...</td>\n",
       "      <td>...</td>\n",
       "      <td>...</td>\n",
       "      <td>...</td>\n",
       "      <td>...</td>\n",
       "    </tr>\n",
       "    <tr>\n",
       "      <th>4307</th>\n",
       "      <td>2024-10-17</td>\n",
       "      <td>692.640015</td>\n",
       "      <td>703.880005</td>\n",
       "      <td>677.119995</td>\n",
       "      <td>700.599976</td>\n",
       "      <td>7209100.0</td>\n",
       "      <td>0.0</td>\n",
       "      <td>0.0</td>\n",
       "    </tr>\n",
       "    <tr>\n",
       "      <th>4308</th>\n",
       "      <td>2024-10-18</td>\n",
       "      <td>717.669983</td>\n",
       "      <td>726.460022</td>\n",
       "      <td>713.179993</td>\n",
       "      <td>723.260010</td>\n",
       "      <td>4535700.0</td>\n",
       "      <td>0.0</td>\n",
       "      <td>0.0</td>\n",
       "    </tr>\n",
       "    <tr>\n",
       "      <th>4309</th>\n",
       "      <td>2024-10-19</td>\n",
       "      <td>NaN</td>\n",
       "      <td>NaN</td>\n",
       "      <td>NaN</td>\n",
       "      <td>NaN</td>\n",
       "      <td>NaN</td>\n",
       "      <td>NaN</td>\n",
       "      <td>NaN</td>\n",
       "    </tr>\n",
       "    <tr>\n",
       "      <th>4310</th>\n",
       "      <td>2024-10-20</td>\n",
       "      <td>NaN</td>\n",
       "      <td>NaN</td>\n",
       "      <td>NaN</td>\n",
       "      <td>NaN</td>\n",
       "      <td>NaN</td>\n",
       "      <td>NaN</td>\n",
       "      <td>NaN</td>\n",
       "    </tr>\n",
       "    <tr>\n",
       "      <th>4311</th>\n",
       "      <td>2024-10-21</td>\n",
       "      <td>NaN</td>\n",
       "      <td>NaN</td>\n",
       "      <td>NaN</td>\n",
       "      <td>NaN</td>\n",
       "      <td>NaN</td>\n",
       "      <td>NaN</td>\n",
       "      <td>NaN</td>\n",
       "    </tr>\n",
       "  </tbody>\n",
       "</table>\n",
       "<p>4312 rows × 8 columns</p>\n",
       "</div>"
      ],
      "text/plain": [
       "            Date        Open        High         Low       Close     Volume  \\\n",
       "0     2013-01-01         NaN         NaN         NaN         NaN        NaN   \n",
       "1     2013-01-02   58.742809   59.455055   58.564743   59.455055  1824000.0   \n",
       "2     2013-01-03   58.751698   59.018794   57.923707   58.208607  1725400.0   \n",
       "3     2013-01-04   57.549792   57.914824   57.291601   57.612114  3170800.0   \n",
       "4     2013-01-05         NaN         NaN         NaN         NaN        NaN   \n",
       "...          ...         ...         ...         ...         ...        ...   \n",
       "4307  2024-10-17  692.640015  703.880005  677.119995  700.599976  7209100.0   \n",
       "4308  2024-10-18  717.669983  726.460022  713.179993  723.260010  4535700.0   \n",
       "4309  2024-10-19         NaN         NaN         NaN         NaN        NaN   \n",
       "4310  2024-10-20         NaN         NaN         NaN         NaN        NaN   \n",
       "4311  2024-10-21         NaN         NaN         NaN         NaN        NaN   \n",
       "\n",
       "      Dividends  Stock Splits  \n",
       "0           NaN           NaN  \n",
       "1           0.0           0.0  \n",
       "2           0.0           0.0  \n",
       "3           0.0           0.0  \n",
       "4           NaN           NaN  \n",
       "...         ...           ...  \n",
       "4307        0.0           0.0  \n",
       "4308        0.0           0.0  \n",
       "4309        NaN           NaN  \n",
       "4310        NaN           NaN  \n",
       "4311        NaN           NaN  \n",
       "\n",
       "[4312 rows x 8 columns]"
      ]
     },
     "execution_count": 13,
     "metadata": {},
     "output_type": "execute_result"
    }
   ],
   "source": [
    "# Ensure the 'Date' columns in both DataFrames are in datetime format for merging\n",
    "historical_data['Date'] = pd.to_datetime(historical_data['Date']).dt.date\n",
    "date_range['Date'] = pd.to_datetime(date_range['Date']).dt.date\n",
    "\n",
    "# Perform the merge on the 'Date' column\n",
    "merged_data = pd.merge(date_range, historical_data, on='Date', how='left')\n",
    "\n",
    "merged_data"
   ]
  },
  {
   "cell_type": "markdown",
   "metadata": {},
   "source": [
    "We can see that there are null values because these are weekend dates. We are going to fill these null values doing a forward fill."
   ]
  },
  {
   "cell_type": "code",
   "execution_count": 14,
   "metadata": {},
   "outputs": [
    {
     "name": "stderr",
     "output_type": "stream",
     "text": [
      "C:\\Users\\Usuario\\AppData\\Local\\Temp\\ipykernel_3524\\4287163570.py:2: FutureWarning: DataFrame.fillna with 'method' is deprecated and will raise in a future version. Use obj.ffill() or obj.bfill() instead.\n",
      "  historical_data_complete = merged_data.fillna(method='ffill')\n"
     ]
    },
    {
     "data": {
      "text/html": [
       "<div>\n",
       "<style scoped>\n",
       "    .dataframe tbody tr th:only-of-type {\n",
       "        vertical-align: middle;\n",
       "    }\n",
       "\n",
       "    .dataframe tbody tr th {\n",
       "        vertical-align: top;\n",
       "    }\n",
       "\n",
       "    .dataframe thead th {\n",
       "        text-align: right;\n",
       "    }\n",
       "</style>\n",
       "<table border=\"1\" class=\"dataframe\">\n",
       "  <thead>\n",
       "    <tr style=\"text-align: right;\">\n",
       "      <th></th>\n",
       "      <th>Date</th>\n",
       "      <th>Open</th>\n",
       "      <th>High</th>\n",
       "      <th>Low</th>\n",
       "      <th>Close</th>\n",
       "      <th>Volume</th>\n",
       "      <th>Dividends</th>\n",
       "      <th>Stock Splits</th>\n",
       "    </tr>\n",
       "  </thead>\n",
       "  <tbody>\n",
       "    <tr>\n",
       "      <th>0</th>\n",
       "      <td>2013-01-02</td>\n",
       "      <td>58.742809</td>\n",
       "      <td>59.455055</td>\n",
       "      <td>58.564743</td>\n",
       "      <td>59.455055</td>\n",
       "      <td>1824000.0</td>\n",
       "      <td>0.0</td>\n",
       "      <td>0.0</td>\n",
       "    </tr>\n",
       "    <tr>\n",
       "      <th>1</th>\n",
       "      <td>2013-01-03</td>\n",
       "      <td>58.751698</td>\n",
       "      <td>59.018794</td>\n",
       "      <td>57.923707</td>\n",
       "      <td>58.208607</td>\n",
       "      <td>1725400.0</td>\n",
       "      <td>0.0</td>\n",
       "      <td>0.0</td>\n",
       "    </tr>\n",
       "    <tr>\n",
       "      <th>2</th>\n",
       "      <td>2013-01-04</td>\n",
       "      <td>57.549792</td>\n",
       "      <td>57.914824</td>\n",
       "      <td>57.291601</td>\n",
       "      <td>57.612114</td>\n",
       "      <td>3170800.0</td>\n",
       "      <td>0.0</td>\n",
       "      <td>0.0</td>\n",
       "    </tr>\n",
       "    <tr>\n",
       "      <th>3</th>\n",
       "      <td>2013-01-05</td>\n",
       "      <td>57.549792</td>\n",
       "      <td>57.914824</td>\n",
       "      <td>57.291601</td>\n",
       "      <td>57.612114</td>\n",
       "      <td>3170800.0</td>\n",
       "      <td>0.0</td>\n",
       "      <td>0.0</td>\n",
       "    </tr>\n",
       "    <tr>\n",
       "      <th>4</th>\n",
       "      <td>2013-01-06</td>\n",
       "      <td>57.549792</td>\n",
       "      <td>57.914824</td>\n",
       "      <td>57.291601</td>\n",
       "      <td>57.612114</td>\n",
       "      <td>3170800.0</td>\n",
       "      <td>0.0</td>\n",
       "      <td>0.0</td>\n",
       "    </tr>\n",
       "    <tr>\n",
       "      <th>...</th>\n",
       "      <td>...</td>\n",
       "      <td>...</td>\n",
       "      <td>...</td>\n",
       "      <td>...</td>\n",
       "      <td>...</td>\n",
       "      <td>...</td>\n",
       "      <td>...</td>\n",
       "      <td>...</td>\n",
       "    </tr>\n",
       "    <tr>\n",
       "      <th>4306</th>\n",
       "      <td>2024-10-17</td>\n",
       "      <td>692.640015</td>\n",
       "      <td>703.880005</td>\n",
       "      <td>677.119995</td>\n",
       "      <td>700.599976</td>\n",
       "      <td>7209100.0</td>\n",
       "      <td>0.0</td>\n",
       "      <td>0.0</td>\n",
       "    </tr>\n",
       "    <tr>\n",
       "      <th>4307</th>\n",
       "      <td>2024-10-18</td>\n",
       "      <td>717.669983</td>\n",
       "      <td>726.460022</td>\n",
       "      <td>713.179993</td>\n",
       "      <td>723.260010</td>\n",
       "      <td>4535700.0</td>\n",
       "      <td>0.0</td>\n",
       "      <td>0.0</td>\n",
       "    </tr>\n",
       "    <tr>\n",
       "      <th>4308</th>\n",
       "      <td>2024-10-19</td>\n",
       "      <td>717.669983</td>\n",
       "      <td>726.460022</td>\n",
       "      <td>713.179993</td>\n",
       "      <td>723.260010</td>\n",
       "      <td>4535700.0</td>\n",
       "      <td>0.0</td>\n",
       "      <td>0.0</td>\n",
       "    </tr>\n",
       "    <tr>\n",
       "      <th>4309</th>\n",
       "      <td>2024-10-20</td>\n",
       "      <td>717.669983</td>\n",
       "      <td>726.460022</td>\n",
       "      <td>713.179993</td>\n",
       "      <td>723.260010</td>\n",
       "      <td>4535700.0</td>\n",
       "      <td>0.0</td>\n",
       "      <td>0.0</td>\n",
       "    </tr>\n",
       "    <tr>\n",
       "      <th>4310</th>\n",
       "      <td>2024-10-21</td>\n",
       "      <td>717.669983</td>\n",
       "      <td>726.460022</td>\n",
       "      <td>713.179993</td>\n",
       "      <td>723.260010</td>\n",
       "      <td>4535700.0</td>\n",
       "      <td>0.0</td>\n",
       "      <td>0.0</td>\n",
       "    </tr>\n",
       "  </tbody>\n",
       "</table>\n",
       "<p>4311 rows × 8 columns</p>\n",
       "</div>"
      ],
      "text/plain": [
       "            Date        Open        High         Low       Close     Volume  \\\n",
       "0     2013-01-02   58.742809   59.455055   58.564743   59.455055  1824000.0   \n",
       "1     2013-01-03   58.751698   59.018794   57.923707   58.208607  1725400.0   \n",
       "2     2013-01-04   57.549792   57.914824   57.291601   57.612114  3170800.0   \n",
       "3     2013-01-05   57.549792   57.914824   57.291601   57.612114  3170800.0   \n",
       "4     2013-01-06   57.549792   57.914824   57.291601   57.612114  3170800.0   \n",
       "...          ...         ...         ...         ...         ...        ...   \n",
       "4306  2024-10-17  692.640015  703.880005  677.119995  700.599976  7209100.0   \n",
       "4307  2024-10-18  717.669983  726.460022  713.179993  723.260010  4535700.0   \n",
       "4308  2024-10-19  717.669983  726.460022  713.179993  723.260010  4535700.0   \n",
       "4309  2024-10-20  717.669983  726.460022  713.179993  723.260010  4535700.0   \n",
       "4310  2024-10-21  717.669983  726.460022  713.179993  723.260010  4535700.0   \n",
       "\n",
       "      Dividends  Stock Splits  \n",
       "0           0.0           0.0  \n",
       "1           0.0           0.0  \n",
       "2           0.0           0.0  \n",
       "3           0.0           0.0  \n",
       "4           0.0           0.0  \n",
       "...         ...           ...  \n",
       "4306        0.0           0.0  \n",
       "4307        0.0           0.0  \n",
       "4308        0.0           0.0  \n",
       "4309        0.0           0.0  \n",
       "4310        0.0           0.0  \n",
       "\n",
       "[4311 rows x 8 columns]"
      ]
     },
     "execution_count": 14,
     "metadata": {},
     "output_type": "execute_result"
    }
   ],
   "source": [
    "# Perform a forward fill to fill NaN values with the previous valid value\n",
    "historical_data_complete = merged_data.fillna(method='ffill')\n",
    "\n",
    "# Drop rows with NaN\n",
    "historical_data_complete = historical_data_complete.dropna().reset_index(drop=True)\n",
    "\n",
    "# Display the forward-filled DataFrame\n",
    "historical_data_complete"
   ]
  },
  {
   "cell_type": "markdown",
   "metadata": {},
   "source": [
    "We will just keep columns: Data and Close"
   ]
  },
  {
   "cell_type": "code",
   "execution_count": 15,
   "metadata": {},
   "outputs": [
    {
     "data": {
      "text/html": [
       "<div>\n",
       "<style scoped>\n",
       "    .dataframe tbody tr th:only-of-type {\n",
       "        vertical-align: middle;\n",
       "    }\n",
       "\n",
       "    .dataframe tbody tr th {\n",
       "        vertical-align: top;\n",
       "    }\n",
       "\n",
       "    .dataframe thead th {\n",
       "        text-align: right;\n",
       "    }\n",
       "</style>\n",
       "<table border=\"1\" class=\"dataframe\">\n",
       "  <thead>\n",
       "    <tr style=\"text-align: right;\">\n",
       "      <th></th>\n",
       "      <th>Date</th>\n",
       "      <th>Close</th>\n",
       "    </tr>\n",
       "  </thead>\n",
       "  <tbody>\n",
       "    <tr>\n",
       "      <th>0</th>\n",
       "      <td>2013-01-02</td>\n",
       "      <td>59.455055</td>\n",
       "    </tr>\n",
       "    <tr>\n",
       "      <th>1</th>\n",
       "      <td>2013-01-03</td>\n",
       "      <td>58.208607</td>\n",
       "    </tr>\n",
       "    <tr>\n",
       "      <th>2</th>\n",
       "      <td>2013-01-04</td>\n",
       "      <td>57.612114</td>\n",
       "    </tr>\n",
       "    <tr>\n",
       "      <th>3</th>\n",
       "      <td>2013-01-05</td>\n",
       "      <td>57.612114</td>\n",
       "    </tr>\n",
       "    <tr>\n",
       "      <th>4</th>\n",
       "      <td>2013-01-06</td>\n",
       "      <td>57.612114</td>\n",
       "    </tr>\n",
       "    <tr>\n",
       "      <th>...</th>\n",
       "      <td>...</td>\n",
       "      <td>...</td>\n",
       "    </tr>\n",
       "    <tr>\n",
       "      <th>4306</th>\n",
       "      <td>2024-10-17</td>\n",
       "      <td>700.599976</td>\n",
       "    </tr>\n",
       "    <tr>\n",
       "      <th>4307</th>\n",
       "      <td>2024-10-18</td>\n",
       "      <td>723.260010</td>\n",
       "    </tr>\n",
       "    <tr>\n",
       "      <th>4308</th>\n",
       "      <td>2024-10-19</td>\n",
       "      <td>723.260010</td>\n",
       "    </tr>\n",
       "    <tr>\n",
       "      <th>4309</th>\n",
       "      <td>2024-10-20</td>\n",
       "      <td>723.260010</td>\n",
       "    </tr>\n",
       "    <tr>\n",
       "      <th>4310</th>\n",
       "      <td>2024-10-21</td>\n",
       "      <td>723.260010</td>\n",
       "    </tr>\n",
       "  </tbody>\n",
       "</table>\n",
       "<p>4311 rows × 2 columns</p>\n",
       "</div>"
      ],
      "text/plain": [
       "            Date       Close\n",
       "0     2013-01-02   59.455055\n",
       "1     2013-01-03   58.208607\n",
       "2     2013-01-04   57.612114\n",
       "3     2013-01-05   57.612114\n",
       "4     2013-01-06   57.612114\n",
       "...          ...         ...\n",
       "4306  2024-10-17  700.599976\n",
       "4307  2024-10-18  723.260010\n",
       "4308  2024-10-19  723.260010\n",
       "4309  2024-10-20  723.260010\n",
       "4310  2024-10-21  723.260010\n",
       "\n",
       "[4311 rows x 2 columns]"
      ]
     },
     "execution_count": 15,
     "metadata": {},
     "output_type": "execute_result"
    }
   ],
   "source": [
    "# Keep only the 'Date' and 'Close' columns\n",
    "historical_data_complete = historical_data_complete[['Date', 'Close']]\n",
    "\n",
    "# Display the resulting DataFrame\n",
    "historical_data_complete"
   ]
  },
  {
   "cell_type": "markdown",
   "metadata": {},
   "source": [
    "### 2.5.4 Looking at seasonality"
   ]
  },
  {
   "cell_type": "code",
   "execution_count": 16,
   "metadata": {},
   "outputs": [],
   "source": [
    "historical_data_complete.reset_index(inplace=True)"
   ]
  },
  {
   "cell_type": "code",
   "execution_count": 17,
   "metadata": {
    "scrolled": false
   },
   "outputs": [
    {
     "data": {
      "text/plain": [
       "<Figure size 1200x800 with 0 Axes>"
      ]
     },
     "metadata": {},
     "output_type": "display_data"
    },
    {
     "data": {
      "image/png": "[encoded data removed]",
      "text/plain": [
       "<Figure size 640x480 with 1 Axes>"
      ]
     },
     "metadata": {},
     "output_type": "display_data"
    },
    {
     "data": {
      "text/plain": [
       "<Figure size 1200x800 with 0 Axes>"
      ]
     },
     "metadata": {},
     "output_type": "display_data"
    },
    {
     "data": {
      "image/png": "[encoded data removed]",
      "text/plain": [
       "<Figure size 640x480 with 1 Axes>"
      ]
     },
     "metadata": {},
     "output_type": "display_data"
    },
    {
     "data": {
      "text/plain": [
       "<Figure size 1200x800 with 0 Axes>"
      ]
     },
     "metadata": {},
     "output_type": "display_data"
    },
    {
     "data": {
      "image/png": "[encoded data removed]",
      "text/plain": [
       "<Figure size 640x480 with 1 Axes>"
      ]
     },
     "metadata": {},
     "output_type": "display_data"
    }
   ],
   "source": [
    "plot_stock_with_multiple_boxplots(historical_data_complete, company_name);"
   ]
  },
  {
   "cell_type": "markdown",
   "metadata": {},
   "source": [
    "With the results above, we cannot determine if there is any clear seasonality. "
   ]
  },
  {
   "cell_type": "markdown",
   "metadata": {},
   "source": [
    "### 2.5.5 Choosing the time series of our dataset"
   ]
  },
  {
   "cell_type": "markdown",
   "metadata": {},
   "source": [
    "Let's plot the time series doing different groubys to decide what we're going to work with. Having in mind our business case and the data points that we have."
   ]
  },
  {
   "cell_type": "code",
   "execution_count": 18,
   "metadata": {
    "scrolled": false
   },
   "outputs": [
    {
     "name": "stdout",
     "output_type": "stream",
     "text": [
      "Number of daily data points: 4311\n",
      "Number of weekly data points: 617\n",
      "Number of monthly data points: 142\n"
     ]
    },
    {
     "name": "stderr",
     "output_type": "stream",
     "text": [
      "C:\\Users\\Usuario\\AppData\\Local\\Temp\\ipykernel_3524\\1328084169.py:26: FutureWarning: 'M' is deprecated and will be removed in a future version, please use 'ME' instead.\n",
      "  monthly_data = historical_data.resample('M').median()\n"
     ]
    },
    {
     "data": {
      "image/png": "[encoded data removed]",
      "text/plain": [
       "<Figure size 1000x600 with 1 Axes>"
      ]
     },
     "metadata": {},
     "output_type": "display_data"
    },
    {
     "data": {
      "image/png": "[encoded data removed]",
      "text/plain": [
       "<Figure size 1000x600 with 1 Axes>"
      ]
     },
     "metadata": {},
     "output_type": "display_data"
    },
    {
     "data": {
      "image/png": "[encoded data removed]",
      "text/plain": [
       "<Figure size 1000x600 with 1 Axes>"
      ]
     },
     "metadata": {},
     "output_type": "display_data"
    }
   ],
   "source": [
    "# Call function to plot the data\n",
    "plot_stock_by_period(historical_data_complete, company_name)"
   ]
  },
  {
   "cell_type": "markdown",
   "metadata": {},
   "source": [
    "We are going to transform the data. Based on out business case we are going to choose the weekly data because we want to give weekly predictions."
   ]
  },
  {
   "cell_type": "code",
   "execution_count": 19,
   "metadata": {},
   "outputs": [
    {
     "data": {
      "text/html": [
       "<div>\n",
       "<style scoped>\n",
       "    .dataframe tbody tr th:only-of-type {\n",
       "        vertical-align: middle;\n",
       "    }\n",
       "\n",
       "    .dataframe tbody tr th {\n",
       "        vertical-align: top;\n",
       "    }\n",
       "\n",
       "    .dataframe thead th {\n",
       "        text-align: right;\n",
       "    }\n",
       "</style>\n",
       "<table border=\"1\" class=\"dataframe\">\n",
       "  <thead>\n",
       "    <tr style=\"text-align: right;\">\n",
       "      <th></th>\n",
       "      <th>index</th>\n",
       "      <th>Close</th>\n",
       "      <th>Weekday</th>\n",
       "      <th>Month</th>\n",
       "      <th>Quarter</th>\n",
       "    </tr>\n",
       "    <tr>\n",
       "      <th>Date</th>\n",
       "      <th></th>\n",
       "      <th></th>\n",
       "      <th></th>\n",
       "      <th></th>\n",
       "      <th></th>\n",
       "    </tr>\n",
       "  </thead>\n",
       "  <tbody>\n",
       "    <tr>\n",
       "      <th>2013-01-02</th>\n",
       "      <td>0</td>\n",
       "      <td>59.455055</td>\n",
       "      <td>2</td>\n",
       "      <td>1</td>\n",
       "      <td>1</td>\n",
       "    </tr>\n",
       "    <tr>\n",
       "      <th>2013-01-03</th>\n",
       "      <td>1</td>\n",
       "      <td>58.208607</td>\n",
       "      <td>3</td>\n",
       "      <td>1</td>\n",
       "      <td>1</td>\n",
       "    </tr>\n",
       "    <tr>\n",
       "      <th>2013-01-04</th>\n",
       "      <td>2</td>\n",
       "      <td>57.612114</td>\n",
       "      <td>4</td>\n",
       "      <td>1</td>\n",
       "      <td>1</td>\n",
       "    </tr>\n",
       "    <tr>\n",
       "      <th>2013-01-05</th>\n",
       "      <td>3</td>\n",
       "      <td>57.612114</td>\n",
       "      <td>5</td>\n",
       "      <td>1</td>\n",
       "      <td>1</td>\n",
       "    </tr>\n",
       "    <tr>\n",
       "      <th>2013-01-06</th>\n",
       "      <td>4</td>\n",
       "      <td>57.612114</td>\n",
       "      <td>6</td>\n",
       "      <td>1</td>\n",
       "      <td>1</td>\n",
       "    </tr>\n",
       "    <tr>\n",
       "      <th>...</th>\n",
       "      <td>...</td>\n",
       "      <td>...</td>\n",
       "      <td>...</td>\n",
       "      <td>...</td>\n",
       "      <td>...</td>\n",
       "    </tr>\n",
       "    <tr>\n",
       "      <th>2024-10-17</th>\n",
       "      <td>4306</td>\n",
       "      <td>700.599976</td>\n",
       "      <td>3</td>\n",
       "      <td>10</td>\n",
       "      <td>4</td>\n",
       "    </tr>\n",
       "    <tr>\n",
       "      <th>2024-10-18</th>\n",
       "      <td>4307</td>\n",
       "      <td>723.260010</td>\n",
       "      <td>4</td>\n",
       "      <td>10</td>\n",
       "      <td>4</td>\n",
       "    </tr>\n",
       "    <tr>\n",
       "      <th>2024-10-19</th>\n",
       "      <td>4308</td>\n",
       "      <td>723.260010</td>\n",
       "      <td>5</td>\n",
       "      <td>10</td>\n",
       "      <td>4</td>\n",
       "    </tr>\n",
       "    <tr>\n",
       "      <th>2024-10-20</th>\n",
       "      <td>4309</td>\n",
       "      <td>723.260010</td>\n",
       "      <td>6</td>\n",
       "      <td>10</td>\n",
       "      <td>4</td>\n",
       "    </tr>\n",
       "    <tr>\n",
       "      <th>2024-10-21</th>\n",
       "      <td>4310</td>\n",
       "      <td>723.260010</td>\n",
       "      <td>0</td>\n",
       "      <td>10</td>\n",
       "      <td>4</td>\n",
       "    </tr>\n",
       "  </tbody>\n",
       "</table>\n",
       "<p>4311 rows × 5 columns</p>\n",
       "</div>"
      ],
      "text/plain": [
       "            index       Close  Weekday  Month  Quarter\n",
       "Date                                                  \n",
       "2013-01-02      0   59.455055        2      1        1\n",
       "2013-01-03      1   58.208607        3      1        1\n",
       "2013-01-04      2   57.612114        4      1        1\n",
       "2013-01-05      3   57.612114        5      1        1\n",
       "2013-01-06      4   57.612114        6      1        1\n",
       "...           ...         ...      ...    ...      ...\n",
       "2024-10-17   4306  700.599976        3     10        4\n",
       "2024-10-18   4307  723.260010        4     10        4\n",
       "2024-10-19   4308  723.260010        5     10        4\n",
       "2024-10-20   4309  723.260010        6     10        4\n",
       "2024-10-21   4310  723.260010        0     10        4\n",
       "\n",
       "[4311 rows x 5 columns]"
      ]
     },
     "execution_count": 19,
     "metadata": {},
     "output_type": "execute_result"
    }
   ],
   "source": [
    "historical_data_complete"
   ]
  },
  {
   "cell_type": "markdown",
   "metadata": {},
   "source": [
    "We are going to eliminate the week end date to avoid distorsions on the weekly data calculus"
   ]
  },
  {
   "cell_type": "code",
   "execution_count": 20,
   "metadata": {},
   "outputs": [],
   "source": [
    "# Filter the dataframe to exclude weekends\n",
    "historical_data_complete = historical_data_complete[historical_data_complete.index.weekday < 5]"
   ]
  },
  {
   "cell_type": "code",
   "execution_count": 21,
   "metadata": {},
   "outputs": [
    {
     "data": {
      "text/html": [
       "<div>\n",
       "<style scoped>\n",
       "    .dataframe tbody tr th:only-of-type {\n",
       "        vertical-align: middle;\n",
       "    }\n",
       "\n",
       "    .dataframe tbody tr th {\n",
       "        vertical-align: top;\n",
       "    }\n",
       "\n",
       "    .dataframe thead th {\n",
       "        text-align: right;\n",
       "    }\n",
       "</style>\n",
       "<table border=\"1\" class=\"dataframe\">\n",
       "  <thead>\n",
       "    <tr style=\"text-align: right;\">\n",
       "      <th></th>\n",
       "      <th>index</th>\n",
       "      <th>Close</th>\n",
       "      <th>Weekday</th>\n",
       "      <th>Month</th>\n",
       "      <th>Quarter</th>\n",
       "    </tr>\n",
       "    <tr>\n",
       "      <th>Date</th>\n",
       "      <th></th>\n",
       "      <th></th>\n",
       "      <th></th>\n",
       "      <th></th>\n",
       "      <th></th>\n",
       "    </tr>\n",
       "  </thead>\n",
       "  <tbody>\n",
       "    <tr>\n",
       "      <th>2013-01-02</th>\n",
       "      <td>0</td>\n",
       "      <td>59.455055</td>\n",
       "      <td>2</td>\n",
       "      <td>1</td>\n",
       "      <td>1</td>\n",
       "    </tr>\n",
       "    <tr>\n",
       "      <th>2013-01-03</th>\n",
       "      <td>1</td>\n",
       "      <td>58.208607</td>\n",
       "      <td>3</td>\n",
       "      <td>1</td>\n",
       "      <td>1</td>\n",
       "    </tr>\n",
       "    <tr>\n",
       "      <th>2013-01-04</th>\n",
       "      <td>2</td>\n",
       "      <td>57.612114</td>\n",
       "      <td>4</td>\n",
       "      <td>1</td>\n",
       "      <td>1</td>\n",
       "    </tr>\n",
       "    <tr>\n",
       "      <th>2013-01-07</th>\n",
       "      <td>5</td>\n",
       "      <td>56.677265</td>\n",
       "      <td>0</td>\n",
       "      <td>1</td>\n",
       "      <td>1</td>\n",
       "    </tr>\n",
       "    <tr>\n",
       "      <th>2013-01-08</th>\n",
       "      <td>6</td>\n",
       "      <td>56.214302</td>\n",
       "      <td>1</td>\n",
       "      <td>1</td>\n",
       "      <td>1</td>\n",
       "    </tr>\n",
       "    <tr>\n",
       "      <th>...</th>\n",
       "      <td>...</td>\n",
       "      <td>...</td>\n",
       "      <td>...</td>\n",
       "      <td>...</td>\n",
       "      <td>...</td>\n",
       "    </tr>\n",
       "    <tr>\n",
       "      <th>2024-10-15</th>\n",
       "      <td>4304</td>\n",
       "      <td>730.429993</td>\n",
       "      <td>1</td>\n",
       "      <td>10</td>\n",
       "      <td>4</td>\n",
       "    </tr>\n",
       "    <tr>\n",
       "      <th>2024-10-16</th>\n",
       "      <td>4305</td>\n",
       "      <td>683.520020</td>\n",
       "      <td>2</td>\n",
       "      <td>10</td>\n",
       "      <td>4</td>\n",
       "    </tr>\n",
       "    <tr>\n",
       "      <th>2024-10-17</th>\n",
       "      <td>4306</td>\n",
       "      <td>700.599976</td>\n",
       "      <td>3</td>\n",
       "      <td>10</td>\n",
       "      <td>4</td>\n",
       "    </tr>\n",
       "    <tr>\n",
       "      <th>2024-10-18</th>\n",
       "      <td>4307</td>\n",
       "      <td>723.260010</td>\n",
       "      <td>4</td>\n",
       "      <td>10</td>\n",
       "      <td>4</td>\n",
       "    </tr>\n",
       "    <tr>\n",
       "      <th>2024-10-21</th>\n",
       "      <td>4310</td>\n",
       "      <td>723.260010</td>\n",
       "      <td>0</td>\n",
       "      <td>10</td>\n",
       "      <td>4</td>\n",
       "    </tr>\n",
       "  </tbody>\n",
       "</table>\n",
       "<p>3079 rows × 5 columns</p>\n",
       "</div>"
      ],
      "text/plain": [
       "            index       Close  Weekday  Month  Quarter\n",
       "Date                                                  \n",
       "2013-01-02      0   59.455055        2      1        1\n",
       "2013-01-03      1   58.208607        3      1        1\n",
       "2013-01-04      2   57.612114        4      1        1\n",
       "2013-01-07      5   56.677265        0      1        1\n",
       "2013-01-08      6   56.214302        1      1        1\n",
       "...           ...         ...      ...    ...      ...\n",
       "2024-10-15   4304  730.429993        1     10        4\n",
       "2024-10-16   4305  683.520020        2     10        4\n",
       "2024-10-17   4306  700.599976        3     10        4\n",
       "2024-10-18   4307  723.260010        4     10        4\n",
       "2024-10-21   4310  723.260010        0     10        4\n",
       "\n",
       "[3079 rows x 5 columns]"
      ]
     },
     "execution_count": 21,
     "metadata": {},
     "output_type": "execute_result"
    }
   ],
   "source": [
    "historical_data_complete"
   ]
  },
  {
   "cell_type": "code",
   "execution_count": 22,
   "metadata": {},
   "outputs": [],
   "source": [
    "# Set 'Date' as the DataFrame index\n",
    "# historical_data_complete.set_index('Date', inplace=True)\n",
    "weekly_data = historical_data_complete.resample('W').median()"
   ]
  },
  {
   "cell_type": "code",
   "execution_count": 23,
   "metadata": {},
   "outputs": [
    {
     "data": {
      "text/html": [
       "<div>\n",
       "<style scoped>\n",
       "    .dataframe tbody tr th:only-of-type {\n",
       "        vertical-align: middle;\n",
       "    }\n",
       "\n",
       "    .dataframe tbody tr th {\n",
       "        vertical-align: top;\n",
       "    }\n",
       "\n",
       "    .dataframe thead th {\n",
       "        text-align: right;\n",
       "    }\n",
       "</style>\n",
       "<table border=\"1\" class=\"dataframe\">\n",
       "  <thead>\n",
       "    <tr style=\"text-align: right;\">\n",
       "      <th></th>\n",
       "      <th>Close</th>\n",
       "    </tr>\n",
       "    <tr>\n",
       "      <th>Date</th>\n",
       "      <th></th>\n",
       "    </tr>\n",
       "  </thead>\n",
       "  <tbody>\n",
       "    <tr>\n",
       "      <th>2013-01-06</th>\n",
       "      <td>58.208607</td>\n",
       "    </tr>\n",
       "    <tr>\n",
       "      <th>2013-01-13</th>\n",
       "      <td>56.677265</td>\n",
       "    </tr>\n",
       "    <tr>\n",
       "      <th>2013-01-20</th>\n",
       "      <td>57.336109</td>\n",
       "    </tr>\n",
       "    <tr>\n",
       "      <th>2013-01-27</th>\n",
       "      <td>62.250618</td>\n",
       "    </tr>\n",
       "    <tr>\n",
       "      <th>2013-02-03</th>\n",
       "      <td>67.013779</td>\n",
       "    </tr>\n",
       "    <tr>\n",
       "      <th>...</th>\n",
       "      <td>...</td>\n",
       "    </tr>\n",
       "    <tr>\n",
       "      <th>2024-09-29</th>\n",
       "      <td>818.179993</td>\n",
       "    </tr>\n",
       "    <tr>\n",
       "      <th>2024-10-06</th>\n",
       "      <td>832.409973</td>\n",
       "    </tr>\n",
       "    <tr>\n",
       "      <th>2024-10-13</th>\n",
       "      <td>833.969971</td>\n",
       "    </tr>\n",
       "    <tr>\n",
       "      <th>2024-10-20</th>\n",
       "      <td>723.260010</td>\n",
       "    </tr>\n",
       "    <tr>\n",
       "      <th>2024-10-27</th>\n",
       "      <td>723.260010</td>\n",
       "    </tr>\n",
       "  </tbody>\n",
       "</table>\n",
       "<p>617 rows × 1 columns</p>\n",
       "</div>"
      ],
      "text/plain": [
       "                 Close\n",
       "Date                  \n",
       "2013-01-06   58.208607\n",
       "2013-01-13   56.677265\n",
       "2013-01-20   57.336109\n",
       "2013-01-27   62.250618\n",
       "2013-02-03   67.013779\n",
       "...                ...\n",
       "2024-09-29  818.179993\n",
       "2024-10-06  832.409973\n",
       "2024-10-13  833.969971\n",
       "2024-10-20  723.260010\n",
       "2024-10-27  723.260010\n",
       "\n",
       "[617 rows x 1 columns]"
      ]
     },
     "execution_count": 23,
     "metadata": {},
     "output_type": "execute_result"
    }
   ],
   "source": [
    "weekly_data = weekly_data[['Close']]\n",
    "weekly_data"
   ]
  },
  {
   "cell_type": "markdown",
   "metadata": {},
   "source": [
    "# 3. Export the data"
   ]
  },
  {
   "cell_type": "code",
   "execution_count": 30,
   "metadata": {
    "scrolled": true
   },
   "outputs": [],
   "source": [
    "# We just want the \"Close\" column\n",
    "weekly_data = weekly_data.drop(['Z_score','Returns'], axis=1)\n",
    "# Export the weekly_data to a CSV file\n",
    "weekly_data.to_csv(output_data, index=True, sep=';')"
   ]
  }
 ],
 "metadata": {
  "kernelspec": {
   "display_name": "forecastingv2",
   "language": "python",
   "name": "forecastingv2"
  },
  "language_info": {
   "codemirror_mode": {
    "name": "ipython",
    "version": 3
   },
   "file_extension": ".py",
   "mimetype": "text/x-python",
   "name": "python",
   "nbconvert_exporter": "python",
   "pygments_lexer": "ipython3",
   "version": "3.12.3"
  }
 },
 "nbformat": 4,
 "nbformat_minor": 4
}
