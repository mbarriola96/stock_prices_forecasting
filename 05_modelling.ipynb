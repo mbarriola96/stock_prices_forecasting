{
 "cells": [
  {
   "cell_type": "markdown",
   "metadata": {},
   "source": [
    "# 1. Overview"
   ]
  },
  {
   "cell_type": "markdown",
   "metadata": {},
   "source": [
    "The notebook describes a modeling approach for forecasting ASML stock prices, exploring SARIMAX, Prophet, XGBoost, and Random Forest models. Data transformations ensured stationarity, with Prophet achieving the best results using exogenous variables. Models were evaluated based on RMSE and MAPE metrics, and after fine-tuning, Prophet showed significant performance improvement, thus selected as the primary model. The final model parameters were saved for future use, ensuring a robust forecasting framework incorporating market conditions and external factors."
   ]
  },
  {
   "cell_type": "markdown",
   "metadata": {},
   "source": [
    "# 2. Forecasting"
   ]
  },
  {
   "cell_type": "markdown",
   "metadata": {},
   "source": [
    "## 2.1 Import Libraries"
   ]
  },
  {
   "cell_type": "code",
   "execution_count": 1,
   "metadata": {},
   "outputs": [],
   "source": [
    "# pip install prophet"
   ]
  },
  {
   "cell_type": "code",
   "execution_count": 2,
   "metadata": {},
   "outputs": [
    {
     "name": "stderr",
     "output_type": "stream",
     "text": [
      "C:\\Users\\Usuario\\anaconda3\\envs\\forecastingv2\\Lib\\site-packages\\tqdm\\auto.py:21: TqdmWarning: IProgress not found. Please update jupyter and ipywidgets. See https://ipywidgets.readthedocs.io/en/stable/user_install.html\n",
      "  from .autonotebook import tqdm as notebook_tqdm\n",
      "Importing plotly failed. Interactive plots will not work.\n"
     ]
    }
   ],
   "source": [
    "import pandas as pd\n",
    "import matplotlib.pyplot as plt\n",
    "import numpy as np\n",
    "import logging\n",
    "import itertools\n",
    "import joblib\n",
    "import json\n",
    "import pickle\n",
    "from statsmodels.tsa.stattools import adfuller\n",
    "from statsmodels.tsa.statespace.sarimax import SARIMAX\n",
    "from sklearn.ensemble import RandomForestRegressor\n",
    "from xgboost import XGBRegressor\n",
    "from prophet import Prophet\n",
    "from statsmodels.tsa.holtwinters import ExponentialSmoothing\n",
    "from sktime.forecasting.naive import NaiveForecaster\n",
    "from sktime.utils.plotting import plot_series\n",
    "from sklearn.metrics import mean_absolute_percentage_error, root_mean_squared_error\n",
    "from sklearn.model_selection import GridSearchCV, ParameterGrid\n",
    "\n",
    "# Desactivar logs de Prophet\n",
    "logging.getLogger('cmdstanpy').disabled = True"
   ]
  },
  {
   "cell_type": "markdown",
   "metadata": {},
   "source": [
    "## 2.2 Define Global variables"
   ]
  },
  {
   "cell_type": "code",
   "execution_count": 3,
   "metadata": {},
   "outputs": [],
   "source": [
    "input_data = 'data/weekly_data_combination.csv'\n",
    "output_model_path = 'models/prophet_asml_combination_with_suppliers.pkl'\n",
    "output_best_params_path = 'data/best_prophet_params.json'\n",
    "output_best_variables_path = 'data/best_prophet_variables_with_suppliers.json'\n",
    "output_regressors_path = 'data/best_regressors.json'\n",
    "output_start_data_and_test_weeks_path = 'data/start_data_and_test_weeks.pkl'"
   ]
  },
  {
   "cell_type": "markdown",
   "metadata": {},
   "source": [
    "## 2.3 Functions"
   ]
  },
  {
   "cell_type": "code",
   "execution_count": 4,
   "metadata": {},
   "outputs": [],
   "source": [
    "# Feature engineering for time series\n",
    "def create_features(df):\n",
    "    \"\"\"\n",
    "    Create time-based features for time series data.\n",
    "    \n",
    "    Input:\n",
    "    - df: DataFrame with a datetime index and a single column for the target variable.\n",
    "\n",
    "    Output:\n",
    "    - df: DataFrame with added columns for year, month, week of the year, quarter, and cuatrimestre.\n",
    "\n",
    "    Logic:\n",
    "    - Extracts the 'year', 'month', 'week_of_year', 'quarter', and 'cuatrimestre' \n",
    "      from the datetime index to create additional time-based features.\n",
    "    \"\"\"\n",
    "    df = df.copy()  # Create a copy of the DataFrame to avoid the warning\n",
    "    df['year'] = df.index.year            # Extract year from the date\n",
    "    df['month'] = df.index.month          # Extract month from the date\n",
    "    df['week_of_year'] = df.index.isocalendar().week  # Extract week of the year from the date\n",
    "    df['quarter'] = df.index.quarter      # Extract quarter from the date\n",
    "    df['cuatrimestre'] = ((df.index.month - 1) // 4) + 1  # Calculate cuatrimestre (four-month period)\n",
    "    return df"
   ]
  },
  {
   "cell_type": "markdown",
   "metadata": {},
   "source": [
    "## 2.4 Code"
   ]
  },
  {
   "cell_type": "markdown",
   "metadata": {},
   "source": [
    "Loading the data from notebook 04_data_preparation"
   ]
  },
  {
   "cell_type": "code",
   "execution_count": 5,
   "metadata": {},
   "outputs": [
    {
     "data": {
      "text/html": [
       "<div>\n",
       "<style scoped>\n",
       "    .dataframe tbody tr th:only-of-type {\n",
       "        vertical-align: middle;\n",
       "    }\n",
       "\n",
       "    .dataframe tbody tr th {\n",
       "        vertical-align: top;\n",
       "    }\n",
       "\n",
       "    .dataframe thead th {\n",
       "        text-align: right;\n",
       "    }\n",
       "</style>\n",
       "<table border=\"1\" class=\"dataframe\">\n",
       "  <thead>\n",
       "    <tr style=\"text-align: right;\">\n",
       "      <th></th>\n",
       "      <th>Close_ASML</th>\n",
       "      <th>Close_Carl_Zeiss_Meditec</th>\n",
       "      <th>Close_Lam_Research_Corporation</th>\n",
       "      <th>Close_Tokyo_Electron_Limited</th>\n",
       "      <th>COVID_Period</th>\n",
       "      <th>Geopolitical_Tension</th>\n",
       "      <th>Trade_Sanctions</th>\n",
       "      <th>Tech_Regulation</th>\n",
       "      <th>New_Product_Launch</th>\n",
       "      <th>Israel_Gaza_Conflict</th>\n",
       "    </tr>\n",
       "    <tr>\n",
       "      <th>Date</th>\n",
       "      <th></th>\n",
       "      <th></th>\n",
       "      <th></th>\n",
       "      <th></th>\n",
       "      <th></th>\n",
       "      <th></th>\n",
       "      <th></th>\n",
       "      <th></th>\n",
       "      <th></th>\n",
       "      <th></th>\n",
       "    </tr>\n",
       "  </thead>\n",
       "  <tbody>\n",
       "    <tr>\n",
       "      <th>2018-01-14</th>\n",
       "      <td>168.662354</td>\n",
       "      <td>60.946629</td>\n",
       "      <td>10.626075</td>\n",
       "      <td>32.766666</td>\n",
       "      <td>0</td>\n",
       "      <td>0</td>\n",
       "      <td>0</td>\n",
       "      <td>0</td>\n",
       "      <td>0</td>\n",
       "      <td>0</td>\n",
       "    </tr>\n",
       "    <tr>\n",
       "      <th>2018-01-21</th>\n",
       "      <td>185.736542</td>\n",
       "      <td>60.851772</td>\n",
       "      <td>11.380370</td>\n",
       "      <td>34.386667</td>\n",
       "      <td>0</td>\n",
       "      <td>0</td>\n",
       "      <td>0</td>\n",
       "      <td>0</td>\n",
       "      <td>0</td>\n",
       "      <td>0</td>\n",
       "    </tr>\n",
       "    <tr>\n",
       "      <th>2018-01-28</th>\n",
       "      <td>191.564713</td>\n",
       "      <td>61.373489</td>\n",
       "      <td>11.597983</td>\n",
       "      <td>34.026669</td>\n",
       "      <td>0</td>\n",
       "      <td>0</td>\n",
       "      <td>0</td>\n",
       "      <td>0</td>\n",
       "      <td>0</td>\n",
       "      <td>0</td>\n",
       "    </tr>\n",
       "    <tr>\n",
       "      <th>2018-02-04</th>\n",
       "      <td>187.825378</td>\n",
       "      <td>61.335560</td>\n",
       "      <td>10.593921</td>\n",
       "      <td>31.420000</td>\n",
       "      <td>0</td>\n",
       "      <td>0</td>\n",
       "      <td>0</td>\n",
       "      <td>0</td>\n",
       "      <td>0</td>\n",
       "      <td>0</td>\n",
       "    </tr>\n",
       "    <tr>\n",
       "      <th>2018-02-11</th>\n",
       "      <td>174.080200</td>\n",
       "      <td>58.831287</td>\n",
       "      <td>9.444603</td>\n",
       "      <td>28.526667</td>\n",
       "      <td>0</td>\n",
       "      <td>0</td>\n",
       "      <td>0</td>\n",
       "      <td>0</td>\n",
       "      <td>0</td>\n",
       "      <td>0</td>\n",
       "    </tr>\n",
       "  </tbody>\n",
       "</table>\n",
       "</div>"
      ],
      "text/plain": [
       "            Close_ASML  Close_Carl_Zeiss_Meditec  \\\n",
       "Date                                               \n",
       "2018-01-14  168.662354                 60.946629   \n",
       "2018-01-21  185.736542                 60.851772   \n",
       "2018-01-28  191.564713                 61.373489   \n",
       "2018-02-04  187.825378                 61.335560   \n",
       "2018-02-11  174.080200                 58.831287   \n",
       "\n",
       "            Close_Lam_Research_Corporation  Close_Tokyo_Electron_Limited  \\\n",
       "Date                                                                       \n",
       "2018-01-14                       10.626075                     32.766666   \n",
       "2018-01-21                       11.380370                     34.386667   \n",
       "2018-01-28                       11.597983                     34.026669   \n",
       "2018-02-04                       10.593921                     31.420000   \n",
       "2018-02-11                        9.444603                     28.526667   \n",
       "\n",
       "            COVID_Period  Geopolitical_Tension  Trade_Sanctions  \\\n",
       "Date                                                              \n",
       "2018-01-14             0                     0                0   \n",
       "2018-01-21             0                     0                0   \n",
       "2018-01-28             0                     0                0   \n",
       "2018-02-04             0                     0                0   \n",
       "2018-02-11             0                     0                0   \n",
       "\n",
       "            Tech_Regulation  New_Product_Launch  Israel_Gaza_Conflict  \n",
       "Date                                                                   \n",
       "2018-01-14                0                   0                     0  \n",
       "2018-01-21                0                   0                     0  \n",
       "2018-01-28                0                   0                     0  \n",
       "2018-02-04                0                   0                     0  \n",
       "2018-02-11                0                   0                     0  "
      ]
     },
     "execution_count": 5,
     "metadata": {},
     "output_type": "execute_result"
    }
   ],
   "source": [
    "weekly_data_combination = pd.read_csv(input_data, sep=';')\n",
    "\n",
    "# Ensure the 'Date' column is in datetime format\n",
    "weekly_data_combination['Date'] = pd.to_datetime(weekly_data_combination['Date'])\n",
    "\n",
    "# Set the 'Date' column as the index to make it a DatetimeIndex\n",
    "weekly_data_combination.set_index('Date', inplace=True)\n",
    "\n",
    "# Explicitly set the frequency of the Date index\n",
    "weekly_data_combination = weekly_data_combination.asfreq('W')\n",
    "\n",
    "\n",
    "weekly_data_combination.head()"
   ]
  },
  {
   "cell_type": "markdown",
   "metadata": {},
   "source": [
    "Read the start_data and test_weeks from notebook 01_data_understanding"
   ]
  },
  {
   "cell_type": "code",
   "execution_count": 6,
   "metadata": {},
   "outputs": [],
   "source": [
    "# Load the variables using pickle\n",
    "with open(output_start_data_and_test_weeks_path, 'rb') as f:\n",
    "    variables = pickle.load(f)\n",
    "\n",
    "# Extract the variables\n",
    "start_date = variables['start_date']\n",
    "test_weeks = variables['test_weeks']"
   ]
  },
  {
   "cell_type": "markdown",
   "metadata": {},
   "source": [
    "### 2.4.1 Train test split"
   ]
  },
  {
   "cell_type": "markdown",
   "metadata": {},
   "source": [
    "We are going to consider *test_weeks* as the number of weeks we want the test to have"
   ]
  },
  {
   "cell_type": "code",
   "execution_count": 7,
   "metadata": {
    "scrolled": false
   },
   "outputs": [
    {
     "data": {
      "text/html": [
       "<div>\n",
       "<style scoped>\n",
       "    .dataframe tbody tr th:only-of-type {\n",
       "        vertical-align: middle;\n",
       "    }\n",
       "\n",
       "    .dataframe tbody tr th {\n",
       "        vertical-align: top;\n",
       "    }\n",
       "\n",
       "    .dataframe thead th {\n",
       "        text-align: right;\n",
       "    }\n",
       "</style>\n",
       "<table border=\"1\" class=\"dataframe\">\n",
       "  <thead>\n",
       "    <tr style=\"text-align: right;\">\n",
       "      <th></th>\n",
       "      <th>Close_ASML</th>\n",
       "      <th>Close_Carl_Zeiss_Meditec</th>\n",
       "      <th>Close_Lam_Research_Corporation</th>\n",
       "      <th>Close_Tokyo_Electron_Limited</th>\n",
       "      <th>COVID_Period</th>\n",
       "      <th>Geopolitical_Tension</th>\n",
       "      <th>Trade_Sanctions</th>\n",
       "      <th>Tech_Regulation</th>\n",
       "      <th>New_Product_Launch</th>\n",
       "      <th>Israel_Gaza_Conflict</th>\n",
       "    </tr>\n",
       "    <tr>\n",
       "      <th>Date</th>\n",
       "      <th></th>\n",
       "      <th></th>\n",
       "      <th></th>\n",
       "      <th></th>\n",
       "      <th></th>\n",
       "      <th></th>\n",
       "      <th></th>\n",
       "      <th></th>\n",
       "      <th></th>\n",
       "      <th></th>\n",
       "    </tr>\n",
       "  </thead>\n",
       "  <tbody>\n",
       "    <tr>\n",
       "      <th>2018-01-14</th>\n",
       "      <td>168.662354</td>\n",
       "      <td>60.946629</td>\n",
       "      <td>10.626075</td>\n",
       "      <td>32.766666</td>\n",
       "      <td>0</td>\n",
       "      <td>0</td>\n",
       "      <td>0</td>\n",
       "      <td>0</td>\n",
       "      <td>0</td>\n",
       "      <td>0</td>\n",
       "    </tr>\n",
       "    <tr>\n",
       "      <th>2018-01-21</th>\n",
       "      <td>185.736542</td>\n",
       "      <td>60.851772</td>\n",
       "      <td>11.380370</td>\n",
       "      <td>34.386667</td>\n",
       "      <td>0</td>\n",
       "      <td>0</td>\n",
       "      <td>0</td>\n",
       "      <td>0</td>\n",
       "      <td>0</td>\n",
       "      <td>0</td>\n",
       "    </tr>\n",
       "    <tr>\n",
       "      <th>2018-01-28</th>\n",
       "      <td>191.564713</td>\n",
       "      <td>61.373489</td>\n",
       "      <td>11.597983</td>\n",
       "      <td>34.026669</td>\n",
       "      <td>0</td>\n",
       "      <td>0</td>\n",
       "      <td>0</td>\n",
       "      <td>0</td>\n",
       "      <td>0</td>\n",
       "      <td>0</td>\n",
       "    </tr>\n",
       "    <tr>\n",
       "      <th>2018-02-04</th>\n",
       "      <td>187.825378</td>\n",
       "      <td>61.335560</td>\n",
       "      <td>10.593921</td>\n",
       "      <td>31.420000</td>\n",
       "      <td>0</td>\n",
       "      <td>0</td>\n",
       "      <td>0</td>\n",
       "      <td>0</td>\n",
       "      <td>0</td>\n",
       "      <td>0</td>\n",
       "    </tr>\n",
       "    <tr>\n",
       "      <th>2018-02-11</th>\n",
       "      <td>174.080200</td>\n",
       "      <td>58.831287</td>\n",
       "      <td>9.444603</td>\n",
       "      <td>28.526667</td>\n",
       "      <td>0</td>\n",
       "      <td>0</td>\n",
       "      <td>0</td>\n",
       "      <td>0</td>\n",
       "      <td>0</td>\n",
       "      <td>0</td>\n",
       "    </tr>\n",
       "  </tbody>\n",
       "</table>\n",
       "</div>"
      ],
      "text/plain": [
       "            Close_ASML  Close_Carl_Zeiss_Meditec  \\\n",
       "Date                                               \n",
       "2018-01-14  168.662354                 60.946629   \n",
       "2018-01-21  185.736542                 60.851772   \n",
       "2018-01-28  191.564713                 61.373489   \n",
       "2018-02-04  187.825378                 61.335560   \n",
       "2018-02-11  174.080200                 58.831287   \n",
       "\n",
       "            Close_Lam_Research_Corporation  Close_Tokyo_Electron_Limited  \\\n",
       "Date                                                                       \n",
       "2018-01-14                       10.626075                     32.766666   \n",
       "2018-01-21                       11.380370                     34.386667   \n",
       "2018-01-28                       11.597983                     34.026669   \n",
       "2018-02-04                       10.593921                     31.420000   \n",
       "2018-02-11                        9.444603                     28.526667   \n",
       "\n",
       "            COVID_Period  Geopolitical_Tension  Trade_Sanctions  \\\n",
       "Date                                                              \n",
       "2018-01-14             0                     0                0   \n",
       "2018-01-21             0                     0                0   \n",
       "2018-01-28             0                     0                0   \n",
       "2018-02-04             0                     0                0   \n",
       "2018-02-11             0                     0                0   \n",
       "\n",
       "            Tech_Regulation  New_Product_Launch  Israel_Gaza_Conflict  \n",
       "Date                                                                   \n",
       "2018-01-14                0                   0                     0  \n",
       "2018-01-21                0                   0                     0  \n",
       "2018-01-28                0                   0                     0  \n",
       "2018-02-04                0                   0                     0  \n",
       "2018-02-11                0                   0                     0  "
      ]
     },
     "execution_count": 7,
     "metadata": {},
     "output_type": "execute_result"
    }
   ],
   "source": [
    "train_data = weekly_data_combination[:-test_weeks]\n",
    "train_data.head()"
   ]
  },
  {
   "cell_type": "code",
   "execution_count": 8,
   "metadata": {
    "scrolled": false
   },
   "outputs": [
    {
     "data": {
      "text/html": [
       "<div>\n",
       "<style scoped>\n",
       "    .dataframe tbody tr th:only-of-type {\n",
       "        vertical-align: middle;\n",
       "    }\n",
       "\n",
       "    .dataframe tbody tr th {\n",
       "        vertical-align: top;\n",
       "    }\n",
       "\n",
       "    .dataframe thead th {\n",
       "        text-align: right;\n",
       "    }\n",
       "</style>\n",
       "<table border=\"1\" class=\"dataframe\">\n",
       "  <thead>\n",
       "    <tr style=\"text-align: right;\">\n",
       "      <th></th>\n",
       "      <th>Close_ASML</th>\n",
       "      <th>Close_Carl_Zeiss_Meditec</th>\n",
       "      <th>Close_Lam_Research_Corporation</th>\n",
       "      <th>Close_Tokyo_Electron_Limited</th>\n",
       "      <th>COVID_Period</th>\n",
       "      <th>Geopolitical_Tension</th>\n",
       "      <th>Trade_Sanctions</th>\n",
       "      <th>Tech_Regulation</th>\n",
       "      <th>New_Product_Launch</th>\n",
       "      <th>Israel_Gaza_Conflict</th>\n",
       "    </tr>\n",
       "    <tr>\n",
       "      <th>Date</th>\n",
       "      <th></th>\n",
       "      <th></th>\n",
       "      <th></th>\n",
       "      <th></th>\n",
       "      <th></th>\n",
       "      <th></th>\n",
       "      <th></th>\n",
       "      <th></th>\n",
       "      <th></th>\n",
       "      <th></th>\n",
       "    </tr>\n",
       "  </thead>\n",
       "  <tbody>\n",
       "    <tr>\n",
       "      <th>2024-09-08</th>\n",
       "      <td>809.584839</td>\n",
       "      <td>66.605000</td>\n",
       "      <td>75.787483</td>\n",
       "      <td>79.215000</td>\n",
       "      <td>0</td>\n",
       "      <td>1</td>\n",
       "      <td>1</td>\n",
       "      <td>1</td>\n",
       "      <td>1</td>\n",
       "      <td>1</td>\n",
       "    </tr>\n",
       "    <tr>\n",
       "      <th>2024-09-15</th>\n",
       "      <td>798.271362</td>\n",
       "      <td>63.835999</td>\n",
       "      <td>74.551239</td>\n",
       "      <td>82.000000</td>\n",
       "      <td>0</td>\n",
       "      <td>1</td>\n",
       "      <td>1</td>\n",
       "      <td>1</td>\n",
       "      <td>1</td>\n",
       "      <td>1</td>\n",
       "    </tr>\n",
       "    <tr>\n",
       "      <th>2024-09-22</th>\n",
       "      <td>801.164551</td>\n",
       "      <td>65.324997</td>\n",
       "      <td>76.603996</td>\n",
       "      <td>83.349998</td>\n",
       "      <td>0</td>\n",
       "      <td>1</td>\n",
       "      <td>1</td>\n",
       "      <td>1</td>\n",
       "      <td>1</td>\n",
       "      <td>1</td>\n",
       "    </tr>\n",
       "    <tr>\n",
       "      <th>2024-09-29</th>\n",
       "      <td>816.269165</td>\n",
       "      <td>70.800003</td>\n",
       "      <td>80.375000</td>\n",
       "      <td>85.470001</td>\n",
       "      <td>0</td>\n",
       "      <td>1</td>\n",
       "      <td>1</td>\n",
       "      <td>1</td>\n",
       "      <td>1</td>\n",
       "      <td>1</td>\n",
       "    </tr>\n",
       "    <tr>\n",
       "      <th>2024-10-06</th>\n",
       "      <td>830.465942</td>\n",
       "      <td>74.760002</td>\n",
       "      <td>81.408997</td>\n",
       "      <td>88.830002</td>\n",
       "      <td>0</td>\n",
       "      <td>1</td>\n",
       "      <td>1</td>\n",
       "      <td>1</td>\n",
       "      <td>1</td>\n",
       "      <td>1</td>\n",
       "    </tr>\n",
       "  </tbody>\n",
       "</table>\n",
       "</div>"
      ],
      "text/plain": [
       "            Close_ASML  Close_Carl_Zeiss_Meditec  \\\n",
       "Date                                               \n",
       "2024-09-08  809.584839                 66.605000   \n",
       "2024-09-15  798.271362                 63.835999   \n",
       "2024-09-22  801.164551                 65.324997   \n",
       "2024-09-29  816.269165                 70.800003   \n",
       "2024-10-06  830.465942                 74.760002   \n",
       "\n",
       "            Close_Lam_Research_Corporation  Close_Tokyo_Electron_Limited  \\\n",
       "Date                                                                       \n",
       "2024-09-08                       75.787483                     79.215000   \n",
       "2024-09-15                       74.551239                     82.000000   \n",
       "2024-09-22                       76.603996                     83.349998   \n",
       "2024-09-29                       80.375000                     85.470001   \n",
       "2024-10-06                       81.408997                     88.830002   \n",
       "\n",
       "            COVID_Period  Geopolitical_Tension  Trade_Sanctions  \\\n",
       "Date                                                              \n",
       "2024-09-08             0                     1                1   \n",
       "2024-09-15             0                     1                1   \n",
       "2024-09-22             0                     1                1   \n",
       "2024-09-29             0                     1                1   \n",
       "2024-10-06             0                     1                1   \n",
       "\n",
       "            Tech_Regulation  New_Product_Launch  Israel_Gaza_Conflict  \n",
       "Date                                                                   \n",
       "2024-09-08                1                   1                     1  \n",
       "2024-09-15                1                   1                     1  \n",
       "2024-09-22                1                   1                     1  \n",
       "2024-09-29                1                   1                     1  \n",
       "2024-10-06                1                   1                     1  "
      ]
     },
     "execution_count": 8,
     "metadata": {},
     "output_type": "execute_result"
    }
   ],
   "source": [
    "test_data = weekly_data_combination[-test_weeks:]\n",
    "test_data.head()"
   ]
  },
  {
   "cell_type": "markdown",
   "metadata": {},
   "source": [
    "Let's visualize what would be the result of the train and test dataframes"
   ]
  },
  {
   "cell_type": "code",
   "execution_count": 9,
   "metadata": {},
   "outputs": [
    {
     "data": {
      "image/png": "[encoded data removed]",
      "text/plain": [
       "<Figure size 1600x400 with 1 Axes>"
      ]
     },
     "metadata": {},
     "output_type": "display_data"
    }
   ],
   "source": [
    "plot_series(train_data['Close_ASML'], test_data['Close_ASML'], labels=[\"y_train\", \"y_test\"]);"
   ]
  },
  {
   "cell_type": "markdown",
   "metadata": {},
   "source": [
    "### 2.4.2 SARIMAX"
   ]
  },
  {
   "cell_type": "markdown",
   "metadata": {},
   "source": [
    "As we saw in notebook 02_forecasting, the series was not stationary, thus we will make the target variable stationary (which is 'Close_ASML') following the same logic that was done in notebook 02_forecasting"
   ]
  },
  {
   "cell_type": "markdown",
   "metadata": {},
   "source": [
    "Step 1: Log transformation (to stabilize variance)"
   ]
  },
  {
   "cell_type": "code",
   "execution_count": 10,
   "metadata": {},
   "outputs": [],
   "source": [
    "log_train_data = np.log(train_data['Close_ASML'])"
   ]
  },
  {
   "cell_type": "markdown",
   "metadata": {},
   "source": [
    "Step 2: Check stationarity using the Augmented Dickey-Fuller test and Differencing if necessary"
   ]
  },
  {
   "cell_type": "code",
   "execution_count": 11,
   "metadata": {},
   "outputs": [
    {
     "name": "stdout",
     "output_type": "stream",
     "text": [
      "ADF Statistic: -0.8383403637901538\n",
      "p-value: 0.8075997072861467\n",
      "The series is not stationary. Applying differencing.\n",
      "ADF Statistic after differencing: -17.00147704320276\n",
      "p-value after differencing: 8.722321551107368e-30\n",
      "The series is now stationary with differencing.\n"
     ]
    }
   ],
   "source": [
    "# Augmented Dickey-Fuller test\n",
    "result = adfuller(log_train_data, autolag='AIC')\n",
    "p_value = result[1]\n",
    "print(f'ADF Statistic: {result[0]}')\n",
    "print(f'p-value: {p_value}')\n",
    "\n",
    "if p_value > 0.05:\n",
    "    print(\"The series is not stationary. Applying differencing.\")\n",
    "    # Differencing to achieve stationarity\n",
    "    diff_log_train_data = log_train_data.diff().dropna()\n",
    "\n",
    "    # Check stationarity again after differencing\n",
    "    result_diff = adfuller(diff_log_train_data, autolag='AIC')\n",
    "    p_value_diff = result_diff[1]\n",
    "    print(f'ADF Statistic after differencing: {result_diff[0]}')\n",
    "    print(f'p-value after differencing: {p_value_diff}')\n",
    "\n",
    "    if p_value_diff > 0.05:\n",
    "        print(\"The series is still not stationary.\")\n",
    "    else:\n",
    "        print(\"The series is now stationary with differencing.\")\n",
    "    train_data_stationary = diff_log_train_data\n",
    "else:\n",
    "    print(\"The series is stationary with only log.\")\n",
    "    train_data_stationary = log_train_data"
   ]
  },
  {
   "cell_type": "markdown",
   "metadata": {},
   "source": [
    "Plot the transformed data to visualize"
   ]
  },
  {
   "cell_type": "code",
   "execution_count": 12,
   "metadata": {},
   "outputs": [
    {
     "data": {
      "image/png": "[encoded data removed]",
      "text/plain": [
       "<Figure size 1000x600 with 1 Axes>"
      ]
     },
     "metadata": {},
     "output_type": "display_data"
    }
   ],
   "source": [
    "plt.figure(figsize=(10, 6))\n",
    "plt.plot(train_data_stationary, label='Stationary Transformed Data')\n",
    "plt.title('Stationary Transformed Time Series')\n",
    "plt.legend()\n",
    "plt.show()"
   ]
  },
  {
   "cell_type": "markdown",
   "metadata": {},
   "source": [
    "Once we have the stationary series, we initialize the SARIMAX model with the corresponding regressor variables"
   ]
  },
  {
   "cell_type": "code",
   "execution_count": 13,
   "metadata": {},
   "outputs": [],
   "source": [
    "# Creating the exogenous variables\n",
    "exog = train_data.drop(['Close_ASML'], axis=1)\n",
    "# Deleting the first row of exog due to the differentiation\n",
    "exog = exog[1:]\n",
    "\n",
    "# Initializing the SARIMAX model\n",
    "sarima_model = SARIMAX(\n",
    "    train_data_stationary,     # Training data that is stationary\n",
    "    exog=exog,                 # Exogenous variables\n",
    "    order=(1, 1, 1),           # ARIMA order (p, d, q)\n",
    "    seasonal_order=(1, 1, 1, 52),  # Seasonal order (P, D, Q, s), here s=52 for weekly data\n",
    "    enforce_stationarity=False,  # Allow the model to be non-stationary\n",
    "    enforce_invertibility=False  # Allow the model to be non-invertible\n",
    ")"
   ]
  },
  {
   "cell_type": "code",
   "execution_count": 14,
   "metadata": {},
   "outputs": [
    {
     "name": "stderr",
     "output_type": "stream",
     "text": [
      "C:\\Users\\Usuario\\anaconda3\\envs\\forecastingv2\\Lib\\site-packages\\statsmodels\\base\\model.py:607: ConvergenceWarning: Maximum Likelihood optimization failed to converge. Check mle_retvals\n",
      "  warnings.warn(\"Maximum Likelihood optimization failed to \"\n"
     ]
    }
   ],
   "source": [
    "# Fit the model to the training data\n",
    "fitted_sarima = sarima_model.fit(disp=False)"
   ]
  },
  {
   "cell_type": "code",
   "execution_count": 15,
   "metadata": {},
   "outputs": [],
   "source": [
    "# Generate predictions the future_exog variable\n",
    "future_exog = test_data.drop('Close_ASML', axis=1)\n",
    "\n",
    "# Assuming `future_exog` contains the future values of the exogenous variables for the forecast period\n",
    "y_pred_sarima = fitted_sarima.forecast(steps=len(test_data), exog=future_exog)"
   ]
  },
  {
   "cell_type": "markdown",
   "metadata": {},
   "source": [
    "Now we have to revert the transformations"
   ]
  },
  {
   "cell_type": "code",
   "execution_count": 16,
   "metadata": {},
   "outputs": [],
   "source": [
    "# Step 1: Revert the differencing\n",
    "# 'last_original_value' is the last value before differencing was applied\n",
    "last_original_value = log_train_data.iloc[-1]\n",
    "\n",
    "# Add back the last original value to get the cumulative sum and revert differencing\n",
    "y_pred_sarima_diff_reverted = np.r_[last_original_value, y_pred_sarima].cumsum()\n",
    "\n",
    "# Remove the first value to match the length of test_data\n",
    "y_pred_sarima_diff_reverted = y_pred_sarima_diff_reverted[1:]\n",
    "\n",
    "# Step 2: Revert the logarithmic transformation\n",
    "y_pred_sarima_reverted = np.exp(y_pred_sarima_diff_reverted)\n",
    "\n",
    "# Convert the reverted predictions to a pandas Series\n",
    "y_pred_sarima_reverted = pd.Series(y_pred_sarima_reverted, index=test_data.index)"
   ]
  },
  {
   "cell_type": "markdown",
   "metadata": {},
   "source": [
    "Let's plot the data and predictions"
   ]
  },
  {
   "cell_type": "code",
   "execution_count": 17,
   "metadata": {},
   "outputs": [
    {
     "data": {
      "image/png": "[encoded data removed]",
      "text/plain": [
       "<Figure size 1600x400 with 1 Axes>"
      ]
     },
     "metadata": {},
     "output_type": "display_data"
    }
   ],
   "source": [
    "# Plot the training, test data, and predictions\n",
    "plot_series(train_data['Close_ASML'][200:], test_data['Close_ASML'], y_pred_sarima_reverted, labels=[\"y_train\", \"y_test\", \"y_pred_reverted\"]);"
   ]
  },
  {
   "cell_type": "code",
   "execution_count": 18,
   "metadata": {},
   "outputs": [
    {
     "data": {
      "text/plain": [
       "11.172580066137092"
      ]
     },
     "execution_count": 18,
     "metadata": {},
     "output_type": "execute_result"
    }
   ],
   "source": [
    "# Calculate MAPE for SARIMA model\n",
    "mape_sarima = mean_absolute_percentage_error(test_data['Close_ASML'], y_pred_sarima_reverted) * 100\n",
    "mape_sarima"
   ]
  },
  {
   "cell_type": "code",
   "execution_count": 19,
   "metadata": {},
   "outputs": [
    {
     "data": {
      "text/plain": [
       "94.44539078171837"
      ]
     },
     "execution_count": 19,
     "metadata": {},
     "output_type": "execute_result"
    }
   ],
   "source": [
    "# Calculate RMSE for SARIMA model\n",
    "rmse_sarima = root_mean_squared_error(test_data['Close_ASML'], y_pred_sarima_reverted)\n",
    "rmse_sarima"
   ]
  },
  {
   "cell_type": "markdown",
   "metadata": {},
   "source": [
    "The results are not good if they're compared with those of notebook 02_forecasting. So, we are disregarding the SARIMAX model for now."
   ]
  },
  {
   "cell_type": "markdown",
   "metadata": {},
   "source": [
    "### 2.4.3 Prophet"
   ]
  },
  {
   "cell_type": "markdown",
   "metadata": {},
   "source": [
    "Initialize the Prophet model"
   ]
  },
  {
   "cell_type": "code",
   "execution_count": 20,
   "metadata": {},
   "outputs": [],
   "source": [
    "prophet_model = Prophet()"
   ]
  },
  {
   "cell_type": "markdown",
   "metadata": {},
   "source": [
    "Fit the model to the data"
   ]
  },
  {
   "cell_type": "markdown",
   "metadata": {},
   "source": [
    "First we need to modify the column names as is required by prophet"
   ]
  },
  {
   "cell_type": "code",
   "execution_count": 21,
   "metadata": {},
   "outputs": [
    {
     "data": {
      "text/html": [
       "<div>\n",
       "<style scoped>\n",
       "    .dataframe tbody tr th:only-of-type {\n",
       "        vertical-align: middle;\n",
       "    }\n",
       "\n",
       "    .dataframe tbody tr th {\n",
       "        vertical-align: top;\n",
       "    }\n",
       "\n",
       "    .dataframe thead th {\n",
       "        text-align: right;\n",
       "    }\n",
       "</style>\n",
       "<table border=\"1\" class=\"dataframe\">\n",
       "  <thead>\n",
       "    <tr style=\"text-align: right;\">\n",
       "      <th></th>\n",
       "      <th>ds</th>\n",
       "      <th>y</th>\n",
       "      <th>Close_Carl_Zeiss_Meditec</th>\n",
       "      <th>Close_Lam_Research_Corporation</th>\n",
       "      <th>Close_Tokyo_Electron_Limited</th>\n",
       "      <th>COVID_Period</th>\n",
       "      <th>Geopolitical_Tension</th>\n",
       "      <th>Trade_Sanctions</th>\n",
       "      <th>Tech_Regulation</th>\n",
       "      <th>New_Product_Launch</th>\n",
       "      <th>Israel_Gaza_Conflict</th>\n",
       "    </tr>\n",
       "  </thead>\n",
       "  <tbody>\n",
       "    <tr>\n",
       "      <th>0</th>\n",
       "      <td>2018-01-14</td>\n",
       "      <td>168.662354</td>\n",
       "      <td>60.946629</td>\n",
       "      <td>10.626075</td>\n",
       "      <td>32.766666</td>\n",
       "      <td>0</td>\n",
       "      <td>0</td>\n",
       "      <td>0</td>\n",
       "      <td>0</td>\n",
       "      <td>0</td>\n",
       "      <td>0</td>\n",
       "    </tr>\n",
       "    <tr>\n",
       "      <th>1</th>\n",
       "      <td>2018-01-21</td>\n",
       "      <td>185.736542</td>\n",
       "      <td>60.851772</td>\n",
       "      <td>11.380370</td>\n",
       "      <td>34.386667</td>\n",
       "      <td>0</td>\n",
       "      <td>0</td>\n",
       "      <td>0</td>\n",
       "      <td>0</td>\n",
       "      <td>0</td>\n",
       "      <td>0</td>\n",
       "    </tr>\n",
       "    <tr>\n",
       "      <th>2</th>\n",
       "      <td>2018-01-28</td>\n",
       "      <td>191.564713</td>\n",
       "      <td>61.373489</td>\n",
       "      <td>11.597983</td>\n",
       "      <td>34.026669</td>\n",
       "      <td>0</td>\n",
       "      <td>0</td>\n",
       "      <td>0</td>\n",
       "      <td>0</td>\n",
       "      <td>0</td>\n",
       "      <td>0</td>\n",
       "    </tr>\n",
       "    <tr>\n",
       "      <th>3</th>\n",
       "      <td>2018-02-04</td>\n",
       "      <td>187.825378</td>\n",
       "      <td>61.335560</td>\n",
       "      <td>10.593921</td>\n",
       "      <td>31.420000</td>\n",
       "      <td>0</td>\n",
       "      <td>0</td>\n",
       "      <td>0</td>\n",
       "      <td>0</td>\n",
       "      <td>0</td>\n",
       "      <td>0</td>\n",
       "    </tr>\n",
       "    <tr>\n",
       "      <th>4</th>\n",
       "      <td>2018-02-11</td>\n",
       "      <td>174.080200</td>\n",
       "      <td>58.831287</td>\n",
       "      <td>9.444603</td>\n",
       "      <td>28.526667</td>\n",
       "      <td>0</td>\n",
       "      <td>0</td>\n",
       "      <td>0</td>\n",
       "      <td>0</td>\n",
       "      <td>0</td>\n",
       "      <td>0</td>\n",
       "    </tr>\n",
       "  </tbody>\n",
       "</table>\n",
       "</div>"
      ],
      "text/plain": [
       "          ds           y  Close_Carl_Zeiss_Meditec  \\\n",
       "0 2018-01-14  168.662354                 60.946629   \n",
       "1 2018-01-21  185.736542                 60.851772   \n",
       "2 2018-01-28  191.564713                 61.373489   \n",
       "3 2018-02-04  187.825378                 61.335560   \n",
       "4 2018-02-11  174.080200                 58.831287   \n",
       "\n",
       "   Close_Lam_Research_Corporation  Close_Tokyo_Electron_Limited  COVID_Period  \\\n",
       "0                       10.626075                     32.766666             0   \n",
       "1                       11.380370                     34.386667             0   \n",
       "2                       11.597983                     34.026669             0   \n",
       "3                       10.593921                     31.420000             0   \n",
       "4                        9.444603                     28.526667             0   \n",
       "\n",
       "   Geopolitical_Tension  Trade_Sanctions  Tech_Regulation  New_Product_Launch  \\\n",
       "0                     0                0                0                   0   \n",
       "1                     0                0                0                   0   \n",
       "2                     0                0                0                   0   \n",
       "3                     0                0                0                   0   \n",
       "4                     0                0                0                   0   \n",
       "\n",
       "   Israel_Gaza_Conflict  \n",
       "0                     0  \n",
       "1                     0  \n",
       "2                     0  \n",
       "3                     0  \n",
       "4                     0  "
      ]
     },
     "execution_count": 21,
     "metadata": {},
     "output_type": "execute_result"
    }
   ],
   "source": [
    "train_data_prophet = train_data.reset_index(names=\"ds\").rename(columns={'Close_ASML':'y'})\n",
    "train_data_prophet.head()"
   ]
  },
  {
   "cell_type": "code",
   "execution_count": 22,
   "metadata": {},
   "outputs": [
    {
     "data": {
      "text/html": [
       "<div>\n",
       "<style scoped>\n",
       "    .dataframe tbody tr th:only-of-type {\n",
       "        vertical-align: middle;\n",
       "    }\n",
       "\n",
       "    .dataframe tbody tr th {\n",
       "        vertical-align: top;\n",
       "    }\n",
       "\n",
       "    .dataframe thead th {\n",
       "        text-align: right;\n",
       "    }\n",
       "</style>\n",
       "<table border=\"1\" class=\"dataframe\">\n",
       "  <thead>\n",
       "    <tr style=\"text-align: right;\">\n",
       "      <th></th>\n",
       "      <th>ds</th>\n",
       "      <th>y</th>\n",
       "      <th>Close_Carl_Zeiss_Meditec</th>\n",
       "      <th>Close_Lam_Research_Corporation</th>\n",
       "      <th>Close_Tokyo_Electron_Limited</th>\n",
       "      <th>COVID_Period</th>\n",
       "      <th>Geopolitical_Tension</th>\n",
       "      <th>Trade_Sanctions</th>\n",
       "      <th>Tech_Regulation</th>\n",
       "      <th>New_Product_Launch</th>\n",
       "      <th>Israel_Gaza_Conflict</th>\n",
       "    </tr>\n",
       "  </thead>\n",
       "  <tbody>\n",
       "    <tr>\n",
       "      <th>0</th>\n",
       "      <td>2024-09-08</td>\n",
       "      <td>809.584839</td>\n",
       "      <td>66.605000</td>\n",
       "      <td>75.787483</td>\n",
       "      <td>79.215000</td>\n",
       "      <td>0</td>\n",
       "      <td>1</td>\n",
       "      <td>1</td>\n",
       "      <td>1</td>\n",
       "      <td>1</td>\n",
       "      <td>1</td>\n",
       "    </tr>\n",
       "    <tr>\n",
       "      <th>1</th>\n",
       "      <td>2024-09-15</td>\n",
       "      <td>798.271362</td>\n",
       "      <td>63.835999</td>\n",
       "      <td>74.551239</td>\n",
       "      <td>82.000000</td>\n",
       "      <td>0</td>\n",
       "      <td>1</td>\n",
       "      <td>1</td>\n",
       "      <td>1</td>\n",
       "      <td>1</td>\n",
       "      <td>1</td>\n",
       "    </tr>\n",
       "    <tr>\n",
       "      <th>2</th>\n",
       "      <td>2024-09-22</td>\n",
       "      <td>801.164551</td>\n",
       "      <td>65.324997</td>\n",
       "      <td>76.603996</td>\n",
       "      <td>83.349998</td>\n",
       "      <td>0</td>\n",
       "      <td>1</td>\n",
       "      <td>1</td>\n",
       "      <td>1</td>\n",
       "      <td>1</td>\n",
       "      <td>1</td>\n",
       "    </tr>\n",
       "    <tr>\n",
       "      <th>3</th>\n",
       "      <td>2024-09-29</td>\n",
       "      <td>816.269165</td>\n",
       "      <td>70.800003</td>\n",
       "      <td>80.375000</td>\n",
       "      <td>85.470001</td>\n",
       "      <td>0</td>\n",
       "      <td>1</td>\n",
       "      <td>1</td>\n",
       "      <td>1</td>\n",
       "      <td>1</td>\n",
       "      <td>1</td>\n",
       "    </tr>\n",
       "    <tr>\n",
       "      <th>4</th>\n",
       "      <td>2024-10-06</td>\n",
       "      <td>830.465942</td>\n",
       "      <td>74.760002</td>\n",
       "      <td>81.408997</td>\n",
       "      <td>88.830002</td>\n",
       "      <td>0</td>\n",
       "      <td>1</td>\n",
       "      <td>1</td>\n",
       "      <td>1</td>\n",
       "      <td>1</td>\n",
       "      <td>1</td>\n",
       "    </tr>\n",
       "  </tbody>\n",
       "</table>\n",
       "</div>"
      ],
      "text/plain": [
       "          ds           y  Close_Carl_Zeiss_Meditec  \\\n",
       "0 2024-09-08  809.584839                 66.605000   \n",
       "1 2024-09-15  798.271362                 63.835999   \n",
       "2 2024-09-22  801.164551                 65.324997   \n",
       "3 2024-09-29  816.269165                 70.800003   \n",
       "4 2024-10-06  830.465942                 74.760002   \n",
       "\n",
       "   Close_Lam_Research_Corporation  Close_Tokyo_Electron_Limited  COVID_Period  \\\n",
       "0                       75.787483                     79.215000             0   \n",
       "1                       74.551239                     82.000000             0   \n",
       "2                       76.603996                     83.349998             0   \n",
       "3                       80.375000                     85.470001             0   \n",
       "4                       81.408997                     88.830002             0   \n",
       "\n",
       "   Geopolitical_Tension  Trade_Sanctions  Tech_Regulation  New_Product_Launch  \\\n",
       "0                     1                1                1                   1   \n",
       "1                     1                1                1                   1   \n",
       "2                     1                1                1                   1   \n",
       "3                     1                1                1                   1   \n",
       "4                     1                1                1                   1   \n",
       "\n",
       "   Israel_Gaza_Conflict  \n",
       "0                     1  \n",
       "1                     1  \n",
       "2                     1  \n",
       "3                     1  \n",
       "4                     1  "
      ]
     },
     "execution_count": 22,
     "metadata": {},
     "output_type": "execute_result"
    }
   ],
   "source": [
    "test_data_prophet = test_data.reset_index(names=\"ds\").rename(columns={'Close_ASML':'y'})\n",
    "test_data_prophet.head()"
   ]
  },
  {
   "cell_type": "markdown",
   "metadata": {},
   "source": [
    "Add each regressor to the Prophet model"
   ]
  },
  {
   "cell_type": "code",
   "execution_count": 23,
   "metadata": {},
   "outputs": [],
   "source": [
    "# Define the regressors list\n",
    "regressors = list(test_data_prophet.columns)\n",
    "\n",
    "# Exclude 'y' and 'ds' from the regressors list\n",
    "regressors = [col for col in regressors if col not in ['y', 'ds']]\n",
    "\n",
    "for regressor in regressors:\n",
    "    prophet_model.add_regressor(regressor)"
   ]
  },
  {
   "cell_type": "markdown",
   "metadata": {},
   "source": [
    "Fit the model"
   ]
  },
  {
   "cell_type": "code",
   "execution_count": 24,
   "metadata": {
    "scrolled": false
   },
   "outputs": [
    {
     "data": {
      "text/plain": [
       "<prophet.forecaster.Prophet at 0x23be7c90500>"
      ]
     },
     "execution_count": 24,
     "metadata": {},
     "output_type": "execute_result"
    }
   ],
   "source": [
    "prophet_model.fit(train_data_prophet)"
   ]
  },
  {
   "cell_type": "code",
   "execution_count": 25,
   "metadata": {},
   "outputs": [
    {
     "data": {
      "text/html": [
       "<div>\n",
       "<style scoped>\n",
       "    .dataframe tbody tr th:only-of-type {\n",
       "        vertical-align: middle;\n",
       "    }\n",
       "\n",
       "    .dataframe tbody tr th {\n",
       "        vertical-align: top;\n",
       "    }\n",
       "\n",
       "    .dataframe thead th {\n",
       "        text-align: right;\n",
       "    }\n",
       "</style>\n",
       "<table border=\"1\" class=\"dataframe\">\n",
       "  <thead>\n",
       "    <tr style=\"text-align: right;\">\n",
       "      <th></th>\n",
       "      <th>ds</th>\n",
       "      <th>trend</th>\n",
       "      <th>yhat_lower</th>\n",
       "      <th>yhat_upper</th>\n",
       "      <th>trend_lower</th>\n",
       "      <th>trend_upper</th>\n",
       "      <th>COVID_Period</th>\n",
       "      <th>COVID_Period_lower</th>\n",
       "      <th>COVID_Period_upper</th>\n",
       "      <th>Close_Carl_Zeiss_Meditec</th>\n",
       "      <th>...</th>\n",
       "      <th>extra_regressors_additive</th>\n",
       "      <th>extra_regressors_additive_lower</th>\n",
       "      <th>extra_regressors_additive_upper</th>\n",
       "      <th>yearly</th>\n",
       "      <th>yearly_lower</th>\n",
       "      <th>yearly_upper</th>\n",
       "      <th>multiplicative_terms</th>\n",
       "      <th>multiplicative_terms_lower</th>\n",
       "      <th>multiplicative_terms_upper</th>\n",
       "      <th>yhat</th>\n",
       "    </tr>\n",
       "  </thead>\n",
       "  <tbody>\n",
       "    <tr>\n",
       "      <th>0</th>\n",
       "      <td>2024-09-08</td>\n",
       "      <td>763.322023</td>\n",
       "      <td>750.272783</td>\n",
       "      <td>828.163057</td>\n",
       "      <td>763.322023</td>\n",
       "      <td>763.322023</td>\n",
       "      <td>0.0</td>\n",
       "      <td>0.0</td>\n",
       "      <td>0.0</td>\n",
       "      <td>-88.987718</td>\n",
       "      <td>...</td>\n",
       "      <td>22.192822</td>\n",
       "      <td>22.192822</td>\n",
       "      <td>22.192822</td>\n",
       "      <td>2.317149</td>\n",
       "      <td>2.317149</td>\n",
       "      <td>2.317149</td>\n",
       "      <td>0.0</td>\n",
       "      <td>0.0</td>\n",
       "      <td>0.0</td>\n",
       "      <td>787.831994</td>\n",
       "    </tr>\n",
       "    <tr>\n",
       "      <th>1</th>\n",
       "      <td>2024-09-15</td>\n",
       "      <td>765.302612</td>\n",
       "      <td>740.521914</td>\n",
       "      <td>812.924974</td>\n",
       "      <td>765.302612</td>\n",
       "      <td>765.302612</td>\n",
       "      <td>0.0</td>\n",
       "      <td>0.0</td>\n",
       "      <td>0.0</td>\n",
       "      <td>-93.956033</td>\n",
       "      <td>...</td>\n",
       "      <td>15.540626</td>\n",
       "      <td>15.540626</td>\n",
       "      <td>15.540626</td>\n",
       "      <td>-4.064641</td>\n",
       "      <td>-4.064641</td>\n",
       "      <td>-4.064641</td>\n",
       "      <td>0.0</td>\n",
       "      <td>0.0</td>\n",
       "      <td>0.0</td>\n",
       "      <td>776.778597</td>\n",
       "    </tr>\n",
       "    <tr>\n",
       "      <th>2</th>\n",
       "      <td>2024-09-22</td>\n",
       "      <td>767.283201</td>\n",
       "      <td>749.053199</td>\n",
       "      <td>822.802145</td>\n",
       "      <td>767.270104</td>\n",
       "      <td>767.288772</td>\n",
       "      <td>0.0</td>\n",
       "      <td>0.0</td>\n",
       "      <td>0.0</td>\n",
       "      <td>-91.284379</td>\n",
       "      <td>...</td>\n",
       "      <td>29.290032</td>\n",
       "      <td>29.290032</td>\n",
       "      <td>29.290032</td>\n",
       "      <td>-9.386221</td>\n",
       "      <td>-9.386221</td>\n",
       "      <td>-9.386221</td>\n",
       "      <td>0.0</td>\n",
       "      <td>0.0</td>\n",
       "      <td>0.0</td>\n",
       "      <td>787.187012</td>\n",
       "    </tr>\n",
       "    <tr>\n",
       "      <th>3</th>\n",
       "      <td>2024-09-29</td>\n",
       "      <td>769.263790</td>\n",
       "      <td>779.626402</td>\n",
       "      <td>855.860228</td>\n",
       "      <td>769.201479</td>\n",
       "      <td>769.332611</td>\n",
       "      <td>0.0</td>\n",
       "      <td>0.0</td>\n",
       "      <td>0.0</td>\n",
       "      <td>-81.460781</td>\n",
       "      <td>...</td>\n",
       "      <td>58.964906</td>\n",
       "      <td>58.964906</td>\n",
       "      <td>58.964906</td>\n",
       "      <td>-11.151931</td>\n",
       "      <td>-11.151931</td>\n",
       "      <td>-11.151931</td>\n",
       "      <td>0.0</td>\n",
       "      <td>0.0</td>\n",
       "      <td>0.0</td>\n",
       "      <td>817.076765</td>\n",
       "    </tr>\n",
       "    <tr>\n",
       "      <th>4</th>\n",
       "      <td>2024-10-06</td>\n",
       "      <td>771.244379</td>\n",
       "      <td>800.494746</td>\n",
       "      <td>874.720577</td>\n",
       "      <td>771.144351</td>\n",
       "      <td>771.381881</td>\n",
       "      <td>0.0</td>\n",
       "      <td>0.0</td>\n",
       "      <td>0.0</td>\n",
       "      <td>-74.355503</td>\n",
       "      <td>...</td>\n",
       "      <td>75.365150</td>\n",
       "      <td>75.365150</td>\n",
       "      <td>75.365150</td>\n",
       "      <td>-9.587934</td>\n",
       "      <td>-9.587934</td>\n",
       "      <td>-9.587934</td>\n",
       "      <td>0.0</td>\n",
       "      <td>0.0</td>\n",
       "      <td>0.0</td>\n",
       "      <td>837.021595</td>\n",
       "    </tr>\n",
       "  </tbody>\n",
       "</table>\n",
       "<p>5 rows × 46 columns</p>\n",
       "</div>"
      ],
      "text/plain": [
       "          ds       trend  yhat_lower  yhat_upper  trend_lower  trend_upper  \\\n",
       "0 2024-09-08  763.322023  750.272783  828.163057   763.322023   763.322023   \n",
       "1 2024-09-15  765.302612  740.521914  812.924974   765.302612   765.302612   \n",
       "2 2024-09-22  767.283201  749.053199  822.802145   767.270104   767.288772   \n",
       "3 2024-09-29  769.263790  779.626402  855.860228   769.201479   769.332611   \n",
       "4 2024-10-06  771.244379  800.494746  874.720577   771.144351   771.381881   \n",
       "\n",
       "   COVID_Period  COVID_Period_lower  COVID_Period_upper  \\\n",
       "0           0.0                 0.0                 0.0   \n",
       "1           0.0                 0.0                 0.0   \n",
       "2           0.0                 0.0                 0.0   \n",
       "3           0.0                 0.0                 0.0   \n",
       "4           0.0                 0.0                 0.0   \n",
       "\n",
       "   Close_Carl_Zeiss_Meditec  ...  extra_regressors_additive  \\\n",
       "0                -88.987718  ...                  22.192822   \n",
       "1                -93.956033  ...                  15.540626   \n",
       "2                -91.284379  ...                  29.290032   \n",
       "3                -81.460781  ...                  58.964906   \n",
       "4                -74.355503  ...                  75.365150   \n",
       "\n",
       "   extra_regressors_additive_lower  extra_regressors_additive_upper  \\\n",
       "0                        22.192822                        22.192822   \n",
       "1                        15.540626                        15.540626   \n",
       "2                        29.290032                        29.290032   \n",
       "3                        58.964906                        58.964906   \n",
       "4                        75.365150                        75.365150   \n",
       "\n",
       "      yearly  yearly_lower  yearly_upper  multiplicative_terms  \\\n",
       "0   2.317149      2.317149      2.317149                   0.0   \n",
       "1  -4.064641     -4.064641     -4.064641                   0.0   \n",
       "2  -9.386221     -9.386221     -9.386221                   0.0   \n",
       "3 -11.151931    -11.151931    -11.151931                   0.0   \n",
       "4  -9.587934     -9.587934     -9.587934                   0.0   \n",
       "\n",
       "   multiplicative_terms_lower  multiplicative_terms_upper        yhat  \n",
       "0                         0.0                         0.0  787.831994  \n",
       "1                         0.0                         0.0  776.778597  \n",
       "2                         0.0                         0.0  787.187012  \n",
       "3                         0.0                         0.0  817.076765  \n",
       "4                         0.0                         0.0  837.021595  \n",
       "\n",
       "[5 rows x 46 columns]"
      ]
     },
     "execution_count": 25,
     "metadata": {},
     "output_type": "execute_result"
    }
   ],
   "source": [
    "# Generate predictions\n",
    "forecast = prophet_model.predict(test_data_prophet[[column for column in test_data_prophet if column != 'y']])\n",
    "forecast.head()"
   ]
  },
  {
   "cell_type": "markdown",
   "metadata": {},
   "source": [
    "Plot forecast components (trend, weekly, yearly components)"
   ]
  },
  {
   "cell_type": "code",
   "execution_count": 26,
   "metadata": {},
   "outputs": [
    {
     "data": {
      "image/png": "[encoded data removed]",
      "text/plain": [
       "<Figure size 900x900 with 3 Axes>"
      ]
     },
     "metadata": {},
     "output_type": "display_data"
    }
   ],
   "source": [
    "fig2 = prophet_model.plot_components(forecast)\n",
    "plt.show()"
   ]
  },
  {
   "cell_type": "markdown",
   "metadata": {},
   "source": [
    "The Prophet model's forecast shows a steady upward trend, indicating growth over time. There is clear yearly seasonality, with peaks around July and dips towards the year's end, suggesting cyclical behavior. An additional regressor also impacts the forecast, introducing periodic fluctuations that align with external factors. Together, these components suggest the forecast is influenced by an overall upward trend, annual cycles, and external variables."
   ]
  },
  {
   "cell_type": "code",
   "execution_count": 27,
   "metadata": {
    "scrolled": false
   },
   "outputs": [
    {
     "data": {
      "text/html": [
       "<div>\n",
       "<style scoped>\n",
       "    .dataframe tbody tr th:only-of-type {\n",
       "        vertical-align: middle;\n",
       "    }\n",
       "\n",
       "    .dataframe tbody tr th {\n",
       "        vertical-align: top;\n",
       "    }\n",
       "\n",
       "    .dataframe thead th {\n",
       "        text-align: right;\n",
       "    }\n",
       "</style>\n",
       "<table border=\"1\" class=\"dataframe\">\n",
       "  <thead>\n",
       "    <tr style=\"text-align: right;\">\n",
       "      <th></th>\n",
       "      <th>Close</th>\n",
       "    </tr>\n",
       "    <tr>\n",
       "      <th>ds</th>\n",
       "      <th></th>\n",
       "    </tr>\n",
       "  </thead>\n",
       "  <tbody>\n",
       "    <tr>\n",
       "      <th>2024-09-08</th>\n",
       "      <td>787.831994</td>\n",
       "    </tr>\n",
       "    <tr>\n",
       "      <th>2024-09-15</th>\n",
       "      <td>776.778597</td>\n",
       "    </tr>\n",
       "    <tr>\n",
       "      <th>2024-09-22</th>\n",
       "      <td>787.187012</td>\n",
       "    </tr>\n",
       "    <tr>\n",
       "      <th>2024-09-29</th>\n",
       "      <td>817.076765</td>\n",
       "    </tr>\n",
       "    <tr>\n",
       "      <th>2024-10-06</th>\n",
       "      <td>837.021595</td>\n",
       "    </tr>\n",
       "    <tr>\n",
       "      <th>2024-10-13</th>\n",
       "      <td>838.226827</td>\n",
       "    </tr>\n",
       "    <tr>\n",
       "      <th>2024-10-20</th>\n",
       "      <td>789.211523</td>\n",
       "    </tr>\n",
       "    <tr>\n",
       "      <th>2024-10-27</th>\n",
       "      <td>781.640751</td>\n",
       "    </tr>\n",
       "    <tr>\n",
       "      <th>2024-11-03</th>\n",
       "      <td>794.334192</td>\n",
       "    </tr>\n",
       "    <tr>\n",
       "      <th>2024-11-10</th>\n",
       "      <td>797.820621</td>\n",
       "    </tr>\n",
       "    <tr>\n",
       "      <th>2024-11-17</th>\n",
       "      <td>787.418337</td>\n",
       "    </tr>\n",
       "    <tr>\n",
       "      <th>2024-11-24</th>\n",
       "      <td>762.560735</td>\n",
       "    </tr>\n",
       "  </tbody>\n",
       "</table>\n",
       "</div>"
      ],
      "text/plain": [
       "                 Close\n",
       "ds                    \n",
       "2024-09-08  787.831994\n",
       "2024-09-15  776.778597\n",
       "2024-09-22  787.187012\n",
       "2024-09-29  817.076765\n",
       "2024-10-06  837.021595\n",
       "2024-10-13  838.226827\n",
       "2024-10-20  789.211523\n",
       "2024-10-27  781.640751\n",
       "2024-11-03  794.334192\n",
       "2024-11-10  797.820621\n",
       "2024-11-17  787.418337\n",
       "2024-11-24  762.560735"
      ]
     },
     "execution_count": 27,
     "metadata": {},
     "output_type": "execute_result"
    }
   ],
   "source": [
    "# Return to the original DataFrame format with 'ds' as index and 'yhat' as 'Close'\n",
    "forecast = forecast[['ds', 'yhat']].set_index('ds').rename(columns={'yhat': 'Close'})[-test_weeks:]\n",
    "\n",
    "forecast"
   ]
  },
  {
   "cell_type": "code",
   "execution_count": 28,
   "metadata": {},
   "outputs": [],
   "source": [
    "# Ensure ds is the index of train_data_prophet \n",
    "train_data_prophet = train_data_prophet.set_index('ds')\n",
    "\n",
    "# Ensure ds is the index of test_data_prophet \n",
    "test_data_prophet = test_data_prophet.set_index('ds')"
   ]
  },
  {
   "cell_type": "markdown",
   "metadata": {},
   "source": [
    "Plot the forecast results"
   ]
  },
  {
   "cell_type": "code",
   "execution_count": 29,
   "metadata": {},
   "outputs": [
    {
     "data": {
      "image/png": "[encoded data removed]",
      "text/plain": [
       "<Figure size 1600x400 with 1 Axes>"
      ]
     },
     "metadata": {},
     "output_type": "display_data"
    }
   ],
   "source": [
    "plot_series(train_data_prophet[['y']][200:], test_data_prophet[['y']], forecast, labels=[\"y_train\", \"y_test\", \"y_pred\"]);"
   ]
  },
  {
   "cell_type": "markdown",
   "metadata": {},
   "source": [
    "Now we are going to calculate the metrics of the model. The RMSE and the MAPE"
   ]
  },
  {
   "cell_type": "code",
   "execution_count": 30,
   "metadata": {},
   "outputs": [
    {
     "data": {
      "text/plain": [
       "7.9312427770610805"
      ]
     },
     "execution_count": 30,
     "metadata": {},
     "output_type": "execute_result"
    }
   ],
   "source": [
    "mape_prophet = mean_absolute_percentage_error(test_data_prophet['y'], forecast) * 100\n",
    "mape_prophet"
   ]
  },
  {
   "cell_type": "code",
   "execution_count": 31,
   "metadata": {},
   "outputs": [
    {
     "data": {
      "text/plain": [
       "71.95100393405338"
      ]
     },
     "execution_count": 31,
     "metadata": {},
     "output_type": "execute_result"
    }
   ],
   "source": [
    "rmse_prophet = root_mean_squared_error(test_data_prophet['y'], forecast)\n",
    "rmse_prophet"
   ]
  },
  {
   "cell_type": "markdown",
   "metadata": {},
   "source": [
    "The results are very positive. So, it's interesting to consider the extra information that the regressors provide. We will still try other models to see their results. All things considered, results seem to be good for now."
   ]
  },
  {
   "cell_type": "markdown",
   "metadata": {},
   "source": [
    "### 2.4.6 XGboost"
   ]
  },
  {
   "cell_type": "markdown",
   "metadata": {},
   "source": [
    "We will try again XGBoost as we did in notebook 02_forecasting and we will do so using the temporal variables using the create_features function."
   ]
  },
  {
   "cell_type": "code",
   "execution_count": 32,
   "metadata": {},
   "outputs": [],
   "source": [
    "train_data_xgb_rf = create_features(train_data)\n",
    "test_data_xgb_rf = create_features(test_data)"
   ]
  },
  {
   "cell_type": "code",
   "execution_count": 33,
   "metadata": {},
   "outputs": [],
   "source": [
    "# Prepare X and y for the model\n",
    "# Since we're not adding any features, we simply use the index as an integer sequence\n",
    "X_train_xgb = train_data_xgb_rf.drop('Close_ASML', axis=1)\n",
    "y_train_xgb = train_data_xgb_rf['Close_ASML']\n",
    "X_test_xgb = test_data_xgb_rf.drop('Close_ASML', axis=1)\n",
    "y_test_xgb = test_data_xgb_rf['Close_ASML']"
   ]
  },
  {
   "cell_type": "code",
   "execution_count": 34,
   "metadata": {},
   "outputs": [],
   "source": [
    "# Initialize the XGBoost model\n",
    "xgb_model = XGBRegressor(\n",
    "    n_estimators=100,       # Number of trees\n",
    "    learning_rate=0.1,      # Step size shrinkage\n",
    "    max_depth=5,            # Maximum depth of trees\n",
    "    random_state=42         # For reproducibility\n",
    ")"
   ]
  },
  {
   "cell_type": "code",
   "execution_count": 35,
   "metadata": {},
   "outputs": [
    {
     "data": {
      "text/html": [
       "<style>#sk-container-id-1 {\n",
       "  /* Definition of color scheme common for light and dark mode */\n",
       "  --sklearn-color-text: black;\n",
       "  --sklearn-color-line: gray;\n",
       "  /* Definition of color scheme for unfitted estimators */\n",
       "  --sklearn-color-unfitted-level-0: #fff5e6;\n",
       "  --sklearn-color-unfitted-level-1: #f6e4d2;\n",
       "  --sklearn-color-unfitted-level-2: #ffe0b3;\n",
       "  --sklearn-color-unfitted-level-3: chocolate;\n",
       "  /* Definition of color scheme for fitted estimators */\n",
       "  --sklearn-color-fitted-level-0: #f0f8ff;\n",
       "  --sklearn-color-fitted-level-1: #d4ebff;\n",
       "  --sklearn-color-fitted-level-2: #b3dbfd;\n",
       "  --sklearn-color-fitted-level-3: cornflowerblue;\n",
       "\n",
       "  /* Specific color for light theme */\n",
       "  --sklearn-color-text-on-default-background: var(--sg-text-color, var(--theme-code-foreground, var(--jp-content-font-color1, black)));\n",
       "  --sklearn-color-background: var(--sg-background-color, var(--theme-background, var(--jp-layout-color0, white)));\n",
       "  --sklearn-color-border-box: var(--sg-text-color, var(--theme-code-foreground, var(--jp-content-font-color1, black)));\n",
       "  --sklearn-color-icon: #696969;\n",
       "\n",
       "  @media (prefers-color-scheme: dark) {\n",
       "    /* Redefinition of color scheme for dark theme */\n",
       "    --sklearn-color-text-on-default-background: var(--sg-text-color, var(--theme-code-foreground, var(--jp-content-font-color1, white)));\n",
       "    --sklearn-color-background: var(--sg-background-color, var(--theme-background, var(--jp-layout-color0, #111)));\n",
       "    --sklearn-color-border-box: var(--sg-text-color, var(--theme-code-foreground, var(--jp-content-font-color1, white)));\n",
       "    --sklearn-color-icon: #878787;\n",
       "  }\n",
       "}\n",
       "\n",
       "#sk-container-id-1 {\n",
       "  color: var(--sklearn-color-text);\n",
       "}\n",
       "\n",
       "#sk-container-id-1 pre {\n",
       "  padding: 0;\n",
       "}\n",
       "\n",
       "#sk-container-id-1 input.sk-hidden--visually {\n",
       "  border: 0;\n",
       "  clip: rect(1px 1px 1px 1px);\n",
       "  clip: rect(1px, 1px, 1px, 1px);\n",
       "  height: 1px;\n",
       "  margin: -1px;\n",
       "  overflow: hidden;\n",
       "  padding: 0;\n",
       "  position: absolute;\n",
       "  width: 1px;\n",
       "}\n",
       "\n",
       "#sk-container-id-1 div.sk-dashed-wrapped {\n",
       "  border: 1px dashed var(--sklearn-color-line);\n",
       "  margin: 0 0.4em 0.5em 0.4em;\n",
       "  box-sizing: border-box;\n",
       "  padding-bottom: 0.4em;\n",
       "  background-color: var(--sklearn-color-background);\n",
       "}\n",
       "\n",
       "#sk-container-id-1 div.sk-container {\n",
       "  /* jupyter's `normalize.less` sets `[hidden] { display: none; }`\n",
       "     but bootstrap.min.css set `[hidden] { display: none !important; }`\n",
       "     so we also need the `!important` here to be able to override the\n",
       "     default hidden behavior on the sphinx rendered scikit-learn.org.\n",
       "     See: https://github.com/scikit-learn/scikit-learn/issues/21755 */\n",
       "  display: inline-block !important;\n",
       "  position: relative;\n",
       "}\n",
       "\n",
       "#sk-container-id-1 div.sk-text-repr-fallback {\n",
       "  display: none;\n",
       "}\n",
       "\n",
       "div.sk-parallel-item,\n",
       "div.sk-serial,\n",
       "div.sk-item {\n",
       "  /* draw centered vertical line to link estimators */\n",
       "  background-image: linear-gradient(var(--sklearn-color-text-on-default-background), var(--sklearn-color-text-on-default-background));\n",
       "  background-size: 2px 100%;\n",
       "  background-repeat: no-repeat;\n",
       "  background-position: center center;\n",
       "}\n",
       "\n",
       "/* Parallel-specific style estimator block */\n",
       "\n",
       "#sk-container-id-1 div.sk-parallel-item::after {\n",
       "  content: \"\";\n",
       "  width: 100%;\n",
       "  border-bottom: 2px solid var(--sklearn-color-text-on-default-background);\n",
       "  flex-grow: 1;\n",
       "}\n",
       "\n",
       "#sk-container-id-1 div.sk-parallel {\n",
       "  display: flex;\n",
       "  align-items: stretch;\n",
       "  justify-content: center;\n",
       "  background-color: var(--sklearn-color-background);\n",
       "  position: relative;\n",
       "}\n",
       "\n",
       "#sk-container-id-1 div.sk-parallel-item {\n",
       "  display: flex;\n",
       "  flex-direction: column;\n",
       "}\n",
       "\n",
       "#sk-container-id-1 div.sk-parallel-item:first-child::after {\n",
       "  align-self: flex-end;\n",
       "  width: 50%;\n",
       "}\n",
       "\n",
       "#sk-container-id-1 div.sk-parallel-item:last-child::after {\n",
       "  align-self: flex-start;\n",
       "  width: 50%;\n",
       "}\n",
       "\n",
       "#sk-container-id-1 div.sk-parallel-item:only-child::after {\n",
       "  width: 0;\n",
       "}\n",
       "\n",
       "/* Serial-specific style estimator block */\n",
       "\n",
       "#sk-container-id-1 div.sk-serial {\n",
       "  display: flex;\n",
       "  flex-direction: column;\n",
       "  align-items: center;\n",
       "  background-color: var(--sklearn-color-background);\n",
       "  padding-right: 1em;\n",
       "  padding-left: 1em;\n",
       "}\n",
       "\n",
       "\n",
       "/* Toggleable style: style used for estimator/Pipeline/ColumnTransformer box that is\n",
       "clickable and can be expanded/collapsed.\n",
       "- Pipeline and ColumnTransformer use this feature and define the default style\n",
       "- Estimators will overwrite some part of the style using the `sk-estimator` class\n",
       "*/\n",
       "\n",
       "/* Pipeline and ColumnTransformer style (default) */\n",
       "\n",
       "#sk-container-id-1 div.sk-toggleable {\n",
       "  /* Default theme specific background. It is overwritten whether we have a\n",
       "  specific estimator or a Pipeline/ColumnTransformer */\n",
       "  background-color: var(--sklearn-color-background);\n",
       "}\n",
       "\n",
       "/* Toggleable label */\n",
       "#sk-container-id-1 label.sk-toggleable__label {\n",
       "  cursor: pointer;\n",
       "  display: block;\n",
       "  width: 100%;\n",
       "  margin-bottom: 0;\n",
       "  padding: 0.5em;\n",
       "  box-sizing: border-box;\n",
       "  text-align: center;\n",
       "}\n",
       "\n",
       "#sk-container-id-1 label.sk-toggleable__label-arrow:before {\n",
       "  /* Arrow on the left of the label */\n",
       "  content: \"▸\";\n",
       "  float: left;\n",
       "  margin-right: 0.25em;\n",
       "  color: var(--sklearn-color-icon);\n",
       "}\n",
       "\n",
       "#sk-container-id-1 label.sk-toggleable__label-arrow:hover:before {\n",
       "  color: var(--sklearn-color-text);\n",
       "}\n",
       "\n",
       "/* Toggleable content - dropdown */\n",
       "\n",
       "#sk-container-id-1 div.sk-toggleable__content {\n",
       "  max-height: 0;\n",
       "  max-width: 0;\n",
       "  overflow: hidden;\n",
       "  text-align: left;\n",
       "  /* unfitted */\n",
       "  background-color: var(--sklearn-color-unfitted-level-0);\n",
       "}\n",
       "\n",
       "#sk-container-id-1 div.sk-toggleable__content.fitted {\n",
       "  /* fitted */\n",
       "  background-color: var(--sklearn-color-fitted-level-0);\n",
       "}\n",
       "\n",
       "#sk-container-id-1 div.sk-toggleable__content pre {\n",
       "  margin: 0.2em;\n",
       "  border-radius: 0.25em;\n",
       "  color: var(--sklearn-color-text);\n",
       "  /* unfitted */\n",
       "  background-color: var(--sklearn-color-unfitted-level-0);\n",
       "}\n",
       "\n",
       "#sk-container-id-1 div.sk-toggleable__content.fitted pre {\n",
       "  /* unfitted */\n",
       "  background-color: var(--sklearn-color-fitted-level-0);\n",
       "}\n",
       "\n",
       "#sk-container-id-1 input.sk-toggleable__control:checked~div.sk-toggleable__content {\n",
       "  /* Expand drop-down */\n",
       "  max-height: 200px;\n",
       "  max-width: 100%;\n",
       "  overflow: auto;\n",
       "}\n",
       "\n",
       "#sk-container-id-1 input.sk-toggleable__control:checked~label.sk-toggleable__label-arrow:before {\n",
       "  content: \"▾\";\n",
       "}\n",
       "\n",
       "/* Pipeline/ColumnTransformer-specific style */\n",
       "\n",
       "#sk-container-id-1 div.sk-label input.sk-toggleable__control:checked~label.sk-toggleable__label {\n",
       "  color: var(--sklearn-color-text);\n",
       "  background-color: var(--sklearn-color-unfitted-level-2);\n",
       "}\n",
       "\n",
       "#sk-container-id-1 div.sk-label.fitted input.sk-toggleable__control:checked~label.sk-toggleable__label {\n",
       "  background-color: var(--sklearn-color-fitted-level-2);\n",
       "}\n",
       "\n",
       "/* Estimator-specific style */\n",
       "\n",
       "/* Colorize estimator box */\n",
       "#sk-container-id-1 div.sk-estimator input.sk-toggleable__control:checked~label.sk-toggleable__label {\n",
       "  /* unfitted */\n",
       "  background-color: var(--sklearn-color-unfitted-level-2);\n",
       "}\n",
       "\n",
       "#sk-container-id-1 div.sk-estimator.fitted input.sk-toggleable__control:checked~label.sk-toggleable__label {\n",
       "  /* fitted */\n",
       "  background-color: var(--sklearn-color-fitted-level-2);\n",
       "}\n",
       "\n",
       "#sk-container-id-1 div.sk-label label.sk-toggleable__label,\n",
       "#sk-container-id-1 div.sk-label label {\n",
       "  /* The background is the default theme color */\n",
       "  color: var(--sklearn-color-text-on-default-background);\n",
       "}\n",
       "\n",
       "/* On hover, darken the color of the background */\n",
       "#sk-container-id-1 div.sk-label:hover label.sk-toggleable__label {\n",
       "  color: var(--sklearn-color-text);\n",
       "  background-color: var(--sklearn-color-unfitted-level-2);\n",
       "}\n",
       "\n",
       "/* Label box, darken color on hover, fitted */\n",
       "#sk-container-id-1 div.sk-label.fitted:hover label.sk-toggleable__label.fitted {\n",
       "  color: var(--sklearn-color-text);\n",
       "  background-color: var(--sklearn-color-fitted-level-2);\n",
       "}\n",
       "\n",
       "/* Estimator label */\n",
       "\n",
       "#sk-container-id-1 div.sk-label label {\n",
       "  font-family: monospace;\n",
       "  font-weight: bold;\n",
       "  display: inline-block;\n",
       "  line-height: 1.2em;\n",
       "}\n",
       "\n",
       "#sk-container-id-1 div.sk-label-container {\n",
       "  text-align: center;\n",
       "}\n",
       "\n",
       "/* Estimator-specific */\n",
       "#sk-container-id-1 div.sk-estimator {\n",
       "  font-family: monospace;\n",
       "  border: 1px dotted var(--sklearn-color-border-box);\n",
       "  border-radius: 0.25em;\n",
       "  box-sizing: border-box;\n",
       "  margin-bottom: 0.5em;\n",
       "  /* unfitted */\n",
       "  background-color: var(--sklearn-color-unfitted-level-0);\n",
       "}\n",
       "\n",
       "#sk-container-id-1 div.sk-estimator.fitted {\n",
       "  /* fitted */\n",
       "  background-color: var(--sklearn-color-fitted-level-0);\n",
       "}\n",
       "\n",
       "/* on hover */\n",
       "#sk-container-id-1 div.sk-estimator:hover {\n",
       "  /* unfitted */\n",
       "  background-color: var(--sklearn-color-unfitted-level-2);\n",
       "}\n",
       "\n",
       "#sk-container-id-1 div.sk-estimator.fitted:hover {\n",
       "  /* fitted */\n",
       "  background-color: var(--sklearn-color-fitted-level-2);\n",
       "}\n",
       "\n",
       "/* Specification for estimator info (e.g. \"i\" and \"?\") */\n",
       "\n",
       "/* Common style for \"i\" and \"?\" */\n",
       "\n",
       ".sk-estimator-doc-link,\n",
       "a:link.sk-estimator-doc-link,\n",
       "a:visited.sk-estimator-doc-link {\n",
       "  float: right;\n",
       "  font-size: smaller;\n",
       "  line-height: 1em;\n",
       "  font-family: monospace;\n",
       "  background-color: var(--sklearn-color-background);\n",
       "  border-radius: 1em;\n",
       "  height: 1em;\n",
       "  width: 1em;\n",
       "  text-decoration: none !important;\n",
       "  margin-left: 1ex;\n",
       "  /* unfitted */\n",
       "  border: var(--sklearn-color-unfitted-level-1) 1pt solid;\n",
       "  color: var(--sklearn-color-unfitted-level-1);\n",
       "}\n",
       "\n",
       ".sk-estimator-doc-link.fitted,\n",
       "a:link.sk-estimator-doc-link.fitted,\n",
       "a:visited.sk-estimator-doc-link.fitted {\n",
       "  /* fitted */\n",
       "  border: var(--sklearn-color-fitted-level-1) 1pt solid;\n",
       "  color: var(--sklearn-color-fitted-level-1);\n",
       "}\n",
       "\n",
       "/* On hover */\n",
       "div.sk-estimator:hover .sk-estimator-doc-link:hover,\n",
       ".sk-estimator-doc-link:hover,\n",
       "div.sk-label-container:hover .sk-estimator-doc-link:hover,\n",
       ".sk-estimator-doc-link:hover {\n",
       "  /* unfitted */\n",
       "  background-color: var(--sklearn-color-unfitted-level-3);\n",
       "  color: var(--sklearn-color-background);\n",
       "  text-decoration: none;\n",
       "}\n",
       "\n",
       "div.sk-estimator.fitted:hover .sk-estimator-doc-link.fitted:hover,\n",
       ".sk-estimator-doc-link.fitted:hover,\n",
       "div.sk-label-container:hover .sk-estimator-doc-link.fitted:hover,\n",
       ".sk-estimator-doc-link.fitted:hover {\n",
       "  /* fitted */\n",
       "  background-color: var(--sklearn-color-fitted-level-3);\n",
       "  color: var(--sklearn-color-background);\n",
       "  text-decoration: none;\n",
       "}\n",
       "\n",
       "/* Span, style for the box shown on hovering the info icon */\n",
       ".sk-estimator-doc-link span {\n",
       "  display: none;\n",
       "  z-index: 9999;\n",
       "  position: relative;\n",
       "  font-weight: normal;\n",
       "  right: .2ex;\n",
       "  padding: .5ex;\n",
       "  margin: .5ex;\n",
       "  width: min-content;\n",
       "  min-width: 20ex;\n",
       "  max-width: 50ex;\n",
       "  color: var(--sklearn-color-text);\n",
       "  box-shadow: 2pt 2pt 4pt #999;\n",
       "  /* unfitted */\n",
       "  background: var(--sklearn-color-unfitted-level-0);\n",
       "  border: .5pt solid var(--sklearn-color-unfitted-level-3);\n",
       "}\n",
       "\n",
       ".sk-estimator-doc-link.fitted span {\n",
       "  /* fitted */\n",
       "  background: var(--sklearn-color-fitted-level-0);\n",
       "  border: var(--sklearn-color-fitted-level-3);\n",
       "}\n",
       "\n",
       ".sk-estimator-doc-link:hover span {\n",
       "  display: block;\n",
       "}\n",
       "\n",
       "/* \"?\"-specific style due to the `<a>` HTML tag */\n",
       "\n",
       "#sk-container-id-1 a.estimator_doc_link {\n",
       "  float: right;\n",
       "  font-size: 1rem;\n",
       "  line-height: 1em;\n",
       "  font-family: monospace;\n",
       "  background-color: var(--sklearn-color-background);\n",
       "  border-radius: 1rem;\n",
       "  height: 1rem;\n",
       "  width: 1rem;\n",
       "  text-decoration: none;\n",
       "  /* unfitted */\n",
       "  color: var(--sklearn-color-unfitted-level-1);\n",
       "  border: var(--sklearn-color-unfitted-level-1) 1pt solid;\n",
       "}\n",
       "\n",
       "#sk-container-id-1 a.estimator_doc_link.fitted {\n",
       "  /* fitted */\n",
       "  border: var(--sklearn-color-fitted-level-1) 1pt solid;\n",
       "  color: var(--sklearn-color-fitted-level-1);\n",
       "}\n",
       "\n",
       "/* On hover */\n",
       "#sk-container-id-1 a.estimator_doc_link:hover {\n",
       "  /* unfitted */\n",
       "  background-color: var(--sklearn-color-unfitted-level-3);\n",
       "  color: var(--sklearn-color-background);\n",
       "  text-decoration: none;\n",
       "}\n",
       "\n",
       "#sk-container-id-1 a.estimator_doc_link.fitted:hover {\n",
       "  /* fitted */\n",
       "  background-color: var(--sklearn-color-fitted-level-3);\n",
       "}\n",
       "</style><div id=\"sk-container-id-1\" class=\"sk-top-container\"><div class=\"sk-text-repr-fallback\"><pre>XGBRegressor(base_score=None, booster=None, callbacks=None,\n",
       "             colsample_bylevel=None, colsample_bynode=None,\n",
       "             colsample_bytree=None, device=None, early_stopping_rounds=None,\n",
       "             enable_categorical=False, eval_metric=None, feature_types=None,\n",
       "             gamma=None, grow_policy=None, importance_type=None,\n",
       "             interaction_constraints=None, learning_rate=0.1, max_bin=None,\n",
       "             max_cat_threshold=None, max_cat_to_onehot=None,\n",
       "             max_delta_step=None, max_depth=5, max_leaves=None,\n",
       "             min_child_weight=None, missing=nan, monotone_constraints=None,\n",
       "             multi_strategy=None, n_estimators=100, n_jobs=None,\n",
       "             num_parallel_tree=None, random_state=42, ...)</pre><b>In a Jupyter environment, please rerun this cell to show the HTML representation or trust the notebook. <br />On GitHub, the HTML representation is unable to render, please try loading this page with nbviewer.org.</b></div><div class=\"sk-container\" hidden><div class=\"sk-item\"><div class=\"sk-estimator fitted sk-toggleable\"><input class=\"sk-toggleable__control sk-hidden--visually\" id=\"sk-estimator-id-1\" type=\"checkbox\" checked><label for=\"sk-estimator-id-1\" class=\"sk-toggleable__label fitted sk-toggleable__label-arrow fitted\">&nbsp;XGBRegressor<span class=\"sk-estimator-doc-link fitted\">i<span>Fitted</span></span></label><div class=\"sk-toggleable__content fitted\"><pre>XGBRegressor(base_score=None, booster=None, callbacks=None,\n",
       "             colsample_bylevel=None, colsample_bynode=None,\n",
       "             colsample_bytree=None, device=None, early_stopping_rounds=None,\n",
       "             enable_categorical=False, eval_metric=None, feature_types=None,\n",
       "             gamma=None, grow_policy=None, importance_type=None,\n",
       "             interaction_constraints=None, learning_rate=0.1, max_bin=None,\n",
       "             max_cat_threshold=None, max_cat_to_onehot=None,\n",
       "             max_delta_step=None, max_depth=5, max_leaves=None,\n",
       "             min_child_weight=None, missing=nan, monotone_constraints=None,\n",
       "             multi_strategy=None, n_estimators=100, n_jobs=None,\n",
       "             num_parallel_tree=None, random_state=42, ...)</pre></div> </div></div></div></div>"
      ],
      "text/plain": [
       "XGBRegressor(base_score=None, booster=None, callbacks=None,\n",
       "             colsample_bylevel=None, colsample_bynode=None,\n",
       "             colsample_bytree=None, device=None, early_stopping_rounds=None,\n",
       "             enable_categorical=False, eval_metric=None, feature_types=None,\n",
       "             gamma=None, grow_policy=None, importance_type=None,\n",
       "             interaction_constraints=None, learning_rate=0.1, max_bin=None,\n",
       "             max_cat_threshold=None, max_cat_to_onehot=None,\n",
       "             max_delta_step=None, max_depth=5, max_leaves=None,\n",
       "             min_child_weight=None, missing=nan, monotone_constraints=None,\n",
       "             multi_strategy=None, n_estimators=100, n_jobs=None,\n",
       "             num_parallel_tree=None, random_state=42, ...)"
      ]
     },
     "execution_count": 35,
     "metadata": {},
     "output_type": "execute_result"
    }
   ],
   "source": [
    "# Train the model\n",
    "xgb_model.fit(X_train_xgb, y_train_xgb)"
   ]
  },
  {
   "cell_type": "code",
   "execution_count": 36,
   "metadata": {},
   "outputs": [],
   "source": [
    "# Generate predictions\n",
    "y_pred_xgb = xgb_model.predict(X_test_xgb)\n",
    "y_pred_xgb = pd.DataFrame(y_pred_xgb, index=test_data.index, columns=['Close_ASML'])"
   ]
  },
  {
   "cell_type": "code",
   "execution_count": 37,
   "metadata": {},
   "outputs": [
    {
     "data": {
      "text/plain": [
       "85.34394150146804"
      ]
     },
     "execution_count": 37,
     "metadata": {},
     "output_type": "execute_result"
    }
   ],
   "source": [
    "# Evaluate the model's performance\n",
    "rmse_xgb = root_mean_squared_error(y_test_xgb, y_pred_xgb)\n",
    "rmse_xgb"
   ]
  },
  {
   "cell_type": "code",
   "execution_count": 38,
   "metadata": {},
   "outputs": [
    {
     "data": {
      "text/plain": [
       "9.618952345721572"
      ]
     },
     "execution_count": 38,
     "metadata": {},
     "output_type": "execute_result"
    }
   ],
   "source": [
    "mape_xgb = mean_absolute_percentage_error(y_test_xgb, y_pred_xgb)*100\n",
    "mape_xgb"
   ]
  },
  {
   "cell_type": "code",
   "execution_count": 39,
   "metadata": {
    "scrolled": true
   },
   "outputs": [
    {
     "data": {
      "image/png": "[encoded data removed]",
      "text/plain": [
       "<Figure size 1600x400 with 1 Axes>"
      ]
     },
     "metadata": {},
     "output_type": "display_data"
    }
   ],
   "source": [
    "# Plot actual vs. predicted values\n",
    "plot_series(y_train_xgb[200:], y_test_xgb, y_pred_xgb, labels=[\"y_train\", \"y_test\", \"y_pred\"]);"
   ]
  },
  {
   "cell_type": "markdown",
   "metadata": {},
   "source": [
    "Results if compared with the previous prophet models are not so good in a numerical and visual sense and so, we will still choose the prophet as our main model."
   ]
  },
  {
   "cell_type": "markdown",
   "metadata": {},
   "source": [
    "### 2.4.7 Random Forest"
   ]
  },
  {
   "cell_type": "markdown",
   "metadata": {},
   "source": [
    "We will proceed with the Random Forest model using the same logic that we used for XGBoost."
   ]
  },
  {
   "cell_type": "code",
   "execution_count": 40,
   "metadata": {},
   "outputs": [],
   "source": [
    "# Prepare X and y for the model\n",
    "# Since we're not adding any features, we simply use the index as an integer sequence\n",
    "X_train_rf = train_data_xgb_rf.drop('Close_ASML', axis=1)\n",
    "y_train_rf = train_data_xgb_rf['Close_ASML']\n",
    "X_test_rf = test_data_xgb_rf.drop('Close_ASML', axis=1)\n",
    "y_test_rf = test_data_xgb_rf['Close_ASML']"
   ]
  },
  {
   "cell_type": "code",
   "execution_count": 41,
   "metadata": {},
   "outputs": [],
   "source": [
    "# Initialize the Random Forest model\n",
    "rf_model = RandomForestRegressor(\n",
    "    n_estimators=100,       # Number of trees\n",
    "    max_depth=5,            # Maximum depth of trees\n",
    "    random_state=42         # For reproducibility\n",
    ")"
   ]
  },
  {
   "cell_type": "code",
   "execution_count": 42,
   "metadata": {},
   "outputs": [
    {
     "data": {
      "text/html": [
       "<style>#sk-container-id-2 {\n",
       "  /* Definition of color scheme common for light and dark mode */\n",
       "  --sklearn-color-text: black;\n",
       "  --sklearn-color-line: gray;\n",
       "  /* Definition of color scheme for unfitted estimators */\n",
       "  --sklearn-color-unfitted-level-0: #fff5e6;\n",
       "  --sklearn-color-unfitted-level-1: #f6e4d2;\n",
       "  --sklearn-color-unfitted-level-2: #ffe0b3;\n",
       "  --sklearn-color-unfitted-level-3: chocolate;\n",
       "  /* Definition of color scheme for fitted estimators */\n",
       "  --sklearn-color-fitted-level-0: #f0f8ff;\n",
       "  --sklearn-color-fitted-level-1: #d4ebff;\n",
       "  --sklearn-color-fitted-level-2: #b3dbfd;\n",
       "  --sklearn-color-fitted-level-3: cornflowerblue;\n",
       "\n",
       "  /* Specific color for light theme */\n",
       "  --sklearn-color-text-on-default-background: var(--sg-text-color, var(--theme-code-foreground, var(--jp-content-font-color1, black)));\n",
       "  --sklearn-color-background: var(--sg-background-color, var(--theme-background, var(--jp-layout-color0, white)));\n",
       "  --sklearn-color-border-box: var(--sg-text-color, var(--theme-code-foreground, var(--jp-content-font-color1, black)));\n",
       "  --sklearn-color-icon: #696969;\n",
       "\n",
       "  @media (prefers-color-scheme: dark) {\n",
       "    /* Redefinition of color scheme for dark theme */\n",
       "    --sklearn-color-text-on-default-background: var(--sg-text-color, var(--theme-code-foreground, var(--jp-content-font-color1, white)));\n",
       "    --sklearn-color-background: var(--sg-background-color, var(--theme-background, var(--jp-layout-color0, #111)));\n",
       "    --sklearn-color-border-box: var(--sg-text-color, var(--theme-code-foreground, var(--jp-content-font-color1, white)));\n",
       "    --sklearn-color-icon: #878787;\n",
       "  }\n",
       "}\n",
       "\n",
       "#sk-container-id-2 {\n",
       "  color: var(--sklearn-color-text);\n",
       "}\n",
       "\n",
       "#sk-container-id-2 pre {\n",
       "  padding: 0;\n",
       "}\n",
       "\n",
       "#sk-container-id-2 input.sk-hidden--visually {\n",
       "  border: 0;\n",
       "  clip: rect(1px 1px 1px 1px);\n",
       "  clip: rect(1px, 1px, 1px, 1px);\n",
       "  height: 1px;\n",
       "  margin: -1px;\n",
       "  overflow: hidden;\n",
       "  padding: 0;\n",
       "  position: absolute;\n",
       "  width: 1px;\n",
       "}\n",
       "\n",
       "#sk-container-id-2 div.sk-dashed-wrapped {\n",
       "  border: 1px dashed var(--sklearn-color-line);\n",
       "  margin: 0 0.4em 0.5em 0.4em;\n",
       "  box-sizing: border-box;\n",
       "  padding-bottom: 0.4em;\n",
       "  background-color: var(--sklearn-color-background);\n",
       "}\n",
       "\n",
       "#sk-container-id-2 div.sk-container {\n",
       "  /* jupyter's `normalize.less` sets `[hidden] { display: none; }`\n",
       "     but bootstrap.min.css set `[hidden] { display: none !important; }`\n",
       "     so we also need the `!important` here to be able to override the\n",
       "     default hidden behavior on the sphinx rendered scikit-learn.org.\n",
       "     See: https://github.com/scikit-learn/scikit-learn/issues/21755 */\n",
       "  display: inline-block !important;\n",
       "  position: relative;\n",
       "}\n",
       "\n",
       "#sk-container-id-2 div.sk-text-repr-fallback {\n",
       "  display: none;\n",
       "}\n",
       "\n",
       "div.sk-parallel-item,\n",
       "div.sk-serial,\n",
       "div.sk-item {\n",
       "  /* draw centered vertical line to link estimators */\n",
       "  background-image: linear-gradient(var(--sklearn-color-text-on-default-background), var(--sklearn-color-text-on-default-background));\n",
       "  background-size: 2px 100%;\n",
       "  background-repeat: no-repeat;\n",
       "  background-position: center center;\n",
       "}\n",
       "\n",
       "/* Parallel-specific style estimator block */\n",
       "\n",
       "#sk-container-id-2 div.sk-parallel-item::after {\n",
       "  content: \"\";\n",
       "  width: 100%;\n",
       "  border-bottom: 2px solid var(--sklearn-color-text-on-default-background);\n",
       "  flex-grow: 1;\n",
       "}\n",
       "\n",
       "#sk-container-id-2 div.sk-parallel {\n",
       "  display: flex;\n",
       "  align-items: stretch;\n",
       "  justify-content: center;\n",
       "  background-color: var(--sklearn-color-background);\n",
       "  position: relative;\n",
       "}\n",
       "\n",
       "#sk-container-id-2 div.sk-parallel-item {\n",
       "  display: flex;\n",
       "  flex-direction: column;\n",
       "}\n",
       "\n",
       "#sk-container-id-2 div.sk-parallel-item:first-child::after {\n",
       "  align-self: flex-end;\n",
       "  width: 50%;\n",
       "}\n",
       "\n",
       "#sk-container-id-2 div.sk-parallel-item:last-child::after {\n",
       "  align-self: flex-start;\n",
       "  width: 50%;\n",
       "}\n",
       "\n",
       "#sk-container-id-2 div.sk-parallel-item:only-child::after {\n",
       "  width: 0;\n",
       "}\n",
       "\n",
       "/* Serial-specific style estimator block */\n",
       "\n",
       "#sk-container-id-2 div.sk-serial {\n",
       "  display: flex;\n",
       "  flex-direction: column;\n",
       "  align-items: center;\n",
       "  background-color: var(--sklearn-color-background);\n",
       "  padding-right: 1em;\n",
       "  padding-left: 1em;\n",
       "}\n",
       "\n",
       "\n",
       "/* Toggleable style: style used for estimator/Pipeline/ColumnTransformer box that is\n",
       "clickable and can be expanded/collapsed.\n",
       "- Pipeline and ColumnTransformer use this feature and define the default style\n",
       "- Estimators will overwrite some part of the style using the `sk-estimator` class\n",
       "*/\n",
       "\n",
       "/* Pipeline and ColumnTransformer style (default) */\n",
       "\n",
       "#sk-container-id-2 div.sk-toggleable {\n",
       "  /* Default theme specific background. It is overwritten whether we have a\n",
       "  specific estimator or a Pipeline/ColumnTransformer */\n",
       "  background-color: var(--sklearn-color-background);\n",
       "}\n",
       "\n",
       "/* Toggleable label */\n",
       "#sk-container-id-2 label.sk-toggleable__label {\n",
       "  cursor: pointer;\n",
       "  display: block;\n",
       "  width: 100%;\n",
       "  margin-bottom: 0;\n",
       "  padding: 0.5em;\n",
       "  box-sizing: border-box;\n",
       "  text-align: center;\n",
       "}\n",
       "\n",
       "#sk-container-id-2 label.sk-toggleable__label-arrow:before {\n",
       "  /* Arrow on the left of the label */\n",
       "  content: \"▸\";\n",
       "  float: left;\n",
       "  margin-right: 0.25em;\n",
       "  color: var(--sklearn-color-icon);\n",
       "}\n",
       "\n",
       "#sk-container-id-2 label.sk-toggleable__label-arrow:hover:before {\n",
       "  color: var(--sklearn-color-text);\n",
       "}\n",
       "\n",
       "/* Toggleable content - dropdown */\n",
       "\n",
       "#sk-container-id-2 div.sk-toggleable__content {\n",
       "  max-height: 0;\n",
       "  max-width: 0;\n",
       "  overflow: hidden;\n",
       "  text-align: left;\n",
       "  /* unfitted */\n",
       "  background-color: var(--sklearn-color-unfitted-level-0);\n",
       "}\n",
       "\n",
       "#sk-container-id-2 div.sk-toggleable__content.fitted {\n",
       "  /* fitted */\n",
       "  background-color: var(--sklearn-color-fitted-level-0);\n",
       "}\n",
       "\n",
       "#sk-container-id-2 div.sk-toggleable__content pre {\n",
       "  margin: 0.2em;\n",
       "  border-radius: 0.25em;\n",
       "  color: var(--sklearn-color-text);\n",
       "  /* unfitted */\n",
       "  background-color: var(--sklearn-color-unfitted-level-0);\n",
       "}\n",
       "\n",
       "#sk-container-id-2 div.sk-toggleable__content.fitted pre {\n",
       "  /* unfitted */\n",
       "  background-color: var(--sklearn-color-fitted-level-0);\n",
       "}\n",
       "\n",
       "#sk-container-id-2 input.sk-toggleable__control:checked~div.sk-toggleable__content {\n",
       "  /* Expand drop-down */\n",
       "  max-height: 200px;\n",
       "  max-width: 100%;\n",
       "  overflow: auto;\n",
       "}\n",
       "\n",
       "#sk-container-id-2 input.sk-toggleable__control:checked~label.sk-toggleable__label-arrow:before {\n",
       "  content: \"▾\";\n",
       "}\n",
       "\n",
       "/* Pipeline/ColumnTransformer-specific style */\n",
       "\n",
       "#sk-container-id-2 div.sk-label input.sk-toggleable__control:checked~label.sk-toggleable__label {\n",
       "  color: var(--sklearn-color-text);\n",
       "  background-color: var(--sklearn-color-unfitted-level-2);\n",
       "}\n",
       "\n",
       "#sk-container-id-2 div.sk-label.fitted input.sk-toggleable__control:checked~label.sk-toggleable__label {\n",
       "  background-color: var(--sklearn-color-fitted-level-2);\n",
       "}\n",
       "\n",
       "/* Estimator-specific style */\n",
       "\n",
       "/* Colorize estimator box */\n",
       "#sk-container-id-2 div.sk-estimator input.sk-toggleable__control:checked~label.sk-toggleable__label {\n",
       "  /* unfitted */\n",
       "  background-color: var(--sklearn-color-unfitted-level-2);\n",
       "}\n",
       "\n",
       "#sk-container-id-2 div.sk-estimator.fitted input.sk-toggleable__control:checked~label.sk-toggleable__label {\n",
       "  /* fitted */\n",
       "  background-color: var(--sklearn-color-fitted-level-2);\n",
       "}\n",
       "\n",
       "#sk-container-id-2 div.sk-label label.sk-toggleable__label,\n",
       "#sk-container-id-2 div.sk-label label {\n",
       "  /* The background is the default theme color */\n",
       "  color: var(--sklearn-color-text-on-default-background);\n",
       "}\n",
       "\n",
       "/* On hover, darken the color of the background */\n",
       "#sk-container-id-2 div.sk-label:hover label.sk-toggleable__label {\n",
       "  color: var(--sklearn-color-text);\n",
       "  background-color: var(--sklearn-color-unfitted-level-2);\n",
       "}\n",
       "\n",
       "/* Label box, darken color on hover, fitted */\n",
       "#sk-container-id-2 div.sk-label.fitted:hover label.sk-toggleable__label.fitted {\n",
       "  color: var(--sklearn-color-text);\n",
       "  background-color: var(--sklearn-color-fitted-level-2);\n",
       "}\n",
       "\n",
       "/* Estimator label */\n",
       "\n",
       "#sk-container-id-2 div.sk-label label {\n",
       "  font-family: monospace;\n",
       "  font-weight: bold;\n",
       "  display: inline-block;\n",
       "  line-height: 1.2em;\n",
       "}\n",
       "\n",
       "#sk-container-id-2 div.sk-label-container {\n",
       "  text-align: center;\n",
       "}\n",
       "\n",
       "/* Estimator-specific */\n",
       "#sk-container-id-2 div.sk-estimator {\n",
       "  font-family: monospace;\n",
       "  border: 1px dotted var(--sklearn-color-border-box);\n",
       "  border-radius: 0.25em;\n",
       "  box-sizing: border-box;\n",
       "  margin-bottom: 0.5em;\n",
       "  /* unfitted */\n",
       "  background-color: var(--sklearn-color-unfitted-level-0);\n",
       "}\n",
       "\n",
       "#sk-container-id-2 div.sk-estimator.fitted {\n",
       "  /* fitted */\n",
       "  background-color: var(--sklearn-color-fitted-level-0);\n",
       "}\n",
       "\n",
       "/* on hover */\n",
       "#sk-container-id-2 div.sk-estimator:hover {\n",
       "  /* unfitted */\n",
       "  background-color: var(--sklearn-color-unfitted-level-2);\n",
       "}\n",
       "\n",
       "#sk-container-id-2 div.sk-estimator.fitted:hover {\n",
       "  /* fitted */\n",
       "  background-color: var(--sklearn-color-fitted-level-2);\n",
       "}\n",
       "\n",
       "/* Specification for estimator info (e.g. \"i\" and \"?\") */\n",
       "\n",
       "/* Common style for \"i\" and \"?\" */\n",
       "\n",
       ".sk-estimator-doc-link,\n",
       "a:link.sk-estimator-doc-link,\n",
       "a:visited.sk-estimator-doc-link {\n",
       "  float: right;\n",
       "  font-size: smaller;\n",
       "  line-height: 1em;\n",
       "  font-family: monospace;\n",
       "  background-color: var(--sklearn-color-background);\n",
       "  border-radius: 1em;\n",
       "  height: 1em;\n",
       "  width: 1em;\n",
       "  text-decoration: none !important;\n",
       "  margin-left: 1ex;\n",
       "  /* unfitted */\n",
       "  border: var(--sklearn-color-unfitted-level-1) 1pt solid;\n",
       "  color: var(--sklearn-color-unfitted-level-1);\n",
       "}\n",
       "\n",
       ".sk-estimator-doc-link.fitted,\n",
       "a:link.sk-estimator-doc-link.fitted,\n",
       "a:visited.sk-estimator-doc-link.fitted {\n",
       "  /* fitted */\n",
       "  border: var(--sklearn-color-fitted-level-1) 1pt solid;\n",
       "  color: var(--sklearn-color-fitted-level-1);\n",
       "}\n",
       "\n",
       "/* On hover */\n",
       "div.sk-estimator:hover .sk-estimator-doc-link:hover,\n",
       ".sk-estimator-doc-link:hover,\n",
       "div.sk-label-container:hover .sk-estimator-doc-link:hover,\n",
       ".sk-estimator-doc-link:hover {\n",
       "  /* unfitted */\n",
       "  background-color: var(--sklearn-color-unfitted-level-3);\n",
       "  color: var(--sklearn-color-background);\n",
       "  text-decoration: none;\n",
       "}\n",
       "\n",
       "div.sk-estimator.fitted:hover .sk-estimator-doc-link.fitted:hover,\n",
       ".sk-estimator-doc-link.fitted:hover,\n",
       "div.sk-label-container:hover .sk-estimator-doc-link.fitted:hover,\n",
       ".sk-estimator-doc-link.fitted:hover {\n",
       "  /* fitted */\n",
       "  background-color: var(--sklearn-color-fitted-level-3);\n",
       "  color: var(--sklearn-color-background);\n",
       "  text-decoration: none;\n",
       "}\n",
       "\n",
       "/* Span, style for the box shown on hovering the info icon */\n",
       ".sk-estimator-doc-link span {\n",
       "  display: none;\n",
       "  z-index: 9999;\n",
       "  position: relative;\n",
       "  font-weight: normal;\n",
       "  right: .2ex;\n",
       "  padding: .5ex;\n",
       "  margin: .5ex;\n",
       "  width: min-content;\n",
       "  min-width: 20ex;\n",
       "  max-width: 50ex;\n",
       "  color: var(--sklearn-color-text);\n",
       "  box-shadow: 2pt 2pt 4pt #999;\n",
       "  /* unfitted */\n",
       "  background: var(--sklearn-color-unfitted-level-0);\n",
       "  border: .5pt solid var(--sklearn-color-unfitted-level-3);\n",
       "}\n",
       "\n",
       ".sk-estimator-doc-link.fitted span {\n",
       "  /* fitted */\n",
       "  background: var(--sklearn-color-fitted-level-0);\n",
       "  border: var(--sklearn-color-fitted-level-3);\n",
       "}\n",
       "\n",
       ".sk-estimator-doc-link:hover span {\n",
       "  display: block;\n",
       "}\n",
       "\n",
       "/* \"?\"-specific style due to the `<a>` HTML tag */\n",
       "\n",
       "#sk-container-id-2 a.estimator_doc_link {\n",
       "  float: right;\n",
       "  font-size: 1rem;\n",
       "  line-height: 1em;\n",
       "  font-family: monospace;\n",
       "  background-color: var(--sklearn-color-background);\n",
       "  border-radius: 1rem;\n",
       "  height: 1rem;\n",
       "  width: 1rem;\n",
       "  text-decoration: none;\n",
       "  /* unfitted */\n",
       "  color: var(--sklearn-color-unfitted-level-1);\n",
       "  border: var(--sklearn-color-unfitted-level-1) 1pt solid;\n",
       "}\n",
       "\n",
       "#sk-container-id-2 a.estimator_doc_link.fitted {\n",
       "  /* fitted */\n",
       "  border: var(--sklearn-color-fitted-level-1) 1pt solid;\n",
       "  color: var(--sklearn-color-fitted-level-1);\n",
       "}\n",
       "\n",
       "/* On hover */\n",
       "#sk-container-id-2 a.estimator_doc_link:hover {\n",
       "  /* unfitted */\n",
       "  background-color: var(--sklearn-color-unfitted-level-3);\n",
       "  color: var(--sklearn-color-background);\n",
       "  text-decoration: none;\n",
       "}\n",
       "\n",
       "#sk-container-id-2 a.estimator_doc_link.fitted:hover {\n",
       "  /* fitted */\n",
       "  background-color: var(--sklearn-color-fitted-level-3);\n",
       "}\n",
       "</style><div id=\"sk-container-id-2\" class=\"sk-top-container\"><div class=\"sk-text-repr-fallback\"><pre>RandomForestRegressor(max_depth=5, random_state=42)</pre><b>In a Jupyter environment, please rerun this cell to show the HTML representation or trust the notebook. <br />On GitHub, the HTML representation is unable to render, please try loading this page with nbviewer.org.</b></div><div class=\"sk-container\" hidden><div class=\"sk-item\"><div class=\"sk-estimator fitted sk-toggleable\"><input class=\"sk-toggleable__control sk-hidden--visually\" id=\"sk-estimator-id-2\" type=\"checkbox\" checked><label for=\"sk-estimator-id-2\" class=\"sk-toggleable__label fitted sk-toggleable__label-arrow fitted\">&nbsp;&nbsp;RandomForestRegressor<a class=\"sk-estimator-doc-link fitted\" rel=\"noreferrer\" target=\"_blank\" href=\"https://scikit-learn.org/1.5/modules/generated/sklearn.ensemble.RandomForestRegressor.html\">?<span>Documentation for RandomForestRegressor</span></a><span class=\"sk-estimator-doc-link fitted\">i<span>Fitted</span></span></label><div class=\"sk-toggleable__content fitted\"><pre>RandomForestRegressor(max_depth=5, random_state=42)</pre></div> </div></div></div></div>"
      ],
      "text/plain": [
       "RandomForestRegressor(max_depth=5, random_state=42)"
      ]
     },
     "execution_count": 42,
     "metadata": {},
     "output_type": "execute_result"
    }
   ],
   "source": [
    "# Train the model\n",
    "rf_model.fit(X_train_rf, y_train_rf)"
   ]
  },
  {
   "cell_type": "code",
   "execution_count": 43,
   "metadata": {},
   "outputs": [],
   "source": [
    "# Generate predictions\n",
    "y_pred_rf = rf_model.predict(X_test_rf)\n",
    "\n",
    "# Convert predictions to a DataFrame with the same index as the test data\n",
    "y_pred_rf = pd.DataFrame(y_pred_rf, index=test_data.index, columns=['Close'])"
   ]
  },
  {
   "cell_type": "code",
   "execution_count": 44,
   "metadata": {},
   "outputs": [
    {
     "data": {
      "text/plain": [
       "84.04194505033101"
      ]
     },
     "execution_count": 44,
     "metadata": {},
     "output_type": "execute_result"
    }
   ],
   "source": [
    "# Evaluate the model's performance\n",
    "rmse_rf = root_mean_squared_error(y_test_rf, y_pred_rf)\n",
    "rmse_rf"
   ]
  },
  {
   "cell_type": "code",
   "execution_count": 45,
   "metadata": {},
   "outputs": [
    {
     "data": {
      "text/plain": [
       "9.301373257011454"
      ]
     },
     "execution_count": 45,
     "metadata": {},
     "output_type": "execute_result"
    }
   ],
   "source": [
    "mape_rf = mean_absolute_percentage_error(y_test_rf, y_pred_rf)*100\n",
    "mape_rf"
   ]
  },
  {
   "cell_type": "code",
   "execution_count": 46,
   "metadata": {},
   "outputs": [
    {
     "data": {
      "image/png": "[encoded data removed]",
      "text/plain": [
       "<Figure size 1600x400 with 1 Axes>"
      ]
     },
     "metadata": {},
     "output_type": "display_data"
    }
   ],
   "source": [
    "# Plot actual vs. predicted values\n",
    "plot_series(y_train_rf[200:], y_test_rf, y_pred_rf, labels=[\"y_train\", \"y_test\", \"y_pred\"]);"
   ]
  },
  {
   "cell_type": "markdown",
   "metadata": {},
   "source": [
    "The results are far from convincing. So, we decide to keep with the prophet model. Nevertheless, we will create a table that compares the MAPE and RMSE results of all the models in the following code cells."
   ]
  },
  {
   "cell_type": "markdown",
   "metadata": {},
   "source": [
    "### 2.4.8 RMSE and MAPE comparison"
   ]
  },
  {
   "cell_type": "code",
   "execution_count": 47,
   "metadata": {},
   "outputs": [],
   "source": [
    "# Create a dictionary to store RMSE and MAPE for each model\n",
    "metrics = {\n",
    "    \"Model\": [\"SARIMAX\", \"Prophet\", \"XGBoost\", \"Random Forest\"],\n",
    "    \"RMSE\": [\n",
    "        rmse_sarima,\n",
    "        rmse_prophet,\n",
    "        rmse_xgb,\n",
    "        rmse_rf\n",
    "    ],\n",
    "    \"MAPE\": [\n",
    "        mape_sarima,\n",
    "        mape_prophet,\n",
    "        mape_xgb,\n",
    "        mape_rf\n",
    "    ]\n",
    "}"
   ]
  },
  {
   "cell_type": "code",
   "execution_count": 48,
   "metadata": {
    "scrolled": true
   },
   "outputs": [
    {
     "data": {
      "text/html": [
       "<div>\n",
       "<style scoped>\n",
       "    .dataframe tbody tr th:only-of-type {\n",
       "        vertical-align: middle;\n",
       "    }\n",
       "\n",
       "    .dataframe tbody tr th {\n",
       "        vertical-align: top;\n",
       "    }\n",
       "\n",
       "    .dataframe thead th {\n",
       "        text-align: right;\n",
       "    }\n",
       "</style>\n",
       "<table border=\"1\" class=\"dataframe\">\n",
       "  <thead>\n",
       "    <tr style=\"text-align: right;\">\n",
       "      <th></th>\n",
       "      <th>Model</th>\n",
       "      <th>RMSE</th>\n",
       "      <th>MAPE</th>\n",
       "    </tr>\n",
       "  </thead>\n",
       "  <tbody>\n",
       "    <tr>\n",
       "      <th>0</th>\n",
       "      <td>SARIMAX</td>\n",
       "      <td>94.445391</td>\n",
       "      <td>11.172580</td>\n",
       "    </tr>\n",
       "    <tr>\n",
       "      <th>1</th>\n",
       "      <td>Prophet</td>\n",
       "      <td>71.951004</td>\n",
       "      <td>7.931243</td>\n",
       "    </tr>\n",
       "    <tr>\n",
       "      <th>2</th>\n",
       "      <td>XGBoost</td>\n",
       "      <td>85.343942</td>\n",
       "      <td>9.618952</td>\n",
       "    </tr>\n",
       "    <tr>\n",
       "      <th>3</th>\n",
       "      <td>Random Forest</td>\n",
       "      <td>84.041945</td>\n",
       "      <td>9.301373</td>\n",
       "    </tr>\n",
       "  </tbody>\n",
       "</table>\n",
       "</div>"
      ],
      "text/plain": [
       "           Model       RMSE       MAPE\n",
       "0        SARIMAX  94.445391  11.172580\n",
       "1        Prophet  71.951004   7.931243\n",
       "2        XGBoost  85.343942   9.618952\n",
       "3  Random Forest  84.041945   9.301373"
      ]
     },
     "execution_count": 48,
     "metadata": {},
     "output_type": "execute_result"
    }
   ],
   "source": [
    "# Convert the dictionary to a pandas DataFrame\n",
    "metrics_df = pd.DataFrame(metrics)\n",
    "\n",
    "metrics_df"
   ]
  },
  {
   "cell_type": "markdown",
   "metadata": {},
   "source": [
    "Our best model is Prophet as it has the lowest RMSE and MAPE. We shall now proceed to do a fine-tunning of the prophet model. We will be disregarding the other models because they are significantly worse in performance."
   ]
  },
  {
   "cell_type": "markdown",
   "metadata": {},
   "source": [
    "### 2.4.9 Checking for the best regressors"
   ]
  },
  {
   "cell_type": "markdown",
   "metadata": {},
   "source": [
    "Let's define the new parameters in the regressor dictionary that interests us"
   ]
  },
  {
   "cell_type": "code",
   "execution_count": 49,
   "metadata": {},
   "outputs": [
    {
     "name": "stdout",
     "output_type": "stream",
     "text": [
      "\n",
      "Top 5 Regressors with Highest Coefficients:\n",
      "Close_Lam_Research_Corporation\n",
      "Trade_Sanctions\n",
      "Close_Carl_Zeiss_Meditec\n",
      "New_Product_Launch\n",
      "Israel_Gaza_Conflict\n"
     ]
    }
   ],
   "source": [
    "# Extracting the coefficients of the regressors from a trained Prophet model\n",
    "# Ensure the prophet_model has been trained with regressors\n",
    "\n",
    "# The model's trained parameters are stored in prophet_model.params\n",
    "model_params = prophet_model.params\n",
    "\n",
    "# Access the dataframe containing the coefficients for extra regressors\n",
    "# 'beta' contains the coefficients for additional regressors\n",
    "regressor_coefficients = model_params['beta'][0]\n",
    "\n",
    "# Extract the names of the regressors\n",
    "# These are stored in the model's 'extra_regressors' attribute\n",
    "regressor_names = list(prophet_model.extra_regressors.keys())\n",
    "\n",
    "# Combine the regressor names with their corresponding coefficients\n",
    "# This creates a dictionary where the keys are regressor names and values are coefficients\n",
    "regressor_coefficients_dict = dict(zip(regressor_names, regressor_coefficients))\n",
    "\n",
    "# Find the top 5 regressors with the highest coefficients (absolute values)\n",
    "# Sort the dictionary by absolute values of the coefficients in descending order\n",
    "new_regressors = sorted(regressor_coefficients_dict.items(), key=lambda x: abs(x[1]), reverse=True)[:5]\n",
    "\n",
    "# Convert the top 5 regressors into a list of tuples\n",
    "new_regressors_list = [regressor for regressor, coefficient in new_regressors]\n",
    "\n",
    "# Print the top 5 regressors with the highest coefficients\n",
    "print(\"\\nTop 5 Regressors with Highest Coefficients:\")\n",
    "for regressor in new_regressors_list:\n",
    "    print(f\"{regressor}\")"
   ]
  },
  {
   "cell_type": "markdown",
   "metadata": {},
   "source": [
    "Let's keep these top 5 regressors in the train_data_prophet and test_data_prophet"
   ]
  },
  {
   "cell_type": "code",
   "execution_count": 50,
   "metadata": {},
   "outputs": [
    {
     "data": {
      "text/html": [
       "<div>\n",
       "<style scoped>\n",
       "    .dataframe tbody tr th:only-of-type {\n",
       "        vertical-align: middle;\n",
       "    }\n",
       "\n",
       "    .dataframe tbody tr th {\n",
       "        vertical-align: top;\n",
       "    }\n",
       "\n",
       "    .dataframe thead th {\n",
       "        text-align: right;\n",
       "    }\n",
       "</style>\n",
       "<table border=\"1\" class=\"dataframe\">\n",
       "  <thead>\n",
       "    <tr style=\"text-align: right;\">\n",
       "      <th></th>\n",
       "      <th>ds</th>\n",
       "      <th>y</th>\n",
       "      <th>Close_Lam_Research_Corporation</th>\n",
       "      <th>Trade_Sanctions</th>\n",
       "      <th>Close_Carl_Zeiss_Meditec</th>\n",
       "      <th>New_Product_Launch</th>\n",
       "      <th>Israel_Gaza_Conflict</th>\n",
       "    </tr>\n",
       "  </thead>\n",
       "  <tbody>\n",
       "    <tr>\n",
       "      <th>0</th>\n",
       "      <td>2018-01-14</td>\n",
       "      <td>168.662354</td>\n",
       "      <td>10.626075</td>\n",
       "      <td>0</td>\n",
       "      <td>60.946629</td>\n",
       "      <td>0</td>\n",
       "      <td>0</td>\n",
       "    </tr>\n",
       "    <tr>\n",
       "      <th>1</th>\n",
       "      <td>2018-01-21</td>\n",
       "      <td>185.736542</td>\n",
       "      <td>11.380370</td>\n",
       "      <td>0</td>\n",
       "      <td>60.851772</td>\n",
       "      <td>0</td>\n",
       "      <td>0</td>\n",
       "    </tr>\n",
       "    <tr>\n",
       "      <th>2</th>\n",
       "      <td>2018-01-28</td>\n",
       "      <td>191.564713</td>\n",
       "      <td>11.597983</td>\n",
       "      <td>0</td>\n",
       "      <td>61.373489</td>\n",
       "      <td>0</td>\n",
       "      <td>0</td>\n",
       "    </tr>\n",
       "    <tr>\n",
       "      <th>3</th>\n",
       "      <td>2018-02-04</td>\n",
       "      <td>187.825378</td>\n",
       "      <td>10.593921</td>\n",
       "      <td>0</td>\n",
       "      <td>61.335560</td>\n",
       "      <td>0</td>\n",
       "      <td>0</td>\n",
       "    </tr>\n",
       "    <tr>\n",
       "      <th>4</th>\n",
       "      <td>2018-02-11</td>\n",
       "      <td>174.080200</td>\n",
       "      <td>9.444603</td>\n",
       "      <td>0</td>\n",
       "      <td>58.831287</td>\n",
       "      <td>0</td>\n",
       "      <td>0</td>\n",
       "    </tr>\n",
       "    <tr>\n",
       "      <th>...</th>\n",
       "      <td>...</td>\n",
       "      <td>...</td>\n",
       "      <td>...</td>\n",
       "      <td>...</td>\n",
       "      <td>...</td>\n",
       "      <td>...</td>\n",
       "      <td>...</td>\n",
       "    </tr>\n",
       "    <tr>\n",
       "      <th>342</th>\n",
       "      <td>2024-08-04</td>\n",
       "      <td>868.516907</td>\n",
       "      <td>85.226768</td>\n",
       "      <td>1</td>\n",
       "      <td>68.070000</td>\n",
       "      <td>1</td>\n",
       "      <td>1</td>\n",
       "    </tr>\n",
       "    <tr>\n",
       "      <th>343</th>\n",
       "      <td>2024-08-11</td>\n",
       "      <td>841.041199</td>\n",
       "      <td>76.805382</td>\n",
       "      <td>1</td>\n",
       "      <td>68.430000</td>\n",
       "      <td>1</td>\n",
       "      <td>1</td>\n",
       "    </tr>\n",
       "    <tr>\n",
       "      <th>344</th>\n",
       "      <td>2024-08-18</td>\n",
       "      <td>877.525818</td>\n",
       "      <td>84.276657</td>\n",
       "      <td>1</td>\n",
       "      <td>68.449997</td>\n",
       "      <td>1</td>\n",
       "      <td>1</td>\n",
       "    </tr>\n",
       "    <tr>\n",
       "      <th>345</th>\n",
       "      <td>2024-08-25</td>\n",
       "      <td>924.016968</td>\n",
       "      <td>86.024345</td>\n",
       "      <td>1</td>\n",
       "      <td>69.900002</td>\n",
       "      <td>1</td>\n",
       "      <td>1</td>\n",
       "    </tr>\n",
       "    <tr>\n",
       "      <th>346</th>\n",
       "      <td>2024-09-01</td>\n",
       "      <td>886.055847</td>\n",
       "      <td>81.642670</td>\n",
       "      <td>1</td>\n",
       "      <td>72.644997</td>\n",
       "      <td>1</td>\n",
       "      <td>1</td>\n",
       "    </tr>\n",
       "  </tbody>\n",
       "</table>\n",
       "<p>347 rows × 7 columns</p>\n",
       "</div>"
      ],
      "text/plain": [
       "            ds           y  Close_Lam_Research_Corporation  Trade_Sanctions  \\\n",
       "0   2018-01-14  168.662354                       10.626075                0   \n",
       "1   2018-01-21  185.736542                       11.380370                0   \n",
       "2   2018-01-28  191.564713                       11.597983                0   \n",
       "3   2018-02-04  187.825378                       10.593921                0   \n",
       "4   2018-02-11  174.080200                        9.444603                0   \n",
       "..         ...         ...                             ...              ...   \n",
       "342 2024-08-04  868.516907                       85.226768                1   \n",
       "343 2024-08-11  841.041199                       76.805382                1   \n",
       "344 2024-08-18  877.525818                       84.276657                1   \n",
       "345 2024-08-25  924.016968                       86.024345                1   \n",
       "346 2024-09-01  886.055847                       81.642670                1   \n",
       "\n",
       "     Close_Carl_Zeiss_Meditec  New_Product_Launch  Israel_Gaza_Conflict  \n",
       "0                   60.946629                   0                     0  \n",
       "1                   60.851772                   0                     0  \n",
       "2                   61.373489                   0                     0  \n",
       "3                   61.335560                   0                     0  \n",
       "4                   58.831287                   0                     0  \n",
       "..                        ...                 ...                   ...  \n",
       "342                 68.070000                   1                     1  \n",
       "343                 68.430000                   1                     1  \n",
       "344                 68.449997                   1                     1  \n",
       "345                 69.900002                   1                     1  \n",
       "346                 72.644997                   1                     1  \n",
       "\n",
       "[347 rows x 7 columns]"
      ]
     },
     "execution_count": 50,
     "metadata": {},
     "output_type": "execute_result"
    }
   ],
   "source": [
    "train_data_prophet = train_data_prophet[['y'] + new_regressors_list]\n",
    "train_data_prophet = train_data_prophet.reset_index(names=\"ds\")\n",
    "\n",
    "train_data_prophet"
   ]
  },
  {
   "cell_type": "code",
   "execution_count": 51,
   "metadata": {},
   "outputs": [
    {
     "data": {
      "text/html": [
       "<div>\n",
       "<style scoped>\n",
       "    .dataframe tbody tr th:only-of-type {\n",
       "        vertical-align: middle;\n",
       "    }\n",
       "\n",
       "    .dataframe tbody tr th {\n",
       "        vertical-align: top;\n",
       "    }\n",
       "\n",
       "    .dataframe thead th {\n",
       "        text-align: right;\n",
       "    }\n",
       "</style>\n",
       "<table border=\"1\" class=\"dataframe\">\n",
       "  <thead>\n",
       "    <tr style=\"text-align: right;\">\n",
       "      <th></th>\n",
       "      <th>ds</th>\n",
       "      <th>y</th>\n",
       "      <th>Close_Lam_Research_Corporation</th>\n",
       "      <th>Trade_Sanctions</th>\n",
       "      <th>Close_Carl_Zeiss_Meditec</th>\n",
       "      <th>New_Product_Launch</th>\n",
       "      <th>Israel_Gaza_Conflict</th>\n",
       "    </tr>\n",
       "  </thead>\n",
       "  <tbody>\n",
       "    <tr>\n",
       "      <th>0</th>\n",
       "      <td>2024-09-08</td>\n",
       "      <td>809.584839</td>\n",
       "      <td>75.787483</td>\n",
       "      <td>1</td>\n",
       "      <td>66.605000</td>\n",
       "      <td>1</td>\n",
       "      <td>1</td>\n",
       "    </tr>\n",
       "    <tr>\n",
       "      <th>1</th>\n",
       "      <td>2024-09-15</td>\n",
       "      <td>798.271362</td>\n",
       "      <td>74.551239</td>\n",
       "      <td>1</td>\n",
       "      <td>63.835999</td>\n",
       "      <td>1</td>\n",
       "      <td>1</td>\n",
       "    </tr>\n",
       "    <tr>\n",
       "      <th>2</th>\n",
       "      <td>2024-09-22</td>\n",
       "      <td>801.164551</td>\n",
       "      <td>76.603996</td>\n",
       "      <td>1</td>\n",
       "      <td>65.324997</td>\n",
       "      <td>1</td>\n",
       "      <td>1</td>\n",
       "    </tr>\n",
       "    <tr>\n",
       "      <th>3</th>\n",
       "      <td>2024-09-29</td>\n",
       "      <td>816.269165</td>\n",
       "      <td>80.375000</td>\n",
       "      <td>1</td>\n",
       "      <td>70.800003</td>\n",
       "      <td>1</td>\n",
       "      <td>1</td>\n",
       "    </tr>\n",
       "    <tr>\n",
       "      <th>4</th>\n",
       "      <td>2024-10-06</td>\n",
       "      <td>830.465942</td>\n",
       "      <td>81.408997</td>\n",
       "      <td>1</td>\n",
       "      <td>74.760002</td>\n",
       "      <td>1</td>\n",
       "      <td>1</td>\n",
       "    </tr>\n",
       "    <tr>\n",
       "      <th>5</th>\n",
       "      <td>2024-10-13</td>\n",
       "      <td>832.022278</td>\n",
       "      <td>82.059998</td>\n",
       "      <td>1</td>\n",
       "      <td>72.779999</td>\n",
       "      <td>1</td>\n",
       "      <td>1</td>\n",
       "    </tr>\n",
       "    <tr>\n",
       "      <th>6</th>\n",
       "      <td>2024-10-20</td>\n",
       "      <td>721.570862</td>\n",
       "      <td>74.139999</td>\n",
       "      <td>1</td>\n",
       "      <td>67.094002</td>\n",
       "      <td>1</td>\n",
       "      <td>1</td>\n",
       "    </tr>\n",
       "    <tr>\n",
       "      <th>7</th>\n",
       "      <td>2024-10-27</td>\n",
       "      <td>710.037903</td>\n",
       "      <td>73.000000</td>\n",
       "      <td>1</td>\n",
       "      <td>67.529999</td>\n",
       "      <td>1</td>\n",
       "      <td>1</td>\n",
       "    </tr>\n",
       "    <tr>\n",
       "      <th>8</th>\n",
       "      <td>2024-11-03</td>\n",
       "      <td>683.830017</td>\n",
       "      <td>75.449997</td>\n",
       "      <td>1</td>\n",
       "      <td>65.550003</td>\n",
       "      <td>1</td>\n",
       "      <td>1</td>\n",
       "    </tr>\n",
       "    <tr>\n",
       "      <th>9</th>\n",
       "      <td>2024-11-10</td>\n",
       "      <td>671.159973</td>\n",
       "      <td>76.779999</td>\n",
       "      <td>1</td>\n",
       "      <td>62.200001</td>\n",
       "      <td>1</td>\n",
       "      <td>1</td>\n",
       "    </tr>\n",
       "    <tr>\n",
       "      <th>10</th>\n",
       "      <td>2024-11-17</td>\n",
       "      <td>671.309998</td>\n",
       "      <td>74.790001</td>\n",
       "      <td>1</td>\n",
       "      <td>61.520000</td>\n",
       "      <td>1</td>\n",
       "      <td>1</td>\n",
       "    </tr>\n",
       "    <tr>\n",
       "      <th>11</th>\n",
       "      <td>2024-11-24</td>\n",
       "      <td>665.229980</td>\n",
       "      <td>70.369999</td>\n",
       "      <td>1</td>\n",
       "      <td>60.590000</td>\n",
       "      <td>1</td>\n",
       "      <td>1</td>\n",
       "    </tr>\n",
       "  </tbody>\n",
       "</table>\n",
       "</div>"
      ],
      "text/plain": [
       "           ds           y  Close_Lam_Research_Corporation  Trade_Sanctions  \\\n",
       "0  2024-09-08  809.584839                       75.787483                1   \n",
       "1  2024-09-15  798.271362                       74.551239                1   \n",
       "2  2024-09-22  801.164551                       76.603996                1   \n",
       "3  2024-09-29  816.269165                       80.375000                1   \n",
       "4  2024-10-06  830.465942                       81.408997                1   \n",
       "5  2024-10-13  832.022278                       82.059998                1   \n",
       "6  2024-10-20  721.570862                       74.139999                1   \n",
       "7  2024-10-27  710.037903                       73.000000                1   \n",
       "8  2024-11-03  683.830017                       75.449997                1   \n",
       "9  2024-11-10  671.159973                       76.779999                1   \n",
       "10 2024-11-17  671.309998                       74.790001                1   \n",
       "11 2024-11-24  665.229980                       70.369999                1   \n",
       "\n",
       "    Close_Carl_Zeiss_Meditec  New_Product_Launch  Israel_Gaza_Conflict  \n",
       "0                  66.605000                   1                     1  \n",
       "1                  63.835999                   1                     1  \n",
       "2                  65.324997                   1                     1  \n",
       "3                  70.800003                   1                     1  \n",
       "4                  74.760002                   1                     1  \n",
       "5                  72.779999                   1                     1  \n",
       "6                  67.094002                   1                     1  \n",
       "7                  67.529999                   1                     1  \n",
       "8                  65.550003                   1                     1  \n",
       "9                  62.200001                   1                     1  \n",
       "10                 61.520000                   1                     1  \n",
       "11                 60.590000                   1                     1  "
      ]
     },
     "execution_count": 51,
     "metadata": {},
     "output_type": "execute_result"
    }
   ],
   "source": [
    "test_data_prophet = test_data_prophet[['y'] + new_regressors_list]\n",
    "test_data_prophet = test_data_prophet.reset_index(names=\"ds\")\n",
    "\n",
    "test_data_prophet"
   ]
  },
  {
   "cell_type": "markdown",
   "metadata": {},
   "source": [
    "### 2.4.10 Fine-tunning"
   ]
  },
  {
   "cell_type": "markdown",
   "metadata": {},
   "source": [
    "We will first run a code using a param_grid to gain an understanding of the approximate locations of the global minimal for ASML. \n",
    "(Expected execution time 10 minutes)"
   ]
  },
  {
   "cell_type": "code",
   "execution_count": 52,
   "metadata": {},
   "outputs": [
    {
     "name": "stdout",
     "output_type": "stream",
     "text": [
      "Best parameters for ASML: {'changepoint_prior_scale': 0.801, 'daily_seasonality': False, 'seasonality_mode': 'multiplicative', 'seasonality_prior_scale': 10.01, 'weekly_seasonality': True, 'yearly_seasonality': True}\n",
      "MAPE: 4.07\n",
      "RMSE: 35.03\n"
     ]
    },
    {
     "data": {
      "image/png": "[encoded data removed]",
      "text/plain": [
       "<Figure size 1600x400 with 1 Axes>"
      ]
     },
     "metadata": {},
     "output_type": "display_data"
    }
   ],
   "source": [
    "# Dictionary to store the best parameters and performance metrics\n",
    "best_params_per_company = {}\n",
    "final_mape_per_company = {}\n",
    "final_rmse_per_company = {}\n",
    "company_params = {}\n",
    "\n",
    "# Define parameter grid\n",
    "param_grid = {\n",
    "    \"changepoint_prior_scale\": [round(x, 3) for x in np.arange(0.001, 1.001, 0.1)],\n",
    "    \"seasonality_prior_scale\": [round(x, 2) for x in np.arange(0.01, 10.1, 1)],\n",
    "    \"seasonality_mode\": ['multiplicative'],\n",
    "    \"weekly_seasonality\": [True, False],\n",
    "    \"yearly_seasonality\": [True, False],\n",
    "    \"daily_seasonality\": [True, False]\n",
    "}\n",
    "\n",
    "# Create a parameter grid generator\n",
    "grid = ParameterGrid(param_grid)\n",
    "\n",
    "# Initialize variables to track the best parameters\n",
    "best_mape = float('inf')\n",
    "best_rmse = float('inf')\n",
    "best_params = None\n",
    "best_forecast = None\n",
    "\n",
    "# Perform grid search\n",
    "for params in grid:\n",
    "    try:\n",
    "        # Initialize the Prophet model with parameters from the grid\n",
    "        prophet_model = Prophet(\n",
    "            changepoint_prior_scale=params[\"changepoint_prior_scale\"],\n",
    "            seasonality_prior_scale=params[\"seasonality_prior_scale\"],\n",
    "            seasonality_mode=params[\"seasonality_mode\"],\n",
    "            weekly_seasonality=params[\"weekly_seasonality\"],\n",
    "            yearly_seasonality=params[\"yearly_seasonality\"],\n",
    "            daily_seasonality=params[\"daily_seasonality\"]\n",
    "        )\n",
    "\n",
    "        # Add new regressors\n",
    "        for regressor in new_regressors_list:\n",
    "            prophet_model.add_regressor(regressor)\n",
    "        \n",
    "        # Fit the model\n",
    "        prophet_model.fit(train_data_prophet)\n",
    "        \n",
    "        # Generate predictions\n",
    "        future = test_data_prophet.reset_index()[[column for column in test_data_prophet.reset_index() if column != 'y']]\n",
    "        forecast = prophet_model.predict(future)\n",
    "        forecast = forecast[['ds', 'yhat']].set_index('ds').rename(columns={'yhat': 'Close'})[-test_weeks:]\n",
    "\n",
    "        # Calculate MAPE and RMSE\n",
    "        actuals = test_data_prophet['y']\n",
    "        actuals.index = test_data_prophet['ds']\n",
    "        predictions = forecast['Close']\n",
    "        common_index = actuals.index.intersection(predictions.index)\n",
    "        mape = mean_absolute_percentage_error(actuals.loc[common_index], predictions.loc[common_index]) * 100\n",
    "        rmse = root_mean_squared_error(actuals.loc[common_index], predictions.loc[common_index])\n",
    "\n",
    "        # Update the best parameters if the current MAPE is lower\n",
    "        if mape < best_mape:\n",
    "            best_mape = mape\n",
    "            best_rmse = rmse\n",
    "            best_params = params\n",
    "            best_forecast = forecast\n",
    "\n",
    "    except Exception as e:\n",
    "        print(f\"Error with parameters: {params}: {e}\")\n",
    "\n",
    "# Store the best parameters and performance metrics for ASML\n",
    "best_params_per_company[\"ASML\"] = best_params\n",
    "final_mape_per_company[\"ASML\"] = best_mape\n",
    "final_rmse_per_company[\"ASML\"] = best_rmse\n",
    "company_params[\"ASML\"] = best_params\n",
    "\n",
    "# Print the best parameters, MAPE, and RMSE\n",
    "print(f\"Best parameters for ASML: {best_params}\")\n",
    "print(f\"MAPE: {best_mape:.2f}\")\n",
    "print(f\"RMSE: {best_rmse:.2f}\")\n",
    "\n",
    "# Ensure 'ds' is the index for train and test datasets\n",
    "train_data_prophet_plot = train_data_prophet.set_index('ds')\n",
    "test_data_prophet_plot = test_data_prophet.set_index('ds')\n",
    "\n",
    "# Plot the forecast results for ASML\n",
    "plot_series(\n",
    "    train_data_prophet_plot['y'][-500:],  # Last 500 points of training data\n",
    "    test_data_prophet_plot['y'],\n",
    "    best_forecast['Close'],\n",
    "    labels=[\"y_train\", \"y_test\", \"y_pred\"]\n",
    ")\n",
    "\n",
    "plt.title(\"Forecasting for ASML\")\n",
    "plt.show()"
   ]
  },
  {
   "cell_type": "markdown",
   "metadata": {},
   "source": [
    "Now let's run a specific param_grid for ASML\n",
    "(Expected execution time 10-15 minutes)"
   ]
  },
  {
   "cell_type": "code",
   "execution_count": 53,
   "metadata": {
    "scrolled": false
   },
   "outputs": [
    {
     "name": "stdout",
     "output_type": "stream",
     "text": [
      "\n",
      "Best parameters for ASML: {'changepoint_prior_scale': 0.801, 'daily_seasonality': False, 'seasonality_mode': 'multiplicative', 'seasonality_prior_scale': 10.01, 'weekly_seasonality': True, 'yearly_seasonality': True}\n",
      "MAPE: 4.07\n",
      "RMSE: 35.03\n"
     ]
    },
    {
     "data": {
      "image/png": "[encoded data removed]",
      "text/plain": [
       "<Figure size 1600x400 with 1 Axes>"
      ]
     },
     "metadata": {},
     "output_type": "display_data"
    },
    {
     "data": {
      "text/plain": [
       "<prophet.forecaster.Prophet at 0x23b9359f860>"
      ]
     },
     "execution_count": 53,
     "metadata": {},
     "output_type": "execute_result"
    }
   ],
   "source": [
    "# Define ASML-specific parameters from company_params\n",
    "params = company_params[\"ASML\"]\n",
    "\n",
    "# Define the parameter grid for ASML\n",
    "param_grid = {\n",
    "    'changepoint_prior_scale': np.round(\n",
    "        np.linspace(params['changepoint_prior_scale'] / 2, params['changepoint_prior_scale'] * 2, 10), 5\n",
    "    ),\n",
    "    'seasonality_prior_scale': np.round(\n",
    "        np.linspace(params['seasonality_prior_scale'] / 2, params['seasonality_prior_scale'] * 2, 10), 5\n",
    "    ),\n",
    "    'seasonality_mode': ['multiplicative'],\n",
    "    'weekly_seasonality': [True, False],\n",
    "    'yearly_seasonality': [True, False],\n",
    "    'daily_seasonality': [True, False]\n",
    "}\n",
    "\n",
    "# Generate all parameter combinations using ParameterGrid\n",
    "param_combinations = list(ParameterGrid(param_grid))\n",
    "\n",
    "# Initialize variables to track the best parameters\n",
    "best_mape = float('inf')\n",
    "best_rmse = float('inf')\n",
    "best_params = None\n",
    "best_mape_train = float('inf')\n",
    "best_rmse_train = float('inf')\n",
    "best_forecast_train = None\n",
    "\n",
    "# Iterate over all parameter combinations\n",
    "for combination in param_combinations:\n",
    "    try:\n",
    "        \n",
    "        # Fit the Prophet model with the current parameter combination\n",
    "        model = Prophet(\n",
    "            changepoint_prior_scale=combination['changepoint_prior_scale'],\n",
    "            seasonality_prior_scale=combination['seasonality_prior_scale'],\n",
    "            seasonality_mode=combination['seasonality_mode'],\n",
    "            weekly_seasonality=combination['weekly_seasonality'],\n",
    "            yearly_seasonality=combination['yearly_seasonality'],\n",
    "            daily_seasonality=combination['daily_seasonality']\n",
    "        )\n",
    "        # Add new regressors        \n",
    "        for regressor in new_regressors_list:\n",
    "            model.add_regressor(regressor)\n",
    "        \n",
    "        train_data_prophet.reset_index(drop=True, inplace=True)\n",
    "            \n",
    "        # Fit the model\n",
    "        model.fit(train_data_prophet)\n",
    "\n",
    "        # Make predictions\n",
    "        future = test_data_prophet.reset_index()[[column for column in test_data_prophet.reset_index() if column != 'y']]\n",
    "        forecast = model.predict(future)\n",
    "        forecast = forecast[['ds', 'yhat']].set_index('ds').rename(columns={'yhat': 'Close'})[-test_weeks:]\n",
    "        \n",
    "        # Make predictions train\n",
    "        future_train = train_data_prophet.reset_index()[[column for column in train_data_prophet.reset_index() if column != 'y']]\n",
    "        forecast_train = model.predict(future_train)\n",
    "        forecast_train = forecast_train[['ds', 'yhat']].set_index('ds').rename(columns={'yhat': 'Close'})\n",
    "\n",
    "        # Calculate MAPE and RMSE\n",
    "        actuals = test_data_prophet['y']\n",
    "        actuals.index = test_data_prophet['ds']\n",
    "        predictions = forecast['Close']\n",
    "                \n",
    "        # Calculate MAPE and RMSE train\n",
    "        actuals_train = train_data_prophet['y']\n",
    "        actuals_train.index = train_data_prophet['ds']\n",
    "        predictions_train = forecast_train['Close']\n",
    "\n",
    "        common_index = actuals.index.intersection(predictions.index)\n",
    "        mape = mean_absolute_percentage_error(actuals.loc[common_index], predictions.loc[common_index]) * 100\n",
    "        rmse = root_mean_squared_error(actuals.loc[common_index], predictions.loc[common_index])\n",
    "        \n",
    "        # For train\n",
    "        common_index_train = actuals_train.index.intersection(predictions_train.index)\n",
    "        mape_train = mean_absolute_percentage_error(actuals_train.loc[common_index_train], predictions_train.loc[common_index_train]) * 100\n",
    "        rmse_train = root_mean_squared_error(actuals_train.loc[common_index_train], predictions_train.loc[common_index_train])\n",
    "        \n",
    "        # Update the best parameters if the current MAPE is lower\n",
    "        if mape < best_mape:\n",
    "            best_mape = mape\n",
    "            best_rmse = rmse\n",
    "            best_params = combination            \n",
    "            best_forecast = forecast\n",
    "            best_mape_train = mape_train\n",
    "            best_rmse_train = rmse_train\n",
    "            best_forecast_train = forecast_train\n",
    "                        \n",
    "\n",
    "    except Exception as e:\n",
    "        print(f\"Error with parameters: {combination}\")\n",
    "\n",
    "\n",
    "# Print the best parameters, MAPE, and RMSE for ASML\n",
    "print(f\"\\nBest parameters for ASML: {best_params}\")\n",
    "print(f\"MAPE: {best_mape:.2f}\")\n",
    "print(f\"RMSE: {best_rmse:.2f}\")\n",
    "\n",
    "# Plot the forecast results for ASML\n",
    "model = Prophet(\n",
    "    changepoint_prior_scale=best_params['changepoint_prior_scale'],\n",
    "    seasonality_prior_scale=best_params['seasonality_prior_scale'],\n",
    "    seasonality_mode=best_params['seasonality_mode'],\n",
    "    weekly_seasonality=best_params['weekly_seasonality'],\n",
    "    yearly_seasonality=best_params['yearly_seasonality'],\n",
    "    daily_seasonality=best_params['daily_seasonality']\n",
    ")\n",
    "\n",
    "train_data_prophet.reset_index(drop=True, inplace=True)\n",
    "model.fit(train_data_prophet)\n",
    "\n",
    "future = model.make_future_dataframe(periods=test_weeks, freq='W')\n",
    "forecast = model.predict(future)\n",
    "forecast = forecast[['ds', 'yhat']].set_index('ds').rename(columns={'yhat': 'Close'})[-test_weeks:]\n",
    "\n",
    "# Ensure 'ds' is the index for train and test datasets\n",
    "train_data_prophet_plot = train_data_prophet.set_index('ds')\n",
    "test_data_prophet_plot = test_data_prophet.set_index('ds')\n",
    "\n",
    "plot_series(\n",
    "    train_data_prophet_plot['y'][-500:],  # Last 500 points of training data\n",
    "    test_data_prophet_plot['y'],\n",
    "    best_forecast['Close'],\n",
    "    labels=[\"y_train\", \"y_test\", \"y_pred\"]\n",
    ")\n",
    "plt.title(\"Forecasting for ASML\")\n",
    "plt.show()\n",
    "\n",
    "# Fit the Prophet model with all data (train and test) for final storage\n",
    "prophet_model_best = Prophet(\n",
    "        changepoint_prior_scale=best_params['changepoint_prior_scale'],\n",
    "        seasonality_prior_scale=best_params['seasonality_prior_scale'],\n",
    "        seasonality_mode=best_params['seasonality_mode'],\n",
    "        weekly_seasonality=best_params['weekly_seasonality'],\n",
    "        yearly_seasonality=best_params['yearly_seasonality'],\n",
    "        daily_seasonality=best_params['daily_seasonality']\n",
    ")\n",
    "\n",
    "# Prepare combined data for final model training\n",
    "test_data = pd.DataFrame(actuals).rename(columns={'Close': 'y'}).reset_index(names=\"ds\")\n",
    "all_data = pd.concat([train_data_prophet, test_data])\n",
    "prophet_model_best.fit(all_data)"
   ]
  },
  {
   "cell_type": "markdown",
   "metadata": {},
   "source": [
    "Plot the forecast results"
   ]
  },
  {
   "cell_type": "markdown",
   "metadata": {},
   "source": [
    "Now we are going to calculate the metrics of the model. The RMSE and the MAPE"
   ]
  },
  {
   "cell_type": "code",
   "execution_count": 54,
   "metadata": {},
   "outputs": [
    {
     "data": {
      "text/plain": [
       "4.074937420441132"
      ]
     },
     "execution_count": 54,
     "metadata": {},
     "output_type": "execute_result"
    }
   ],
   "source": [
    "mape_prophet_best = mean_absolute_percentage_error(test_data_prophet['y'], best_forecast) * 100\n",
    "\n",
    "mape_prophet_best"
   ]
  },
  {
   "cell_type": "code",
   "execution_count": 55,
   "metadata": {},
   "outputs": [
    {
     "data": {
      "text/plain": [
       "35.027066656124845"
      ]
     },
     "execution_count": 55,
     "metadata": {},
     "output_type": "execute_result"
    }
   ],
   "source": [
    "rmse_prophet_best = root_mean_squared_error(test_data_prophet['y'], best_forecast)\n",
    "rmse_prophet_best"
   ]
  },
  {
   "cell_type": "markdown",
   "metadata": {},
   "source": [
    "As can be seen, the prophet RMSE and MAPE results improve with the fine-tunning"
   ]
  },
  {
   "cell_type": "markdown",
   "metadata": {},
   "source": [
    "### 2.4.11 Checking for Overfitting"
   ]
  },
  {
   "cell_type": "code",
   "execution_count": 56,
   "metadata": {},
   "outputs": [
    {
     "data": {
      "text/plain": [
       "2.773290886535236"
      ]
     },
     "execution_count": 56,
     "metadata": {},
     "output_type": "execute_result"
    }
   ],
   "source": [
    "mape_prophet_best_train = mean_absolute_percentage_error(train_data_prophet['y'], best_forecast_train) * 100\n",
    "mape_prophet_best_train"
   ]
  },
  {
   "cell_type": "code",
   "execution_count": 57,
   "metadata": {},
   "outputs": [
    {
     "data": {
      "text/plain": [
       "16.380668121787597"
      ]
     },
     "execution_count": 57,
     "metadata": {},
     "output_type": "execute_result"
    }
   ],
   "source": [
    "rmse_prophet_best_train = root_mean_squared_error(train_data_prophet['y'], best_forecast_train)\n",
    "rmse_prophet_best_train"
   ]
  },
  {
   "cell_type": "markdown",
   "metadata": {},
   "source": [
    "There is overfitting as is visible because we are working with a time series model and it's normal. Nevertheless, it is not a very big overfitting."
   ]
  },
  {
   "cell_type": "markdown",
   "metadata": {},
   "source": [
    "### 2.4.11 Results"
   ]
  },
  {
   "cell_type": "markdown",
   "metadata": {},
   "source": [
    "The final fine-tune prophet model improved the MAPE and the RMSE results with respect to the non-fine tunned prophet model"
   ]
  },
  {
   "cell_type": "code",
   "execution_count": 58,
   "metadata": {},
   "outputs": [
    {
     "data": {
      "text/plain": [
       "(<Figure size 1600x400 with 1 Axes>, <Axes: ylabel='y'>)"
      ]
     },
     "execution_count": 58,
     "metadata": {},
     "output_type": "execute_result"
    },
    {
     "data": {
      "image/png": "[encoded data removed]",
      "text/plain": [
       "<Figure size 1600x400 with 1 Axes>"
      ]
     },
     "metadata": {},
     "output_type": "display_data"
    }
   ],
   "source": [
    "plot_series(\n",
    "    train_data_prophet_plot['y'][-500:],  # Last 500 points of training data\n",
    "    test_data_prophet_plot['y'],\n",
    "    best_forecast['Close'],\n",
    "    labels=[\"y_train\", \"y_test\", \"y_pred\"]\n",
    ")"
   ]
  },
  {
   "cell_type": "markdown",
   "metadata": {},
   "source": [
    "### 2.5 Save the best model, best rmse and MAPE, and the top regressors"
   ]
  },
  {
   "cell_type": "markdown",
   "metadata": {},
   "source": [
    "Saving the rmse_prophet_best and rmse_prophet_best variables"
   ]
  },
  {
   "cell_type": "code",
   "execution_count": 59,
   "metadata": {},
   "outputs": [],
   "source": [
    "# Variable definition\n",
    "best_prophet_variables_with_suppliers = {\"rmse_prophet_best_with_suppliers\": rmse_prophet_best, \n",
    "                                         \"mape_prophet_best_with_suppliers\": mape_prophet_best}\n",
    "\n",
    "# Save the variable to a JSON file\n",
    "with open(output_best_variables_path, 'w') as file:\n",
    "    json.dump(best_prophet_variables_with_suppliers, file)"
   ]
  },
  {
   "cell_type": "markdown",
   "metadata": {},
   "source": [
    "Saving the top five regressors"
   ]
  },
  {
   "cell_type": "code",
   "execution_count": 60,
   "metadata": {},
   "outputs": [],
   "source": [
    "new_regressors = {'chosen_regressors':new_regressors_list}\n",
    "\n",
    "# Save the variable to a JSON file\n",
    "with open(output_regressors_path, 'w') as file:\n",
    "    json.dump(new_regressors, file)"
   ]
  },
  {
   "cell_type": "markdown",
   "metadata": {},
   "source": [
    "Saving the best model"
   ]
  },
  {
   "cell_type": "code",
   "execution_count": 61,
   "metadata": {},
   "outputs": [],
   "source": [
    "# Saving the best model\n",
    "joblib.dump(prophet_model_best, output_model_path)\n",
    "\n",
    "# Save the best parameters to a JSON file\n",
    "with open(output_best_params_path, 'w') as file:\n",
    "    json.dump(best_params, file, indent=4)"
   ]
  },
  {
   "cell_type": "code",
   "execution_count": null,
   "metadata": {},
   "outputs": [],
   "source": []
  }
 ],
 "metadata": {
  "kernelspec": {
   "display_name": "forecastingv2",
   "language": "python",
   "name": "forecastingv2"
  },
  "language_info": {
   "codemirror_mode": {
    "name": "ipython",
    "version": 3
   },
   "file_extension": ".py",
   "mimetype": "text/x-python",
   "name": "python",
   "nbconvert_exporter": "python",
   "pygments_lexer": "ipython3",
   "version": "3.12.3"
  }
 },
 "nbformat": 4,
 "nbformat_minor": 4
}
