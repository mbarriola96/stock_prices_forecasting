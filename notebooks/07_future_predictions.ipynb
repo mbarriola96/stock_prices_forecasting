{
 "cells": [
  {
   "cell_type": "markdown",
   "metadata": {},
   "source": [
    "# 1. Overview"
   ]
  },
  {
   "cell_type": "markdown",
   "metadata": {},
   "source": [
    "This notebook outlines a process for predicting future ASML stock prices using Prophet models. It includes training the model with historical data, adding exogenous variables (such as geopolitical events and supplier performance), and generating predictions for upcoming weeks. Supplier-specific Prophet models were utilized to forecast their stocks, which were then integrated into the ASML model to account for external factors. The final predictions show ASML's stock price trends, providing insights into the impact of supplier and geopolitical data on future performance."
   ]
  },
  {
   "cell_type": "markdown",
   "metadata": {},
   "source": [
    "# 2. Future Predictions"
   ]
  },
  {
   "cell_type": "markdown",
   "metadata": {},
   "source": [
    "## 2.1 Import Libraries"
   ]
  },
  {
   "cell_type": "code",
   "execution_count": 1,
   "metadata": {},
   "outputs": [
    {
     "name": "stderr",
     "output_type": "stream",
     "text": [
      "C:\\Users\\Usuario\\anaconda3\\envs\\forecastingv2\\Lib\\site-packages\\tqdm\\auto.py:21: TqdmWarning: IProgress not found. Please update jupyter and ipywidgets. See https://ipywidgets.readthedocs.io/en/stable/user_install.html\n",
      "  from .autonotebook import tqdm as notebook_tqdm\n",
      "Importing plotly failed. Interactive plots will not work.\n"
     ]
    }
   ],
   "source": [
    "import pandas as pd\n",
    "import json\n",
    "import joblib\n",
    "from sktime.utils.plotting import plot_series\n",
    "from prophet import Prophet"
   ]
  },
  {
   "cell_type": "markdown",
   "metadata": {},
   "source": [
    "## 2.2 Define Global Variables"
   ]
  },
  {
   "cell_type": "code",
   "execution_count": 2,
   "metadata": {},
   "outputs": [],
   "source": [
    "input_best_params_path  = '../data/best_prophet_params.json'\n",
    "input_regressors_path = '../data/best_regressors.json'\n",
    "input_data = '../data/weekly_data_combination.csv'\n",
    "future_weeks = 2"
   ]
  },
  {
   "cell_type": "markdown",
   "metadata": {},
   "source": [
    "## 2.3 Functions"
   ]
  },
  {
   "cell_type": "code",
   "execution_count": 3,
   "metadata": {},
   "outputs": [],
   "source": [
    "# Function to add exogenous variables to the future_dataframe\n",
    "def build_exogenous_variables(future_df: pd.DataFrame, list_exogenous: list) -> pd.DataFrame:\n",
    "    \"\"\"\n",
    "    Input: \n",
    "        future_df (DataFrame) - A DataFrame containing future dates in the 'ds' column.\n",
    "        list_exogenous (list) - List of exogenous variables to add.\n",
    "    Output: \n",
    "        future_df (DataFrame) - The same DataFrame with added binary columns for specified exogenous events.\n",
    "    Logic: \n",
    "        Adds binary indicators for each specified exogenous event based on predefined date ranges.\n",
    "    \"\"\"\n",
    "    # Define the date ranges for each exogenous event\n",
    "    exogenous_events = {\n",
    "        'COVID_Period': ('2020-01-01', '2022-12-31'),\n",
    "        'Geopolitical_Tension': ('2022-02-01', '2025-12-31'),\n",
    "        'Trade_Sanctions': ('2018-07-01', '2029-12-31'),\n",
    "        'Tech_Regulation': ('2020-06-01', '2029-12-31'),\n",
    "        'New_Product_Launch': ('2023-12-01', '2025-12-31'),\n",
    "        'Israel_Gaza_Conflict': ('2023-10-07', '2025-12-31'),\n",
    "    }\n",
    "\n",
    "    # Add binary columns for each exogenous variable in the list\n",
    "    for exogenous in list_exogenous:\n",
    "        if exogenous in exogenous_events:\n",
    "            start_date, end_date = exogenous_events[exogenous]\n",
    "            future_df[exogenous] = ((future_df['ds'] >= start_date) & \n",
    "                                    (future_df['ds'] <= end_date)).astype(int)\n",
    "    \n",
    "    return future_df"
   ]
  },
  {
   "cell_type": "markdown",
   "metadata": {},
   "source": [
    "## 2.4 Code"
   ]
  },
  {
   "cell_type": "markdown",
   "metadata": {},
   "source": [
    "### 2.4.1 Loading the data from notebook 04_data_preparation"
   ]
  },
  {
   "cell_type": "code",
   "execution_count": 4,
   "metadata": {},
   "outputs": [
    {
     "data": {
      "text/html": [
       "<div>\n",
       "<style scoped>\n",
       "    .dataframe tbody tr th:only-of-type {\n",
       "        vertical-align: middle;\n",
       "    }\n",
       "\n",
       "    .dataframe tbody tr th {\n",
       "        vertical-align: top;\n",
       "    }\n",
       "\n",
       "    .dataframe thead th {\n",
       "        text-align: right;\n",
       "    }\n",
       "</style>\n",
       "<table border=\"1\" class=\"dataframe\">\n",
       "  <thead>\n",
       "    <tr style=\"text-align: right;\">\n",
       "      <th></th>\n",
       "      <th>Close_ASML</th>\n",
       "      <th>Close_Carl_Zeiss_Meditec</th>\n",
       "      <th>Close_Lam_Research_Corporation</th>\n",
       "      <th>Close_Tokyo_Electron_Limited</th>\n",
       "      <th>COVID_Period</th>\n",
       "      <th>Geopolitical_Tension</th>\n",
       "      <th>Trade_Sanctions</th>\n",
       "      <th>Tech_Regulation</th>\n",
       "      <th>New_Product_Launch</th>\n",
       "      <th>Israel_Gaza_Conflict</th>\n",
       "    </tr>\n",
       "    <tr>\n",
       "      <th>Date</th>\n",
       "      <th></th>\n",
       "      <th></th>\n",
       "      <th></th>\n",
       "      <th></th>\n",
       "      <th></th>\n",
       "      <th></th>\n",
       "      <th></th>\n",
       "      <th></th>\n",
       "      <th></th>\n",
       "      <th></th>\n",
       "    </tr>\n",
       "  </thead>\n",
       "  <tbody>\n",
       "    <tr>\n",
       "      <th>2018-01-14</th>\n",
       "      <td>168.665710</td>\n",
       "      <td>60.946629</td>\n",
       "      <td>10.602388</td>\n",
       "      <td>32.766666</td>\n",
       "      <td>0</td>\n",
       "      <td>0</td>\n",
       "      <td>0</td>\n",
       "      <td>0</td>\n",
       "      <td>0</td>\n",
       "      <td>0</td>\n",
       "    </tr>\n",
       "    <tr>\n",
       "      <th>2018-01-21</th>\n",
       "      <td>185.740204</td>\n",
       "      <td>60.851768</td>\n",
       "      <td>11.355000</td>\n",
       "      <td>34.386667</td>\n",
       "      <td>0</td>\n",
       "      <td>0</td>\n",
       "      <td>0</td>\n",
       "      <td>0</td>\n",
       "      <td>0</td>\n",
       "      <td>0</td>\n",
       "    </tr>\n",
       "    <tr>\n",
       "      <th>2018-01-28</th>\n",
       "      <td>191.568497</td>\n",
       "      <td>61.373493</td>\n",
       "      <td>11.572125</td>\n",
       "      <td>34.026669</td>\n",
       "      <td>0</td>\n",
       "      <td>0</td>\n",
       "      <td>0</td>\n",
       "      <td>0</td>\n",
       "      <td>0</td>\n",
       "      <td>0</td>\n",
       "    </tr>\n",
       "    <tr>\n",
       "      <th>2018-02-04</th>\n",
       "      <td>187.829102</td>\n",
       "      <td>61.335556</td>\n",
       "      <td>10.570302</td>\n",
       "      <td>31.420000</td>\n",
       "      <td>0</td>\n",
       "      <td>0</td>\n",
       "      <td>0</td>\n",
       "      <td>0</td>\n",
       "      <td>0</td>\n",
       "      <td>0</td>\n",
       "    </tr>\n",
       "    <tr>\n",
       "      <th>2018-02-11</th>\n",
       "      <td>174.083679</td>\n",
       "      <td>58.831284</td>\n",
       "      <td>9.423547</td>\n",
       "      <td>28.526667</td>\n",
       "      <td>0</td>\n",
       "      <td>0</td>\n",
       "      <td>0</td>\n",
       "      <td>0</td>\n",
       "      <td>0</td>\n",
       "      <td>0</td>\n",
       "    </tr>\n",
       "    <tr>\n",
       "      <th>...</th>\n",
       "      <td>...</td>\n",
       "      <td>...</td>\n",
       "      <td>...</td>\n",
       "      <td>...</td>\n",
       "      <td>...</td>\n",
       "      <td>...</td>\n",
       "      <td>...</td>\n",
       "      <td>...</td>\n",
       "      <td>...</td>\n",
       "      <td>...</td>\n",
       "    </tr>\n",
       "    <tr>\n",
       "      <th>2024-10-27</th>\n",
       "      <td>710.051941</td>\n",
       "      <td>67.529999</td>\n",
       "      <td>73.000000</td>\n",
       "      <td>76.709999</td>\n",
       "      <td>0</td>\n",
       "      <td>1</td>\n",
       "      <td>1</td>\n",
       "      <td>1</td>\n",
       "      <td>1</td>\n",
       "      <td>1</td>\n",
       "    </tr>\n",
       "    <tr>\n",
       "      <th>2024-11-03</th>\n",
       "      <td>683.830017</td>\n",
       "      <td>65.550003</td>\n",
       "      <td>75.449997</td>\n",
       "      <td>77.500000</td>\n",
       "      <td>0</td>\n",
       "      <td>1</td>\n",
       "      <td>1</td>\n",
       "      <td>1</td>\n",
       "      <td>1</td>\n",
       "      <td>1</td>\n",
       "    </tr>\n",
       "    <tr>\n",
       "      <th>2024-11-10</th>\n",
       "      <td>671.159973</td>\n",
       "      <td>62.200001</td>\n",
       "      <td>76.779999</td>\n",
       "      <td>76.449997</td>\n",
       "      <td>0</td>\n",
       "      <td>1</td>\n",
       "      <td>1</td>\n",
       "      <td>1</td>\n",
       "      <td>1</td>\n",
       "      <td>1</td>\n",
       "    </tr>\n",
       "    <tr>\n",
       "      <th>2024-11-17</th>\n",
       "      <td>671.309998</td>\n",
       "      <td>61.520000</td>\n",
       "      <td>74.790001</td>\n",
       "      <td>73.459999</td>\n",
       "      <td>0</td>\n",
       "      <td>1</td>\n",
       "      <td>1</td>\n",
       "      <td>1</td>\n",
       "      <td>1</td>\n",
       "      <td>1</td>\n",
       "    </tr>\n",
       "    <tr>\n",
       "      <th>2024-11-24</th>\n",
       "      <td>665.229980</td>\n",
       "      <td>60.590000</td>\n",
       "      <td>70.369999</td>\n",
       "      <td>70.724998</td>\n",
       "      <td>0</td>\n",
       "      <td>1</td>\n",
       "      <td>1</td>\n",
       "      <td>1</td>\n",
       "      <td>1</td>\n",
       "      <td>1</td>\n",
       "    </tr>\n",
       "  </tbody>\n",
       "</table>\n",
       "<p>359 rows × 10 columns</p>\n",
       "</div>"
      ],
      "text/plain": [
       "            Close_ASML  Close_Carl_Zeiss_Meditec  \\\n",
       "Date                                               \n",
       "2018-01-14  168.665710                 60.946629   \n",
       "2018-01-21  185.740204                 60.851768   \n",
       "2018-01-28  191.568497                 61.373493   \n",
       "2018-02-04  187.829102                 61.335556   \n",
       "2018-02-11  174.083679                 58.831284   \n",
       "...                ...                       ...   \n",
       "2024-10-27  710.051941                 67.529999   \n",
       "2024-11-03  683.830017                 65.550003   \n",
       "2024-11-10  671.159973                 62.200001   \n",
       "2024-11-17  671.309998                 61.520000   \n",
       "2024-11-24  665.229980                 60.590000   \n",
       "\n",
       "            Close_Lam_Research_Corporation  Close_Tokyo_Electron_Limited  \\\n",
       "Date                                                                       \n",
       "2018-01-14                       10.602388                     32.766666   \n",
       "2018-01-21                       11.355000                     34.386667   \n",
       "2018-01-28                       11.572125                     34.026669   \n",
       "2018-02-04                       10.570302                     31.420000   \n",
       "2018-02-11                        9.423547                     28.526667   \n",
       "...                                    ...                           ...   \n",
       "2024-10-27                       73.000000                     76.709999   \n",
       "2024-11-03                       75.449997                     77.500000   \n",
       "2024-11-10                       76.779999                     76.449997   \n",
       "2024-11-17                       74.790001                     73.459999   \n",
       "2024-11-24                       70.369999                     70.724998   \n",
       "\n",
       "            COVID_Period  Geopolitical_Tension  Trade_Sanctions  \\\n",
       "Date                                                              \n",
       "2018-01-14             0                     0                0   \n",
       "2018-01-21             0                     0                0   \n",
       "2018-01-28             0                     0                0   \n",
       "2018-02-04             0                     0                0   \n",
       "2018-02-11             0                     0                0   \n",
       "...                  ...                   ...              ...   \n",
       "2024-10-27             0                     1                1   \n",
       "2024-11-03             0                     1                1   \n",
       "2024-11-10             0                     1                1   \n",
       "2024-11-17             0                     1                1   \n",
       "2024-11-24             0                     1                1   \n",
       "\n",
       "            Tech_Regulation  New_Product_Launch  Israel_Gaza_Conflict  \n",
       "Date                                                                   \n",
       "2018-01-14                0                   0                     0  \n",
       "2018-01-21                0                   0                     0  \n",
       "2018-01-28                0                   0                     0  \n",
       "2018-02-04                0                   0                     0  \n",
       "2018-02-11                0                   0                     0  \n",
       "...                     ...                 ...                   ...  \n",
       "2024-10-27                1                   1                     1  \n",
       "2024-11-03                1                   1                     1  \n",
       "2024-11-10                1                   1                     1  \n",
       "2024-11-17                1                   1                     1  \n",
       "2024-11-24                1                   1                     1  \n",
       "\n",
       "[359 rows x 10 columns]"
      ]
     },
     "execution_count": 4,
     "metadata": {},
     "output_type": "execute_result"
    }
   ],
   "source": [
    "weekly_data_combination = pd.read_csv(input_data, sep=';')\n",
    "\n",
    "# Ensure the 'Date' column is in datetime format\n",
    "weekly_data_combination['Date'] = pd.to_datetime(weekly_data_combination['Date'])\n",
    "\n",
    "# Set the 'Date' column as the index to make it a DatetimeIndex\n",
    "weekly_data_combination.set_index('Date', inplace=True)\n",
    "\n",
    "# Explicitly set the frequency of the Date index\n",
    "weekly_data_combination = weekly_data_combination.asfreq('W')\n",
    "\n",
    "# Replace spaces with underscores in column names\n",
    "weekly_data_combination.columns = [col.replace(\" \", \"_\") for col in weekly_data_combination.columns]\n",
    "\n",
    "weekly_data_combination"
   ]
  },
  {
   "cell_type": "markdown",
   "metadata": {},
   "source": [
    "### 2.4.2 Loading the best regressors from notebook 05_modelling"
   ]
  },
  {
   "cell_type": "code",
   "execution_count": 5,
   "metadata": {},
   "outputs": [],
   "source": [
    "# Load the best regressors from the JSON file\n",
    "with open(input_regressors_path, 'r') as file:\n",
    "    regressors = json.load(file)\n",
    "\n",
    "regressors = regressors['chosen_regressors']   "
   ]
  },
  {
   "cell_type": "markdown",
   "metadata": {},
   "source": [
    "### 2.4.3 Loading the best parameters from notebook 05_modelling"
   ]
  },
  {
   "cell_type": "code",
   "execution_count": 6,
   "metadata": {},
   "outputs": [],
   "source": [
    "# Load the best parameters from the JSON file\n",
    "with open(input_best_params_path, 'r') as file:\n",
    "    best_params = json.load(file)     "
   ]
  },
  {
   "cell_type": "markdown",
   "metadata": {},
   "source": [
    "### 2.4.4 Loading Suppliers Pickles"
   ]
  },
  {
   "cell_type": "code",
   "execution_count": 7,
   "metadata": {},
   "outputs": [
    {
     "name": "stdout",
     "output_type": "stream",
     "text": [
      "Prophet model for Lam_Research_Corporation loaded from models/prophet_asml_supplier_Lam_Research_Corporation.pkl\n"
     ]
    }
   ],
   "source": [
    "# Create an empty dictionary to store the loaded models\n",
    "models_suppliers = {}\n",
    "\n",
    "# Iterate over each supplier in regressors to load its model\n",
    "for company in regressors:\n",
    "    if 'Close' in company:\n",
    "        company = company.replace('Close_', '')\n",
    "        # Define the file path to the model pickle file for the current supplier\n",
    "        model_path = f'models/prophet_asml_supplier_{company.replace(\" \", \"_\")}.pkl'\n",
    "        \n",
    "        # Load the model and store it in the dictionary using the supplier's name\n",
    "        models_suppliers[company] = joblib.load(model_path)\n",
    "        print(f'Prophet model for {company} loaded from {model_path}')"
   ]
  },
  {
   "cell_type": "markdown",
   "metadata": {},
   "source": [
    "### 2.4.5 Train the model with new data"
   ]
  },
  {
   "cell_type": "markdown",
   "metadata": {},
   "source": [
    "The prophet model that was trained in notebook 05_modelling, we are going to train it again with all the data without separating between train and test. "
   ]
  },
  {
   "cell_type": "code",
   "execution_count": 8,
   "metadata": {},
   "outputs": [],
   "source": [
    "# Initialize the Prophet model with the loaded best parameters\n",
    "prophet_model = Prophet(\n",
    "    changepoint_prior_scale=best_params['changepoint_prior_scale'],\n",
    "    daily_seasonality=best_params['daily_seasonality'],\n",
    "    seasonality_mode=best_params['seasonality_mode'],\n",
    "    seasonality_prior_scale=best_params['seasonality_prior_scale'],\n",
    "    weekly_seasonality=best_params['weekly_seasonality'],\n",
    "    yearly_seasonality=best_params['yearly_seasonality']\n",
    ")"
   ]
  },
  {
   "cell_type": "markdown",
   "metadata": {},
   "source": [
    "Modify the column names as required by prophet"
   ]
  },
  {
   "cell_type": "code",
   "execution_count": 9,
   "metadata": {},
   "outputs": [],
   "source": [
    "train_data = weekly_data_combination.reset_index(names=\"ds\").rename(columns={'Close_ASML':'y'})"
   ]
  },
  {
   "cell_type": "markdown",
   "metadata": {},
   "source": [
    "Add regressors"
   ]
  },
  {
   "cell_type": "code",
   "execution_count": 10,
   "metadata": {},
   "outputs": [],
   "source": [
    "for regressor in regressors:\n",
    "    prophet_model.add_regressor(regressor)"
   ]
  },
  {
   "cell_type": "markdown",
   "metadata": {},
   "source": [
    "Fit the model"
   ]
  },
  {
   "cell_type": "code",
   "execution_count": 11,
   "metadata": {},
   "outputs": [
    {
     "name": "stderr",
     "output_type": "stream",
     "text": [
      "09:41:43 - cmdstanpy - INFO - Chain [1] start processing\n",
      "09:41:43 - cmdstanpy - INFO - Chain [1] done processing\n"
     ]
    },
    {
     "data": {
      "text/plain": [
       "<prophet.forecaster.Prophet at 0x20f7829f8f0>"
      ]
     },
     "execution_count": 11,
     "metadata": {},
     "output_type": "execute_result"
    }
   ],
   "source": [
    "prophet_model.fit(train_data)"
   ]
  },
  {
   "cell_type": "markdown",
   "metadata": {},
   "source": [
    "### 2.4.6 Building the future dataframe "
   ]
  },
  {
   "cell_type": "code",
   "execution_count": 12,
   "metadata": {},
   "outputs": [
    {
     "name": "stderr",
     "output_type": "stream",
     "text": [
      "C:\\Users\\Usuario\\anaconda3\\envs\\forecastingv2\\Lib\\site-packages\\prophet\\forecaster.py:1854: FutureWarning: 'w' is deprecated and will be removed in a future version, please use 'W' instead.\n",
      "  dates = pd.date_range(\n"
     ]
    },
    {
     "data": {
      "text/html": [
       "<div>\n",
       "<style scoped>\n",
       "    .dataframe tbody tr th:only-of-type {\n",
       "        vertical-align: middle;\n",
       "    }\n",
       "\n",
       "    .dataframe tbody tr th {\n",
       "        vertical-align: top;\n",
       "    }\n",
       "\n",
       "    .dataframe thead th {\n",
       "        text-align: right;\n",
       "    }\n",
       "</style>\n",
       "<table border=\"1\" class=\"dataframe\">\n",
       "  <thead>\n",
       "    <tr style=\"text-align: right;\">\n",
       "      <th></th>\n",
       "      <th>ds</th>\n",
       "    </tr>\n",
       "  </thead>\n",
       "  <tbody>\n",
       "    <tr>\n",
       "      <th>359</th>\n",
       "      <td>2024-12-01</td>\n",
       "    </tr>\n",
       "    <tr>\n",
       "      <th>360</th>\n",
       "      <td>2024-12-08</td>\n",
       "    </tr>\n",
       "  </tbody>\n",
       "</table>\n",
       "</div>"
      ],
      "text/plain": [
       "            ds\n",
       "359 2024-12-01\n",
       "360 2024-12-08"
      ]
     },
     "execution_count": 12,
     "metadata": {},
     "output_type": "execute_result"
    }
   ],
   "source": [
    "future_dataframe = prophet_model.make_future_dataframe(periods=future_weeks, freq='w')[-future_weeks:]\n",
    "future_dataframe"
   ]
  },
  {
   "cell_type": "markdown",
   "metadata": {},
   "source": [
    "Predict the stock of ASML's suppliers using the prophet models of the suppliers that were done in notebook 03_selecting_asml_suppliers"
   ]
  },
  {
   "cell_type": "code",
   "execution_count": 13,
   "metadata": {},
   "outputs": [],
   "source": [
    "# Iterate over each variable in regressors to make predictions\n",
    "for company in regressors:\n",
    "    if 'Close' in company:\n",
    "        company = company.replace('Close_', '')\n",
    "        \n",
    "        # Get the loaded Prophet model for the current supplier from the models_suppliers dictionary\n",
    "        model = models_suppliers[company]\n",
    "\n",
    "        # Generate predictions on the future_dataframe using the model\n",
    "        forecast = model.predict(future_dataframe)\n",
    "\n",
    "        # Select only 'ds' and 'yhat' columns, rename 'yhat' to 'Close_{company}'\n",
    "        forecast = forecast[['ds', 'yhat']].rename(columns={'yhat': f'Close_{company.replace(\" \", \"_\")}'})\n",
    "\n",
    "        # Merge the forecast data with the future_dataframe on the 'ds' column\n",
    "        future_dataframe = future_dataframe.merge(forecast, on='ds', how='left')"
   ]
  },
  {
   "cell_type": "code",
   "execution_count": 14,
   "metadata": {},
   "outputs": [
    {
     "data": {
      "text/html": [
       "<div>\n",
       "<style scoped>\n",
       "    .dataframe tbody tr th:only-of-type {\n",
       "        vertical-align: middle;\n",
       "    }\n",
       "\n",
       "    .dataframe tbody tr th {\n",
       "        vertical-align: top;\n",
       "    }\n",
       "\n",
       "    .dataframe thead th {\n",
       "        text-align: right;\n",
       "    }\n",
       "</style>\n",
       "<table border=\"1\" class=\"dataframe\">\n",
       "  <thead>\n",
       "    <tr style=\"text-align: right;\">\n",
       "      <th></th>\n",
       "      <th>ds</th>\n",
       "      <th>Close_Lam_Research_Corporation</th>\n",
       "    </tr>\n",
       "  </thead>\n",
       "  <tbody>\n",
       "    <tr>\n",
       "      <th>0</th>\n",
       "      <td>2024-12-01</td>\n",
       "      <td>71.427856</td>\n",
       "    </tr>\n",
       "    <tr>\n",
       "      <th>1</th>\n",
       "      <td>2024-12-08</td>\n",
       "      <td>71.610412</td>\n",
       "    </tr>\n",
       "  </tbody>\n",
       "</table>\n",
       "</div>"
      ],
      "text/plain": [
       "          ds  Close_Lam_Research_Corporation\n",
       "0 2024-12-01                       71.427856\n",
       "1 2024-12-08                       71.610412"
      ]
     },
     "execution_count": 14,
     "metadata": {},
     "output_type": "execute_result"
    }
   ],
   "source": [
    "future_dataframe"
   ]
  },
  {
   "cell_type": "markdown",
   "metadata": {},
   "source": [
    "Let's predict the exogenous variables into the future and add them to the future_dataframe as well "
   ]
  },
  {
   "cell_type": "code",
   "execution_count": 15,
   "metadata": {},
   "outputs": [
    {
     "data": {
      "text/html": [
       "<div>\n",
       "<style scoped>\n",
       "    .dataframe tbody tr th:only-of-type {\n",
       "        vertical-align: middle;\n",
       "    }\n",
       "\n",
       "    .dataframe tbody tr th {\n",
       "        vertical-align: top;\n",
       "    }\n",
       "\n",
       "    .dataframe thead th {\n",
       "        text-align: right;\n",
       "    }\n",
       "</style>\n",
       "<table border=\"1\" class=\"dataframe\">\n",
       "  <thead>\n",
       "    <tr style=\"text-align: right;\">\n",
       "      <th></th>\n",
       "      <th>ds</th>\n",
       "      <th>Close_Lam_Research_Corporation</th>\n",
       "      <th>Trade_Sanctions</th>\n",
       "      <th>Israel_Gaza_Conflict</th>\n",
       "      <th>New_Product_Launch</th>\n",
       "      <th>Tech_Regulation</th>\n",
       "    </tr>\n",
       "  </thead>\n",
       "  <tbody>\n",
       "    <tr>\n",
       "      <th>0</th>\n",
       "      <td>2024-12-01</td>\n",
       "      <td>71.427856</td>\n",
       "      <td>1</td>\n",
       "      <td>1</td>\n",
       "      <td>1</td>\n",
       "      <td>1</td>\n",
       "    </tr>\n",
       "    <tr>\n",
       "      <th>1</th>\n",
       "      <td>2024-12-08</td>\n",
       "      <td>71.610412</td>\n",
       "      <td>1</td>\n",
       "      <td>1</td>\n",
       "      <td>1</td>\n",
       "      <td>1</td>\n",
       "    </tr>\n",
       "  </tbody>\n",
       "</table>\n",
       "</div>"
      ],
      "text/plain": [
       "          ds  Close_Lam_Research_Corporation  Trade_Sanctions  \\\n",
       "0 2024-12-01                       71.427856                1   \n",
       "1 2024-12-08                       71.610412                1   \n",
       "\n",
       "   Israel_Gaza_Conflict  New_Product_Launch  Tech_Regulation  \n",
       "0                     1                   1                1  \n",
       "1                     1                   1                1  "
      ]
     },
     "execution_count": 15,
     "metadata": {},
     "output_type": "execute_result"
    }
   ],
   "source": [
    "# Apply the function to future_dataframe\n",
    "build_exogenous_variables(future_dataframe, regressors)\n",
    "\n",
    "future_dataframe"
   ]
  },
  {
   "cell_type": "markdown",
   "metadata": {},
   "source": [
    "### 2.4.7 Predicting the stock values of ASML "
   ]
  },
  {
   "cell_type": "code",
   "execution_count": 16,
   "metadata": {},
   "outputs": [
    {
     "data": {
      "text/html": [
       "<div>\n",
       "<style scoped>\n",
       "    .dataframe tbody tr th:only-of-type {\n",
       "        vertical-align: middle;\n",
       "    }\n",
       "\n",
       "    .dataframe tbody tr th {\n",
       "        vertical-align: top;\n",
       "    }\n",
       "\n",
       "    .dataframe thead th {\n",
       "        text-align: right;\n",
       "    }\n",
       "</style>\n",
       "<table border=\"1\" class=\"dataframe\">\n",
       "  <thead>\n",
       "    <tr style=\"text-align: right;\">\n",
       "      <th></th>\n",
       "      <th>Close</th>\n",
       "    </tr>\n",
       "    <tr>\n",
       "      <th>ds</th>\n",
       "      <th></th>\n",
       "    </tr>\n",
       "  </thead>\n",
       "  <tbody>\n",
       "    <tr>\n",
       "      <th>2024-12-01</th>\n",
       "      <td>701.038174</td>\n",
       "    </tr>\n",
       "    <tr>\n",
       "      <th>2024-12-08</th>\n",
       "      <td>697.792024</td>\n",
       "    </tr>\n",
       "  </tbody>\n",
       "</table>\n",
       "</div>"
      ],
      "text/plain": [
       "                 Close\n",
       "ds                    \n",
       "2024-12-01  701.038174\n",
       "2024-12-08  697.792024"
      ]
     },
     "execution_count": 16,
     "metadata": {},
     "output_type": "execute_result"
    }
   ],
   "source": [
    "# Generate predictions\n",
    "future_dataframe_ASML_stock = prophet_model.predict(future_dataframe)\n",
    "\n",
    "# Return to the original DataFrame format with 'ds' as index and 'yhat' as 'Close'\n",
    "future_dataframe_ASML_stock = future_dataframe_ASML_stock[['ds', 'yhat']].set_index('ds').rename(columns={'yhat': 'Close'})\n",
    "\n",
    "future_dataframe_ASML_stock"
   ]
  },
  {
   "cell_type": "markdown",
   "metadata": {},
   "source": [
    "Let's do a representation of the results"
   ]
  },
  {
   "cell_type": "code",
   "execution_count": 17,
   "metadata": {},
   "outputs": [
    {
     "name": "stderr",
     "output_type": "stream",
     "text": [
      "C:\\Users\\Usuario\\anaconda3\\envs\\forecastingv2\\Lib\\site-packages\\dask\\dataframe\\__init__.py:49: FutureWarning: \n",
      "Dask dataframe query planning is disabled because dask-expr is not installed.\n",
      "\n",
      "You can install it with `pip install dask[dataframe]` or `conda install dask`.\n",
      "This will raise in a future version.\n",
      "\n",
      "  warnings.warn(msg, FutureWarning)\n"
     ]
    },
    {
     "data": {
      "text/plain": [
       "(<Figure size 1600x400 with 1 Axes>, <Axes: ylabel='Close_ASML'>)"
      ]
     },
     "execution_count": 17,
     "metadata": {},
     "output_type": "execute_result"
    },
    {
     "data": {
      "image/png": "[encoded data removed]",
      "text/plain": [
       "<Figure size 1600x400 with 1 Axes>"
      ]
     },
     "metadata": {},
     "output_type": "display_data"
    }
   ],
   "source": [
    "# Plot the series with train, test, and predictions from both models\n",
    "plot_series(\n",
    "    weekly_data_combination['Close_ASML'],             # Training data starting from index 500 for better visualization\n",
    "    future_dataframe_ASML_stock,                       # Predictions from the ASML model\n",
    "    labels=[\"past_data\", \"y_pred_asml_stock\"]          # Labels for each line in the plot\n",
    ")"
   ]
  }
 ],
 "metadata": {
  "kernelspec": {
   "display_name": "forecastingv2",
   "language": "python",
   "name": "forecastingv2"
  },
  "language_info": {
   "codemirror_mode": {
    "name": "ipython",
    "version": 3
   },
   "file_extension": ".py",
   "mimetype": "text/x-python",
   "name": "python",
   "nbconvert_exporter": "python",
   "pygments_lexer": "ipython3",
   "version": "3.12.3"
  }
 },
 "nbformat": 4,
 "nbformat_minor": 4
}
