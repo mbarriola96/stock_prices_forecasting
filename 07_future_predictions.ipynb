{
 "cells": [
  {
   "cell_type": "markdown",
   "metadata": {},
   "source": [
    "# 1. Overview"
   ]
  },
  {
   "cell_type": "code",
   "execution_count": null,
   "metadata": {},
   "outputs": [],
   "source": []
  },
  {
   "cell_type": "markdown",
   "metadata": {},
   "source": [
    "# 2. Future Predictions"
   ]
  },
  {
   "cell_type": "markdown",
   "metadata": {},
   "source": [
    "## 2.1 Import Libraries"
   ]
  },
  {
   "cell_type": "code",
   "execution_count": 1,
   "metadata": {},
   "outputs": [
    {
     "name": "stderr",
     "output_type": "stream",
     "text": [
      "C:\\Users\\Usuario\\anaconda3\\envs\\forecastingv2\\Lib\\site-packages\\tqdm\\auto.py:21: TqdmWarning: IProgress not found. Please update jupyter and ipywidgets. See https://ipywidgets.readthedocs.io/en/stable/user_install.html\n",
      "  from .autonotebook import tqdm as notebook_tqdm\n",
      "Importing plotly failed. Interactive plots will not work.\n"
     ]
    }
   ],
   "source": [
    "import pandas as pd\n",
    "import joblib\n",
    "from sktime.utils.plotting import plot_series\n",
    "from prophet import Prophet\n"
   ]
  },
  {
   "cell_type": "markdown",
   "metadata": {},
   "source": [
    "## 2.2 Define Global Variables"
   ]
  },
  {
   "cell_type": "code",
   "execution_count": 2,
   "metadata": {},
   "outputs": [],
   "source": [
    "# Define the dictionary with file names and suppliers\n",
    "company_tickers = {\n",
    "    'CZMWY': 'Carl Zeiss Meditec',\n",
    "    'LRCX': 'Lam Research Corporation',\n",
    "    'TOELY': 'Tokyo Electron Limited'\n",
    "}\n",
    "\n",
    "regressors = ['Close_Carl_Zeiss_Meditec', 'Close_Lam_Research_Corporation', \n",
    "              'Close_Tokyo_Electron_Limited', 'COVID_Period', \n",
    "              'Geopolitical_Tension', 'Trade_Sanctions', \n",
    "              'Tech_Regulation', 'New_Product_Launch']\n",
    "\n",
    "output_model_path_asml_suppliers = 'models/prophet_asml_combination_with_suppliers.pkl'\n",
    "input_data = 'data/weekly_data_combination.csv'\n",
    "future_weeks = 2\n"
   ]
  },
  {
   "cell_type": "markdown",
   "metadata": {},
   "source": [
    "## 2.3 Functions"
   ]
  },
  {
   "cell_type": "code",
   "execution_count": 3,
   "metadata": {},
   "outputs": [],
   "source": [
    "# Function to add exogenous variables to the future_dataframe\n",
    "def add_exogenous_variables(future_df):\n",
    "    \"\"\"\n",
    "    Input: future_df (DataFrame) - A DataFrame containing future dates in the 'ds' column.\n",
    "    Output: future_df (DataFrame) - The same DataFrame with added binary columns for each exogenous event.\n",
    "    Logic: Adds binary indicators for each specified geopolitical and economic event based on predefined date ranges.\n",
    "    \"\"\"\n",
    "    \n",
    "    # Define the date ranges for each exogenous event\n",
    "    covid_start = '2020-01-01'\n",
    "    covid_end = '2022-12-31'\n",
    "\n",
    "    geopolitical_tension_start = '2022-02-01'\n",
    "    geopolitical_tension_end = '2025-12-31'\n",
    "\n",
    "    trade_sanctions_start = '2018-07-01'\n",
    "    trade_sanctions_end = '2029-12-31'\n",
    "\n",
    "    tech_regulation_start = '2020-06-01'\n",
    "    tech_regulation_end = '2029-12-31'\n",
    "\n",
    "    new_product_launch_start = '2023-12-01'\n",
    "    new_product_launch_end = '2025-12-31'\n",
    "\n",
    "    israel_gaza_conflict_start = '2023-10-07'\n",
    "    israel_gaza_conflict_end = '2025-12-31'\n",
    "\n",
    "    # COVID Period\n",
    "    future_df['COVID_Period'] = ((future_df['ds'] >= covid_start) & \n",
    "                                 (future_df['ds'] <= covid_end)).astype(int)\n",
    "    \n",
    "    # Geopolitical Tensions (Ukraine Conflict)\n",
    "    future_df['Geopolitical_Tension'] = ((future_df['ds'] >= geopolitical_tension_start) & \n",
    "                                         (future_df['ds'] <= geopolitical_tension_end)).astype(int)\n",
    "    \n",
    "    # US-China Trade War\n",
    "    future_df['Trade_Sanctions'] = ((future_df['ds'] >= trade_sanctions_start) & \n",
    "                                    (future_df['ds'] <= trade_sanctions_end)).astype(int)\n",
    "    \n",
    "    # Tech Regulation (Export Restrictions)\n",
    "    future_df['Tech_Regulation'] = ((future_df['ds'] >= tech_regulation_start) & \n",
    "                                    (future_df['ds'] <= tech_regulation_end)).astype(int)\n",
    "    \n",
    "    # New EUV Machine Launch (TWINSCAN EXE:5000)\n",
    "    future_df['New_Product_Launch'] = ((future_df['ds'] >= new_product_launch_start) & \n",
    "                                       (future_df['ds'] <= new_product_launch_end)).astype(int)\n",
    "    \n",
    "    # Israel-Gaza Conflict\n",
    "    future_df['Israel_Gaza_Conflict'] = ((future_df['ds'] >= israel_gaza_conflict_start) & \n",
    "                                         (future_df['ds'] <= israel_gaza_conflict_end)).astype(int)"
   ]
  },
  {
   "cell_type": "markdown",
   "metadata": {},
   "source": [
    "## 2.4 Code"
   ]
  },
  {
   "cell_type": "markdown",
   "metadata": {},
   "source": [
    "### 2.4.1 Loading the data from notebook 04_data_preparation"
   ]
  },
  {
   "cell_type": "code",
   "execution_count": 4,
   "metadata": {},
   "outputs": [
    {
     "data": {
      "text/html": [
       "<div>\n",
       "<style scoped>\n",
       "    .dataframe tbody tr th:only-of-type {\n",
       "        vertical-align: middle;\n",
       "    }\n",
       "\n",
       "    .dataframe tbody tr th {\n",
       "        vertical-align: top;\n",
       "    }\n",
       "\n",
       "    .dataframe thead th {\n",
       "        text-align: right;\n",
       "    }\n",
       "</style>\n",
       "<table border=\"1\" class=\"dataframe\">\n",
       "  <thead>\n",
       "    <tr style=\"text-align: right;\">\n",
       "      <th></th>\n",
       "      <th>Close_ASML</th>\n",
       "      <th>Close_Carl_Zeiss_Meditec</th>\n",
       "      <th>Close_Lam_Research_Corporation</th>\n",
       "      <th>Close_Tokyo_Electron_Limited</th>\n",
       "      <th>COVID_Period</th>\n",
       "      <th>Geopolitical_Tension</th>\n",
       "      <th>Trade_Sanctions</th>\n",
       "      <th>Tech_Regulation</th>\n",
       "      <th>New_Product_Launch</th>\n",
       "      <th>Israel_Gaza_Conflict</th>\n",
       "      <th>Economic_Stimulus</th>\n",
       "    </tr>\n",
       "    <tr>\n",
       "      <th>Date</th>\n",
       "      <th></th>\n",
       "      <th></th>\n",
       "      <th></th>\n",
       "      <th></th>\n",
       "      <th></th>\n",
       "      <th></th>\n",
       "      <th></th>\n",
       "      <th></th>\n",
       "      <th></th>\n",
       "      <th></th>\n",
       "      <th></th>\n",
       "    </tr>\n",
       "  </thead>\n",
       "  <tbody>\n",
       "    <tr>\n",
       "      <th>2013-01-13</th>\n",
       "      <td>56.546021</td>\n",
       "      <td>26.057861</td>\n",
       "      <td>2.061523</td>\n",
       "      <td>7.480000</td>\n",
       "      <td>0</td>\n",
       "      <td>0</td>\n",
       "      <td>0</td>\n",
       "      <td>0</td>\n",
       "      <td>0</td>\n",
       "      <td>0</td>\n",
       "      <td>0</td>\n",
       "    </tr>\n",
       "    <tr>\n",
       "      <th>2013-01-20</th>\n",
       "      <td>57.203339</td>\n",
       "      <td>27.226334</td>\n",
       "      <td>2.102677</td>\n",
       "      <td>7.460000</td>\n",
       "      <td>0</td>\n",
       "      <td>0</td>\n",
       "      <td>0</td>\n",
       "      <td>0</td>\n",
       "      <td>0</td>\n",
       "      <td>0</td>\n",
       "      <td>0</td>\n",
       "    </tr>\n",
       "    <tr>\n",
       "      <th>2013-01-27</th>\n",
       "      <td>62.106480</td>\n",
       "      <td>27.674397</td>\n",
       "      <td>2.199800</td>\n",
       "      <td>7.406667</td>\n",
       "      <td>0</td>\n",
       "      <td>0</td>\n",
       "      <td>0</td>\n",
       "      <td>0</td>\n",
       "      <td>0</td>\n",
       "      <td>0</td>\n",
       "      <td>0</td>\n",
       "    </tr>\n",
       "    <tr>\n",
       "      <th>2013-02-03</th>\n",
       "      <td>66.858604</td>\n",
       "      <td>28.728662</td>\n",
       "      <td>2.289240</td>\n",
       "      <td>7.140000</td>\n",
       "      <td>0</td>\n",
       "      <td>0</td>\n",
       "      <td>0</td>\n",
       "      <td>0</td>\n",
       "      <td>0</td>\n",
       "      <td>0</td>\n",
       "      <td>0</td>\n",
       "    </tr>\n",
       "    <tr>\n",
       "      <th>2013-02-10</th>\n",
       "      <td>67.498169</td>\n",
       "      <td>29.343649</td>\n",
       "      <td>2.335880</td>\n",
       "      <td>6.853333</td>\n",
       "      <td>0</td>\n",
       "      <td>0</td>\n",
       "      <td>0</td>\n",
       "      <td>0</td>\n",
       "      <td>0</td>\n",
       "      <td>0</td>\n",
       "      <td>0</td>\n",
       "    </tr>\n",
       "    <tr>\n",
       "      <th>...</th>\n",
       "      <td>...</td>\n",
       "      <td>...</td>\n",
       "      <td>...</td>\n",
       "      <td>...</td>\n",
       "      <td>...</td>\n",
       "      <td>...</td>\n",
       "      <td>...</td>\n",
       "      <td>...</td>\n",
       "      <td>...</td>\n",
       "      <td>...</td>\n",
       "      <td>...</td>\n",
       "    </tr>\n",
       "    <tr>\n",
       "      <th>2024-10-13</th>\n",
       "      <td>832.038757</td>\n",
       "      <td>72.779999</td>\n",
       "      <td>82.059998</td>\n",
       "      <td>86.790001</td>\n",
       "      <td>0</td>\n",
       "      <td>1</td>\n",
       "      <td>1</td>\n",
       "      <td>1</td>\n",
       "      <td>1</td>\n",
       "      <td>1</td>\n",
       "      <td>0</td>\n",
       "    </tr>\n",
       "    <tr>\n",
       "      <th>2024-10-20</th>\n",
       "      <td>721.585144</td>\n",
       "      <td>67.094002</td>\n",
       "      <td>74.139999</td>\n",
       "      <td>81.540001</td>\n",
       "      <td>0</td>\n",
       "      <td>1</td>\n",
       "      <td>1</td>\n",
       "      <td>1</td>\n",
       "      <td>1</td>\n",
       "      <td>1</td>\n",
       "      <td>0</td>\n",
       "    </tr>\n",
       "    <tr>\n",
       "      <th>2024-10-27</th>\n",
       "      <td>710.051941</td>\n",
       "      <td>67.529999</td>\n",
       "      <td>73.000000</td>\n",
       "      <td>76.709999</td>\n",
       "      <td>0</td>\n",
       "      <td>1</td>\n",
       "      <td>1</td>\n",
       "      <td>1</td>\n",
       "      <td>1</td>\n",
       "      <td>1</td>\n",
       "      <td>0</td>\n",
       "    </tr>\n",
       "    <tr>\n",
       "      <th>2024-11-03</th>\n",
       "      <td>683.830017</td>\n",
       "      <td>65.550003</td>\n",
       "      <td>75.449997</td>\n",
       "      <td>77.500000</td>\n",
       "      <td>0</td>\n",
       "      <td>1</td>\n",
       "      <td>1</td>\n",
       "      <td>1</td>\n",
       "      <td>1</td>\n",
       "      <td>1</td>\n",
       "      <td>0</td>\n",
       "    </tr>\n",
       "    <tr>\n",
       "      <th>2024-11-10</th>\n",
       "      <td>676.460022</td>\n",
       "      <td>62.000000</td>\n",
       "      <td>76.590000</td>\n",
       "      <td>76.559998</td>\n",
       "      <td>0</td>\n",
       "      <td>1</td>\n",
       "      <td>1</td>\n",
       "      <td>1</td>\n",
       "      <td>1</td>\n",
       "      <td>1</td>\n",
       "      <td>0</td>\n",
       "    </tr>\n",
       "  </tbody>\n",
       "</table>\n",
       "<p>618 rows × 11 columns</p>\n",
       "</div>"
      ],
      "text/plain": [
       "            Close_ASML  Close_Carl_Zeiss_Meditec  \\\n",
       "Date                                               \n",
       "2013-01-13   56.546021                 26.057861   \n",
       "2013-01-20   57.203339                 27.226334   \n",
       "2013-01-27   62.106480                 27.674397   \n",
       "2013-02-03   66.858604                 28.728662   \n",
       "2013-02-10   67.498169                 29.343649   \n",
       "...                ...                       ...   \n",
       "2024-10-13  832.038757                 72.779999   \n",
       "2024-10-20  721.585144                 67.094002   \n",
       "2024-10-27  710.051941                 67.529999   \n",
       "2024-11-03  683.830017                 65.550003   \n",
       "2024-11-10  676.460022                 62.000000   \n",
       "\n",
       "            Close_Lam_Research_Corporation  Close_Tokyo_Electron_Limited  \\\n",
       "Date                                                                       \n",
       "2013-01-13                        2.061523                      7.480000   \n",
       "2013-01-20                        2.102677                      7.460000   \n",
       "2013-01-27                        2.199800                      7.406667   \n",
       "2013-02-03                        2.289240                      7.140000   \n",
       "2013-02-10                        2.335880                      6.853333   \n",
       "...                                    ...                           ...   \n",
       "2024-10-13                       82.059998                     86.790001   \n",
       "2024-10-20                       74.139999                     81.540001   \n",
       "2024-10-27                       73.000000                     76.709999   \n",
       "2024-11-03                       75.449997                     77.500000   \n",
       "2024-11-10                       76.590000                     76.559998   \n",
       "\n",
       "            COVID_Period  Geopolitical_Tension  Trade_Sanctions  \\\n",
       "Date                                                              \n",
       "2013-01-13             0                     0                0   \n",
       "2013-01-20             0                     0                0   \n",
       "2013-01-27             0                     0                0   \n",
       "2013-02-03             0                     0                0   \n",
       "2013-02-10             0                     0                0   \n",
       "...                  ...                   ...              ...   \n",
       "2024-10-13             0                     1                1   \n",
       "2024-10-20             0                     1                1   \n",
       "2024-10-27             0                     1                1   \n",
       "2024-11-03             0                     1                1   \n",
       "2024-11-10             0                     1                1   \n",
       "\n",
       "            Tech_Regulation  New_Product_Launch  Israel_Gaza_Conflict  \\\n",
       "Date                                                                    \n",
       "2013-01-13                0                   0                     0   \n",
       "2013-01-20                0                   0                     0   \n",
       "2013-01-27                0                   0                     0   \n",
       "2013-02-03                0                   0                     0   \n",
       "2013-02-10                0                   0                     0   \n",
       "...                     ...                 ...                   ...   \n",
       "2024-10-13                1                   1                     1   \n",
       "2024-10-20                1                   1                     1   \n",
       "2024-10-27                1                   1                     1   \n",
       "2024-11-03                1                   1                     1   \n",
       "2024-11-10                1                   1                     1   \n",
       "\n",
       "            Economic_Stimulus  \n",
       "Date                           \n",
       "2013-01-13                  0  \n",
       "2013-01-20                  0  \n",
       "2013-01-27                  0  \n",
       "2013-02-03                  0  \n",
       "2013-02-10                  0  \n",
       "...                       ...  \n",
       "2024-10-13                  0  \n",
       "2024-10-20                  0  \n",
       "2024-10-27                  0  \n",
       "2024-11-03                  0  \n",
       "2024-11-10                  0  \n",
       "\n",
       "[618 rows x 11 columns]"
      ]
     },
     "execution_count": 4,
     "metadata": {},
     "output_type": "execute_result"
    }
   ],
   "source": [
    "weekly_data_combination = pd.read_csv(input_data, sep=';')\n",
    "\n",
    "# Ensure the 'Date' column is in datetime format\n",
    "weekly_data_combination['Date'] = pd.to_datetime(weekly_data_combination['Date'])\n",
    "\n",
    "# Set the 'Date' column as the index to make it a DatetimeIndex\n",
    "weekly_data_combination.set_index('Date', inplace=True)\n",
    "\n",
    "# Explicitly set the frequency of the Date index\n",
    "weekly_data_combination = weekly_data_combination.asfreq('W')\n",
    "\n",
    "# Replace spaces with underscores in column names\n",
    "weekly_data_combination.columns = [col.replace(\" \", \"_\") for col in weekly_data_combination.columns]\n",
    "\n",
    "weekly_data_combination"
   ]
  },
  {
   "cell_type": "markdown",
   "metadata": {},
   "source": [
    "### 2.4.2 Loading Suppliers Pickles"
   ]
  },
  {
   "cell_type": "code",
   "execution_count": 5,
   "metadata": {},
   "outputs": [
    {
     "name": "stdout",
     "output_type": "stream",
     "text": [
      "Prophet model for Carl Zeiss Meditec loaded from models/prophet_asml_supplier_Carl_Zeiss_Meditec.pkl\n",
      "Prophet model for Lam Research Corporation loaded from models/prophet_asml_supplier_Lam_Research_Corporation.pkl\n",
      "Prophet model for Tokyo Electron Limited loaded from models/prophet_asml_supplier_Tokyo_Electron_Limited.pkl\n"
     ]
    }
   ],
   "source": [
    "# Create an empty dictionary to store the loaded models\n",
    "models_suppliers = {}\n",
    "\n",
    "# Iterate over each supplier in company_tickers to load its model\n",
    "for ticker, company in company_tickers.items():\n",
    "    # Define the file path to the model pickle file for the current supplier\n",
    "    model_path = f'models/prophet_asml_supplier_{company.replace(\" \", \"_\")}.pkl'\n",
    "    \n",
    "    # Load the model and store it in the dictionary using the supplier's name\n",
    "    models_suppliers[company] = joblib.load(model_path)\n",
    "    print(f'Prophet model for {company} loaded from {model_path}')"
   ]
  },
  {
   "cell_type": "markdown",
   "metadata": {},
   "source": [
    "### 2.4.3 Train the model with new data"
   ]
  },
  {
   "cell_type": "markdown",
   "metadata": {},
   "source": [
    "The prophet model that was trained in notebook 05_modelling, we are going to train it again with all the data without separating between train and test. "
   ]
  },
  {
   "cell_type": "code",
   "execution_count": 6,
   "metadata": {},
   "outputs": [],
   "source": [
    "prophet_model = Prophet(\n",
    "    changepoint_prior_scale= 0.07, \n",
    "    daily_seasonality= False, \n",
    "    holidays_prior_scale= 0.1, \n",
    "    seasonality_mode= 'additive', \n",
    "    seasonality_prior_scale= 1.5, \n",
    "    weekly_seasonality= True, \n",
    "    yearly_seasonality= False\n",
    ")"
   ]
  },
  {
   "cell_type": "markdown",
   "metadata": {},
   "source": [
    "Modify the column names as required by prophet"
   ]
  },
  {
   "cell_type": "code",
   "execution_count": 7,
   "metadata": {},
   "outputs": [],
   "source": [
    "train_data = weekly_data_combination.reset_index(names=\"ds\").rename(columns={'Close_ASML':'y'})"
   ]
  },
  {
   "cell_type": "markdown",
   "metadata": {},
   "source": [
    "Add regressors"
   ]
  },
  {
   "cell_type": "code",
   "execution_count": 8,
   "metadata": {},
   "outputs": [],
   "source": [
    "for regressor in regressors:\n",
    "    prophet_model.add_regressor(regressor)"
   ]
  },
  {
   "cell_type": "markdown",
   "metadata": {},
   "source": [
    "Fit the model"
   ]
  },
  {
   "cell_type": "code",
   "execution_count": 9,
   "metadata": {},
   "outputs": [
    {
     "name": "stderr",
     "output_type": "stream",
     "text": [
      "15:56:20 - cmdstanpy - INFO - Chain [1] start processing\n",
      "15:56:20 - cmdstanpy - INFO - Chain [1] done processing\n"
     ]
    },
    {
     "data": {
      "text/plain": [
       "<prophet.forecaster.Prophet at 0x1bafcedf6e0>"
      ]
     },
     "execution_count": 9,
     "metadata": {},
     "output_type": "execute_result"
    }
   ],
   "source": [
    "prophet_model.fit(train_data)"
   ]
  },
  {
   "cell_type": "markdown",
   "metadata": {},
   "source": [
    "### 2.4.4 Building the future dataframe"
   ]
  },
  {
   "cell_type": "code",
   "execution_count": 10,
   "metadata": {},
   "outputs": [
    {
     "name": "stderr",
     "output_type": "stream",
     "text": [
      "C:\\Users\\Usuario\\anaconda3\\envs\\forecastingv2\\Lib\\site-packages\\prophet\\forecaster.py:1854: FutureWarning: 'w' is deprecated and will be removed in a future version, please use 'W' instead.\n",
      "  dates = pd.date_range(\n"
     ]
    },
    {
     "data": {
      "text/html": [
       "<div>\n",
       "<style scoped>\n",
       "    .dataframe tbody tr th:only-of-type {\n",
       "        vertical-align: middle;\n",
       "    }\n",
       "\n",
       "    .dataframe tbody tr th {\n",
       "        vertical-align: top;\n",
       "    }\n",
       "\n",
       "    .dataframe thead th {\n",
       "        text-align: right;\n",
       "    }\n",
       "</style>\n",
       "<table border=\"1\" class=\"dataframe\">\n",
       "  <thead>\n",
       "    <tr style=\"text-align: right;\">\n",
       "      <th></th>\n",
       "      <th>ds</th>\n",
       "    </tr>\n",
       "  </thead>\n",
       "  <tbody>\n",
       "    <tr>\n",
       "      <th>618</th>\n",
       "      <td>2024-11-17</td>\n",
       "    </tr>\n",
       "    <tr>\n",
       "      <th>619</th>\n",
       "      <td>2024-11-24</td>\n",
       "    </tr>\n",
       "  </tbody>\n",
       "</table>\n",
       "</div>"
      ],
      "text/plain": [
       "            ds\n",
       "618 2024-11-17\n",
       "619 2024-11-24"
      ]
     },
     "execution_count": 10,
     "metadata": {},
     "output_type": "execute_result"
    }
   ],
   "source": [
    "future_dataframe = prophet_model.make_future_dataframe(periods=future_weeks, freq='w')[-future_weeks:]\n",
    "future_dataframe"
   ]
  },
  {
   "cell_type": "markdown",
   "metadata": {},
   "source": [
    "Predict the stock of ASML's suppliers using the prophet models of the suppliers that were done in notebook 03_selecting_asml_suppliers"
   ]
  },
  {
   "cell_type": "code",
   "execution_count": 11,
   "metadata": {},
   "outputs": [],
   "source": [
    "# Iterate over each supplier in company_tickers to make predictions\n",
    "for ticker, company in company_tickers.items():\n",
    "    # Get the loaded Prophet model for the current supplier from the models_suppliers dictionary\n",
    "    model = models_suppliers[company]\n",
    "    \n",
    "    # Generate predictions on the future_dataframe using the model\n",
    "    forecast = model.predict(future_dataframe)\n",
    "    \n",
    "    # Select only 'ds' and 'yhat' columns, rename 'yhat' to 'Close_{company}'\n",
    "    forecast = forecast[['ds', 'yhat']].rename(columns={'yhat': f'Close_{company.replace(\" \", \"_\")}'})\n",
    "    \n",
    "    # Merge the forecast data with the future_dataframe on the 'ds' column\n",
    "    future_dataframe = future_dataframe.merge(forecast, on='ds', how='left')"
   ]
  },
  {
   "cell_type": "code",
   "execution_count": 12,
   "metadata": {},
   "outputs": [
    {
     "data": {
      "text/html": [
       "<div>\n",
       "<style scoped>\n",
       "    .dataframe tbody tr th:only-of-type {\n",
       "        vertical-align: middle;\n",
       "    }\n",
       "\n",
       "    .dataframe tbody tr th {\n",
       "        vertical-align: top;\n",
       "    }\n",
       "\n",
       "    .dataframe thead th {\n",
       "        text-align: right;\n",
       "    }\n",
       "</style>\n",
       "<table border=\"1\" class=\"dataframe\">\n",
       "  <thead>\n",
       "    <tr style=\"text-align: right;\">\n",
       "      <th></th>\n",
       "      <th>ds</th>\n",
       "      <th>Close_Carl_Zeiss_Meditec</th>\n",
       "      <th>Close_Lam_Research_Corporation</th>\n",
       "      <th>Close_Tokyo_Electron_Limited</th>\n",
       "    </tr>\n",
       "  </thead>\n",
       "  <tbody>\n",
       "    <tr>\n",
       "      <th>0</th>\n",
       "      <td>2024-11-17</td>\n",
       "      <td>69.031557</td>\n",
       "      <td>89.705845</td>\n",
       "      <td>93.968502</td>\n",
       "    </tr>\n",
       "    <tr>\n",
       "      <th>1</th>\n",
       "      <td>2024-11-24</td>\n",
       "      <td>68.241050</td>\n",
       "      <td>90.929548</td>\n",
       "      <td>95.377398</td>\n",
       "    </tr>\n",
       "  </tbody>\n",
       "</table>\n",
       "</div>"
      ],
      "text/plain": [
       "          ds  Close_Carl_Zeiss_Meditec  Close_Lam_Research_Corporation  \\\n",
       "0 2024-11-17                 69.031557                       89.705845   \n",
       "1 2024-11-24                 68.241050                       90.929548   \n",
       "\n",
       "   Close_Tokyo_Electron_Limited  \n",
       "0                     93.968502  \n",
       "1                     95.377398  "
      ]
     },
     "execution_count": 12,
     "metadata": {},
     "output_type": "execute_result"
    }
   ],
   "source": [
    "future_dataframe"
   ]
  },
  {
   "cell_type": "markdown",
   "metadata": {},
   "source": [
    "Let's predict the exogenous variables into the future and add them to the future_dataframe as well "
   ]
  },
  {
   "cell_type": "code",
   "execution_count": 13,
   "metadata": {},
   "outputs": [
    {
     "data": {
      "text/html": [
       "<div>\n",
       "<style scoped>\n",
       "    .dataframe tbody tr th:only-of-type {\n",
       "        vertical-align: middle;\n",
       "    }\n",
       "\n",
       "    .dataframe tbody tr th {\n",
       "        vertical-align: top;\n",
       "    }\n",
       "\n",
       "    .dataframe thead th {\n",
       "        text-align: right;\n",
       "    }\n",
       "</style>\n",
       "<table border=\"1\" class=\"dataframe\">\n",
       "  <thead>\n",
       "    <tr style=\"text-align: right;\">\n",
       "      <th></th>\n",
       "      <th>ds</th>\n",
       "      <th>Close_Carl_Zeiss_Meditec</th>\n",
       "      <th>Close_Lam_Research_Corporation</th>\n",
       "      <th>Close_Tokyo_Electron_Limited</th>\n",
       "      <th>COVID_Period</th>\n",
       "      <th>Geopolitical_Tension</th>\n",
       "      <th>Trade_Sanctions</th>\n",
       "      <th>Tech_Regulation</th>\n",
       "      <th>New_Product_Launch</th>\n",
       "      <th>Israel_Gaza_Conflict</th>\n",
       "    </tr>\n",
       "  </thead>\n",
       "  <tbody>\n",
       "    <tr>\n",
       "      <th>0</th>\n",
       "      <td>2024-11-17</td>\n",
       "      <td>69.031557</td>\n",
       "      <td>89.705845</td>\n",
       "      <td>93.968502</td>\n",
       "      <td>0</td>\n",
       "      <td>1</td>\n",
       "      <td>1</td>\n",
       "      <td>1</td>\n",
       "      <td>1</td>\n",
       "      <td>1</td>\n",
       "    </tr>\n",
       "    <tr>\n",
       "      <th>1</th>\n",
       "      <td>2024-11-24</td>\n",
       "      <td>68.241050</td>\n",
       "      <td>90.929548</td>\n",
       "      <td>95.377398</td>\n",
       "      <td>0</td>\n",
       "      <td>1</td>\n",
       "      <td>1</td>\n",
       "      <td>1</td>\n",
       "      <td>1</td>\n",
       "      <td>1</td>\n",
       "    </tr>\n",
       "  </tbody>\n",
       "</table>\n",
       "</div>"
      ],
      "text/plain": [
       "          ds  Close_Carl_Zeiss_Meditec  Close_Lam_Research_Corporation  \\\n",
       "0 2024-11-17                 69.031557                       89.705845   \n",
       "1 2024-11-24                 68.241050                       90.929548   \n",
       "\n",
       "   Close_Tokyo_Electron_Limited  COVID_Period  Geopolitical_Tension  \\\n",
       "0                     93.968502             0                     1   \n",
       "1                     95.377398             0                     1   \n",
       "\n",
       "   Trade_Sanctions  Tech_Regulation  New_Product_Launch  Israel_Gaza_Conflict  \n",
       "0                1                1                   1                     1  \n",
       "1                1                1                   1                     1  "
      ]
     },
     "execution_count": 13,
     "metadata": {},
     "output_type": "execute_result"
    }
   ],
   "source": [
    "# Apply the function to future_dataframe\n",
    "add_exogenous_variables(future_dataframe)\n",
    "\n",
    "future_dataframe"
   ]
  },
  {
   "cell_type": "markdown",
   "metadata": {},
   "source": [
    "### 2.4.5 Predicting the stock values of ASML "
   ]
  },
  {
   "cell_type": "code",
   "execution_count": 14,
   "metadata": {},
   "outputs": [
    {
     "data": {
      "text/html": [
       "<div>\n",
       "<style scoped>\n",
       "    .dataframe tbody tr th:only-of-type {\n",
       "        vertical-align: middle;\n",
       "    }\n",
       "\n",
       "    .dataframe tbody tr th {\n",
       "        vertical-align: top;\n",
       "    }\n",
       "\n",
       "    .dataframe thead th {\n",
       "        text-align: right;\n",
       "    }\n",
       "</style>\n",
       "<table border=\"1\" class=\"dataframe\">\n",
       "  <thead>\n",
       "    <tr style=\"text-align: right;\">\n",
       "      <th></th>\n",
       "      <th>Close</th>\n",
       "    </tr>\n",
       "    <tr>\n",
       "      <th>ds</th>\n",
       "      <th></th>\n",
       "    </tr>\n",
       "  </thead>\n",
       "  <tbody>\n",
       "    <tr>\n",
       "      <th>2024-11-17</th>\n",
       "      <td>876.439546</td>\n",
       "    </tr>\n",
       "    <tr>\n",
       "      <th>2024-11-24</th>\n",
       "      <td>884.638415</td>\n",
       "    </tr>\n",
       "  </tbody>\n",
       "</table>\n",
       "</div>"
      ],
      "text/plain": [
       "                 Close\n",
       "ds                    \n",
       "2024-11-17  876.439546\n",
       "2024-11-24  884.638415"
      ]
     },
     "execution_count": 14,
     "metadata": {},
     "output_type": "execute_result"
    }
   ],
   "source": [
    "# Generate predictions\n",
    "future_dataframe_ASML_stock = prophet_model.predict(future_dataframe)\n",
    "\n",
    "# Return to the original DataFrame format with 'ds' as index and 'yhat' as 'Close'\n",
    "future_dataframe_ASML_stock = future_dataframe_ASML_stock[['ds', 'yhat']].set_index('ds').rename(columns={'yhat': 'Close'})\n",
    "\n",
    "future_dataframe_ASML_stock"
   ]
  },
  {
   "cell_type": "markdown",
   "metadata": {},
   "source": [
    "Let's do a representation of the results"
   ]
  },
  {
   "cell_type": "code",
   "execution_count": 15,
   "metadata": {},
   "outputs": [
    {
     "data": {
      "text/plain": [
       "(<Figure size 1600x400 with 1 Axes>, <Axes: ylabel='Close_ASML'>)"
      ]
     },
     "execution_count": 15,
     "metadata": {},
     "output_type": "execute_result"
    },
    {
     "data": {
      "image/png": "[encoded data removed]",
      "text/plain": [
       "<Figure size 1600x400 with 1 Axes>"
      ]
     },
     "metadata": {},
     "output_type": "display_data"
    }
   ],
   "source": [
    "# Plot the series with train, test, and predictions from both models\n",
    "plot_series(\n",
    "    weekly_data_combination['Close_ASML'],             # Training data starting from index 500 for better visualization\n",
    "    future_dataframe_ASML_stock,                       # Predictions from the ASML model\n",
    "    labels=[\"past_data\", \"y_pred_asml_stock\"]          # Labels for each line in the plot\n",
    ")"
   ]
  }
 ],
 "metadata": {
  "kernelspec": {
   "display_name": "forecastingv2",
   "language": "python",
   "name": "forecastingv2"
  },
  "language_info": {
   "codemirror_mode": {
    "name": "ipython",
    "version": 3
   },
   "file_extension": ".py",
   "mimetype": "text/x-python",
   "name": "python",
   "nbconvert_exporter": "python",
   "pygments_lexer": "ipython3",
   "version": "3.12.3"
  }
 },
 "nbformat": 4,
 "nbformat_minor": 4
}
