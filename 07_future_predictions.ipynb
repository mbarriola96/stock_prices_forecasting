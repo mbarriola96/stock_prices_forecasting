{
 "cells": [
  {
   "cell_type": "markdown",
   "metadata": {},
   "source": [
    "# 1. Overview"
   ]
  },
  {
   "cell_type": "markdown",
   "metadata": {},
   "source": [
    "This notebook outlines a process for predicting future ASML stock prices using Prophet models. It includes training the model with historical data, adding exogenous variables (such as geopolitical events and supplier performance), and generating predictions for upcoming weeks. Supplier-specific Prophet models were utilized to forecast their stocks, which were then integrated into the ASML model to account for external factors. The final predictions show ASML's stock price trends, providing insights into the impact of supplier and geopolitical data on future performance."
   ]
  },
  {
   "cell_type": "markdown",
   "metadata": {},
   "source": [
    "# 2. Future Predictions"
   ]
  },
  {
   "cell_type": "markdown",
   "metadata": {},
   "source": [
    "## 2.1 Import Libraries"
   ]
  },
  {
   "cell_type": "code",
   "execution_count": 1,
   "metadata": {},
   "outputs": [
    {
     "name": "stderr",
     "output_type": "stream",
     "text": [
      "C:\\Users\\Usuario\\anaconda3\\envs\\forecastingv2\\Lib\\site-packages\\tqdm\\auto.py:21: TqdmWarning: IProgress not found. Please update jupyter and ipywidgets. See https://ipywidgets.readthedocs.io/en/stable/user_install.html\n",
      "  from .autonotebook import tqdm as notebook_tqdm\n",
      "Importing plotly failed. Interactive plots will not work.\n"
     ]
    }
   ],
   "source": [
    "import pandas as pd\n",
    "import json\n",
    "import joblib\n",
    "from sktime.utils.plotting import plot_series\n",
    "from prophet import Prophet"
   ]
  },
  {
   "cell_type": "markdown",
   "metadata": {},
   "source": [
    "## 2.2 Define Global Variables"
   ]
  },
  {
   "cell_type": "code",
   "execution_count": 2,
   "metadata": {},
   "outputs": [],
   "source": [
    "input_best_params_path  = 'data/best_prophet_params.json'\n",
    "input_regressors_path = 'data/best_regressors.json'\n",
    "input_data = 'data/weekly_data_combination.csv'\n",
    "future_weeks = 2"
   ]
  },
  {
   "cell_type": "markdown",
   "metadata": {},
   "source": [
    "## 2.3 Functions"
   ]
  },
  {
   "cell_type": "code",
   "execution_count": 3,
   "metadata": {},
   "outputs": [],
   "source": [
    "# Function to add exogenous variables to the future_dataframe\n",
    "def add_exogenous_variables(future_df: pd.DataFrame, list_exogenous: list):\n",
    "    \"\"\"\n",
    "    Input: \n",
    "        future_df (DataFrame) - A DataFrame containing future dates in the 'ds' column.\n",
    "        list_exogenous (list) - List of exogenous variables to add.\n",
    "    Output: \n",
    "        future_df (DataFrame) - The same DataFrame with added binary columns for specified exogenous events.\n",
    "    Logic: \n",
    "        Adds binary indicators for each specified exogenous event based on predefined date ranges.\n",
    "    \"\"\"\n",
    "    # Define the date ranges for each exogenous event\n",
    "    exogenous_events = {\n",
    "        'COVID_Period': ('2020-01-01', '2022-12-31'),\n",
    "        'Geopolitical_Tension': ('2022-02-01', '2025-12-31'),\n",
    "        'Trade_Sanctions': ('2018-07-01', '2029-12-31'),\n",
    "        'Tech_Regulation': ('2020-06-01', '2029-12-31'),\n",
    "        'New_Product_Launch': ('2023-12-01', '2025-12-31'),\n",
    "        'Israel_Gaza_Conflict': ('2023-10-07', '2025-12-31'),\n",
    "    }\n",
    "\n",
    "    # Add binary columns for each exogenous variable in the list\n",
    "    for exogenous in list_exogenous:\n",
    "        if exogenous in exogenous_events:\n",
    "            start_date, end_date = exogenous_events[exogenous]\n",
    "            future_df[exogenous] = ((future_df['ds'] >= start_date) & \n",
    "                                    (future_df['ds'] <= end_date)).astype(int)\n",
    "    \n",
    "    return future_df"
   ]
  },
  {
   "cell_type": "markdown",
   "metadata": {},
   "source": [
    "## 2.4 Code"
   ]
  },
  {
   "cell_type": "markdown",
   "metadata": {},
   "source": [
    "### 2.4.1 Loading the data from notebook 04_data_preparation"
   ]
  },
  {
   "cell_type": "code",
   "execution_count": 4,
   "metadata": {},
   "outputs": [
    {
     "data": {
      "text/html": [
       "<div>\n",
       "<style scoped>\n",
       "    .dataframe tbody tr th:only-of-type {\n",
       "        vertical-align: middle;\n",
       "    }\n",
       "\n",
       "    .dataframe tbody tr th {\n",
       "        vertical-align: top;\n",
       "    }\n",
       "\n",
       "    .dataframe thead th {\n",
       "        text-align: right;\n",
       "    }\n",
       "</style>\n",
       "<table border=\"1\" class=\"dataframe\">\n",
       "  <thead>\n",
       "    <tr style=\"text-align: right;\">\n",
       "      <th></th>\n",
       "      <th>Close_ASML</th>\n",
       "      <th>Close_Carl_Zeiss_Meditec</th>\n",
       "      <th>Close_Lam_Research_Corporation</th>\n",
       "      <th>Close_Tokyo_Electron_Limited</th>\n",
       "      <th>Close_Taiwan_Semiconductor_Manufacturing_Company</th>\n",
       "      <th>Close_Samsung_Electronics</th>\n",
       "      <th>Close_Intel_Corporation</th>\n",
       "      <th>Weekday</th>\n",
       "      <th>Month</th>\n",
       "      <th>Quarter</th>\n",
       "      <th>COVID_Period</th>\n",
       "      <th>Geopolitical_Tension</th>\n",
       "      <th>Trade_Sanctions</th>\n",
       "      <th>Tech_Regulation</th>\n",
       "      <th>New_Product_Launch</th>\n",
       "      <th>Israel_Gaza_Conflict</th>\n",
       "    </tr>\n",
       "    <tr>\n",
       "      <th>Date</th>\n",
       "      <th></th>\n",
       "      <th></th>\n",
       "      <th></th>\n",
       "      <th></th>\n",
       "      <th></th>\n",
       "      <th></th>\n",
       "      <th></th>\n",
       "      <th></th>\n",
       "      <th></th>\n",
       "      <th></th>\n",
       "      <th></th>\n",
       "      <th></th>\n",
       "      <th></th>\n",
       "      <th></th>\n",
       "      <th></th>\n",
       "      <th></th>\n",
       "    </tr>\n",
       "  </thead>\n",
       "  <tbody>\n",
       "    <tr>\n",
       "      <th>2018-01-14</th>\n",
       "      <td>168.662338</td>\n",
       "      <td>60.946629</td>\n",
       "      <td>9.395534</td>\n",
       "      <td>32.766666</td>\n",
       "      <td>34.648258</td>\n",
       "      <td>40654.875000</td>\n",
       "      <td>36.442513</td>\n",
       "      <td>2.0</td>\n",
       "      <td>1.0</td>\n",
       "      <td>1.0</td>\n",
       "      <td>0</td>\n",
       "      <td>0</td>\n",
       "      <td>0</td>\n",
       "      <td>0</td>\n",
       "      <td>0</td>\n",
       "      <td>0</td>\n",
       "    </tr>\n",
       "    <tr>\n",
       "      <th>2018-01-21</th>\n",
       "      <td>185.736526</td>\n",
       "      <td>60.851776</td>\n",
       "      <td>10.062473</td>\n",
       "      <td>34.386667</td>\n",
       "      <td>36.787565</td>\n",
       "      <td>41304.156250</td>\n",
       "      <td>37.303001</td>\n",
       "      <td>2.0</td>\n",
       "      <td>1.0</td>\n",
       "      <td>1.0</td>\n",
       "      <td>0</td>\n",
       "      <td>0</td>\n",
       "      <td>0</td>\n",
       "      <td>0</td>\n",
       "      <td>0</td>\n",
       "      <td>0</td>\n",
       "    </tr>\n",
       "    <tr>\n",
       "      <th>2018-01-28</th>\n",
       "      <td>191.564713</td>\n",
       "      <td>61.373489</td>\n",
       "      <td>10.254886</td>\n",
       "      <td>34.026669</td>\n",
       "      <td>38.356380</td>\n",
       "      <td>41071.078125</td>\n",
       "      <td>38.406937</td>\n",
       "      <td>2.0</td>\n",
       "      <td>1.0</td>\n",
       "      <td>1.0</td>\n",
       "      <td>0</td>\n",
       "      <td>0</td>\n",
       "      <td>0</td>\n",
       "      <td>0</td>\n",
       "      <td>0</td>\n",
       "      <td>0</td>\n",
       "    </tr>\n",
       "    <tr>\n",
       "      <th>2018-02-04</th>\n",
       "      <td>187.825333</td>\n",
       "      <td>61.335548</td>\n",
       "      <td>9.367100</td>\n",
       "      <td>31.420000</td>\n",
       "      <td>38.012417</td>\n",
       "      <td>41470.640625</td>\n",
       "      <td>40.413342</td>\n",
       "      <td>2.0</td>\n",
       "      <td>1.0</td>\n",
       "      <td>1.0</td>\n",
       "      <td>0</td>\n",
       "      <td>0</td>\n",
       "      <td>0</td>\n",
       "      <td>0</td>\n",
       "      <td>0</td>\n",
       "      <td>0</td>\n",
       "    </tr>\n",
       "    <tr>\n",
       "      <th>2018-02-11</th>\n",
       "      <td>174.080200</td>\n",
       "      <td>58.831284</td>\n",
       "      <td>8.350875</td>\n",
       "      <td>28.526667</td>\n",
       "      <td>35.134853</td>\n",
       "      <td>38290.832031</td>\n",
       "      <td>37.374352</td>\n",
       "      <td>2.0</td>\n",
       "      <td>2.0</td>\n",
       "      <td>1.0</td>\n",
       "      <td>0</td>\n",
       "      <td>0</td>\n",
       "      <td>0</td>\n",
       "      <td>0</td>\n",
       "      <td>0</td>\n",
       "      <td>0</td>\n",
       "    </tr>\n",
       "    <tr>\n",
       "      <th>...</th>\n",
       "      <td>...</td>\n",
       "      <td>...</td>\n",
       "      <td>...</td>\n",
       "      <td>...</td>\n",
       "      <td>...</td>\n",
       "      <td>...</td>\n",
       "      <td>...</td>\n",
       "      <td>...</td>\n",
       "      <td>...</td>\n",
       "      <td>...</td>\n",
       "      <td>...</td>\n",
       "      <td>...</td>\n",
       "      <td>...</td>\n",
       "      <td>...</td>\n",
       "      <td>...</td>\n",
       "      <td>...</td>\n",
       "    </tr>\n",
       "    <tr>\n",
       "      <th>2024-10-20</th>\n",
       "      <td>721.570862</td>\n",
       "      <td>67.094002</td>\n",
       "      <td>74.139999</td>\n",
       "      <td>81.540001</td>\n",
       "      <td>192.210007</td>\n",
       "      <td>59500.000000</td>\n",
       "      <td>22.660000</td>\n",
       "      <td>2.0</td>\n",
       "      <td>10.0</td>\n",
       "      <td>4.0</td>\n",
       "      <td>0</td>\n",
       "      <td>1</td>\n",
       "      <td>1</td>\n",
       "      <td>1</td>\n",
       "      <td>1</td>\n",
       "      <td>1</td>\n",
       "    </tr>\n",
       "    <tr>\n",
       "      <th>2024-10-27</th>\n",
       "      <td>710.037903</td>\n",
       "      <td>67.529999</td>\n",
       "      <td>73.000000</td>\n",
       "      <td>76.709999</td>\n",
       "      <td>200.860001</td>\n",
       "      <td>57700.000000</td>\n",
       "      <td>22.400000</td>\n",
       "      <td>2.0</td>\n",
       "      <td>10.0</td>\n",
       "      <td>4.0</td>\n",
       "      <td>0</td>\n",
       "      <td>1</td>\n",
       "      <td>1</td>\n",
       "      <td>1</td>\n",
       "      <td>1</td>\n",
       "      <td>1</td>\n",
       "    </tr>\n",
       "    <tr>\n",
       "      <th>2024-11-03</th>\n",
       "      <td>683.830017</td>\n",
       "      <td>65.550003</td>\n",
       "      <td>75.449997</td>\n",
       "      <td>77.500000</td>\n",
       "      <td>194.479996</td>\n",
       "      <td>59100.000000</td>\n",
       "      <td>22.900000</td>\n",
       "      <td>2.0</td>\n",
       "      <td>10.0</td>\n",
       "      <td>4.0</td>\n",
       "      <td>0</td>\n",
       "      <td>1</td>\n",
       "      <td>1</td>\n",
       "      <td>1</td>\n",
       "      <td>1</td>\n",
       "      <td>1</td>\n",
       "    </tr>\n",
       "    <tr>\n",
       "      <th>2024-11-10</th>\n",
       "      <td>671.159973</td>\n",
       "      <td>62.200001</td>\n",
       "      <td>76.779999</td>\n",
       "      <td>76.449997</td>\n",
       "      <td>195.759995</td>\n",
       "      <td>57300.000000</td>\n",
       "      <td>25.049999</td>\n",
       "      <td>2.0</td>\n",
       "      <td>11.0</td>\n",
       "      <td>4.0</td>\n",
       "      <td>0</td>\n",
       "      <td>1</td>\n",
       "      <td>1</td>\n",
       "      <td>1</td>\n",
       "      <td>1</td>\n",
       "      <td>1</td>\n",
       "    </tr>\n",
       "    <tr>\n",
       "      <th>2024-11-17</th>\n",
       "      <td>673.409973</td>\n",
       "      <td>61.439999</td>\n",
       "      <td>75.244999</td>\n",
       "      <td>73.739998</td>\n",
       "      <td>190.135002</td>\n",
       "      <td>51800.000000</td>\n",
       "      <td>24.975000</td>\n",
       "      <td>1.5</td>\n",
       "      <td>11.0</td>\n",
       "      <td>4.0</td>\n",
       "      <td>0</td>\n",
       "      <td>1</td>\n",
       "      <td>1</td>\n",
       "      <td>1</td>\n",
       "      <td>1</td>\n",
       "      <td>1</td>\n",
       "    </tr>\n",
       "  </tbody>\n",
       "</table>\n",
       "<p>358 rows × 16 columns</p>\n",
       "</div>"
      ],
      "text/plain": [
       "            Close_ASML  Close_Carl_Zeiss_Meditec  \\\n",
       "Date                                               \n",
       "2018-01-14  168.662338                 60.946629   \n",
       "2018-01-21  185.736526                 60.851776   \n",
       "2018-01-28  191.564713                 61.373489   \n",
       "2018-02-04  187.825333                 61.335548   \n",
       "2018-02-11  174.080200                 58.831284   \n",
       "...                ...                       ...   \n",
       "2024-10-20  721.570862                 67.094002   \n",
       "2024-10-27  710.037903                 67.529999   \n",
       "2024-11-03  683.830017                 65.550003   \n",
       "2024-11-10  671.159973                 62.200001   \n",
       "2024-11-17  673.409973                 61.439999   \n",
       "\n",
       "            Close_Lam_Research_Corporation  Close_Tokyo_Electron_Limited  \\\n",
       "Date                                                                       \n",
       "2018-01-14                        9.395534                     32.766666   \n",
       "2018-01-21                       10.062473                     34.386667   \n",
       "2018-01-28                       10.254886                     34.026669   \n",
       "2018-02-04                        9.367100                     31.420000   \n",
       "2018-02-11                        8.350875                     28.526667   \n",
       "...                                    ...                           ...   \n",
       "2024-10-20                       74.139999                     81.540001   \n",
       "2024-10-27                       73.000000                     76.709999   \n",
       "2024-11-03                       75.449997                     77.500000   \n",
       "2024-11-10                       76.779999                     76.449997   \n",
       "2024-11-17                       75.244999                     73.739998   \n",
       "\n",
       "            Close_Taiwan_Semiconductor_Manufacturing_Company  \\\n",
       "Date                                                           \n",
       "2018-01-14                                         34.648258   \n",
       "2018-01-21                                         36.787565   \n",
       "2018-01-28                                         38.356380   \n",
       "2018-02-04                                         38.012417   \n",
       "2018-02-11                                         35.134853   \n",
       "...                                                      ...   \n",
       "2024-10-20                                        192.210007   \n",
       "2024-10-27                                        200.860001   \n",
       "2024-11-03                                        194.479996   \n",
       "2024-11-10                                        195.759995   \n",
       "2024-11-17                                        190.135002   \n",
       "\n",
       "            Close_Samsung_Electronics  Close_Intel_Corporation  Weekday  \\\n",
       "Date                                                                      \n",
       "2018-01-14               40654.875000                36.442513      2.0   \n",
       "2018-01-21               41304.156250                37.303001      2.0   \n",
       "2018-01-28               41071.078125                38.406937      2.0   \n",
       "2018-02-04               41470.640625                40.413342      2.0   \n",
       "2018-02-11               38290.832031                37.374352      2.0   \n",
       "...                               ...                      ...      ...   \n",
       "2024-10-20               59500.000000                22.660000      2.0   \n",
       "2024-10-27               57700.000000                22.400000      2.0   \n",
       "2024-11-03               59100.000000                22.900000      2.0   \n",
       "2024-11-10               57300.000000                25.049999      2.0   \n",
       "2024-11-17               51800.000000                24.975000      1.5   \n",
       "\n",
       "            Month  Quarter  COVID_Period  Geopolitical_Tension  \\\n",
       "Date                                                             \n",
       "2018-01-14    1.0      1.0             0                     0   \n",
       "2018-01-21    1.0      1.0             0                     0   \n",
       "2018-01-28    1.0      1.0             0                     0   \n",
       "2018-02-04    1.0      1.0             0                     0   \n",
       "2018-02-11    2.0      1.0             0                     0   \n",
       "...           ...      ...           ...                   ...   \n",
       "2024-10-20   10.0      4.0             0                     1   \n",
       "2024-10-27   10.0      4.0             0                     1   \n",
       "2024-11-03   10.0      4.0             0                     1   \n",
       "2024-11-10   11.0      4.0             0                     1   \n",
       "2024-11-17   11.0      4.0             0                     1   \n",
       "\n",
       "            Trade_Sanctions  Tech_Regulation  New_Product_Launch  \\\n",
       "Date                                                               \n",
       "2018-01-14                0                0                   0   \n",
       "2018-01-21                0                0                   0   \n",
       "2018-01-28                0                0                   0   \n",
       "2018-02-04                0                0                   0   \n",
       "2018-02-11                0                0                   0   \n",
       "...                     ...              ...                 ...   \n",
       "2024-10-20                1                1                   1   \n",
       "2024-10-27                1                1                   1   \n",
       "2024-11-03                1                1                   1   \n",
       "2024-11-10                1                1                   1   \n",
       "2024-11-17                1                1                   1   \n",
       "\n",
       "            Israel_Gaza_Conflict  \n",
       "Date                              \n",
       "2018-01-14                     0  \n",
       "2018-01-21                     0  \n",
       "2018-01-28                     0  \n",
       "2018-02-04                     0  \n",
       "2018-02-11                     0  \n",
       "...                          ...  \n",
       "2024-10-20                     1  \n",
       "2024-10-27                     1  \n",
       "2024-11-03                     1  \n",
       "2024-11-10                     1  \n",
       "2024-11-17                     1  \n",
       "\n",
       "[358 rows x 16 columns]"
      ]
     },
     "execution_count": 4,
     "metadata": {},
     "output_type": "execute_result"
    }
   ],
   "source": [
    "weekly_data_combination = pd.read_csv(input_data, sep=';')\n",
    "\n",
    "# Ensure the 'Date' column is in datetime format\n",
    "weekly_data_combination['Date'] = pd.to_datetime(weekly_data_combination['Date'])\n",
    "\n",
    "# Set the 'Date' column as the index to make it a DatetimeIndex\n",
    "weekly_data_combination.set_index('Date', inplace=True)\n",
    "\n",
    "# Explicitly set the frequency of the Date index\n",
    "weekly_data_combination = weekly_data_combination.asfreq('W')\n",
    "\n",
    "# Replace spaces with underscores in column names\n",
    "weekly_data_combination.columns = [col.replace(\" \", \"_\") for col in weekly_data_combination.columns]\n",
    "\n",
    "weekly_data_combination"
   ]
  },
  {
   "cell_type": "markdown",
   "metadata": {},
   "source": [
    "### 2.4.2 Loading the best regressors from notebook 05_modelling"
   ]
  },
  {
   "cell_type": "code",
   "execution_count": 5,
   "metadata": {},
   "outputs": [],
   "source": [
    "# Load the best regressors from the JSON file\n",
    "with open(input_regressors_path, 'r') as file:\n",
    "    regressors = json.load(file)\n",
    "\n",
    "regressors = regressors['chosen_regressors']   "
   ]
  },
  {
   "cell_type": "markdown",
   "metadata": {},
   "source": [
    "### 2.4.3 Loading the best parameters "
   ]
  },
  {
   "cell_type": "code",
   "execution_count": 6,
   "metadata": {},
   "outputs": [],
   "source": [
    "# Load the best parameters from the JSON file\n",
    "with open(input_best_params_path, 'r') as file:\n",
    "    best_params = json.load(file)     "
   ]
  },
  {
   "cell_type": "markdown",
   "metadata": {},
   "source": [
    "### 2.4.4 Loading Suppliers Pickles"
   ]
  },
  {
   "cell_type": "code",
   "execution_count": 7,
   "metadata": {},
   "outputs": [
    {
     "name": "stdout",
     "output_type": "stream",
     "text": [
      "Prophet model for Lam_Research_Corporation loaded from models/prophet_asml_supplier_Lam_Research_Corporation.pkl\n",
      "Prophet model for Carl_Zeiss_Meditec loaded from models/prophet_asml_supplier_Carl_Zeiss_Meditec.pkl\n",
      "Prophet model for Tokyo_Electron_Limited loaded from models/prophet_asml_supplier_Tokyo_Electron_Limited.pkl\n"
     ]
    }
   ],
   "source": [
    "# Create an empty dictionary to store the loaded models\n",
    "models_suppliers = {}\n",
    "\n",
    "# Iterate over each supplier in company_tickers to load its model\n",
    "for company in regressors:\n",
    "    if 'Close' in company:\n",
    "        company = company.replace('Close_', '')\n",
    "        # Define the file path to the model pickle file for the current supplier\n",
    "        model_path = f'models/prophet_asml_supplier_{company.replace(\" \", \"_\")}.pkl'\n",
    "        \n",
    "        # Load the model and store it in the dictionary using the supplier's name\n",
    "        models_suppliers[company] = joblib.load(model_path)\n",
    "        print(f'Prophet model for {company} loaded from {model_path}')"
   ]
  },
  {
   "cell_type": "markdown",
   "metadata": {},
   "source": [
    "### 2.4.5 Train the model with new data"
   ]
  },
  {
   "cell_type": "markdown",
   "metadata": {},
   "source": [
    "The prophet model that was trained in notebook 05_modelling, we are going to train it again with all the data without separating between train and test. "
   ]
  },
  {
   "cell_type": "code",
   "execution_count": 8,
   "metadata": {},
   "outputs": [],
   "source": [
    "# Initialize the Prophet model with the loaded best parameters\n",
    "prophet_model = Prophet(\n",
    "    changepoint_prior_scale=best_params['changepoint_prior_scale'],\n",
    "    daily_seasonality=best_params['daily_seasonality'],\n",
    "    seasonality_mode=best_params['seasonality_mode'],\n",
    "    seasonality_prior_scale=best_params['seasonality_prior_scale'],\n",
    "    weekly_seasonality=best_params['weekly_seasonality'],\n",
    "    yearly_seasonality=best_params['yearly_seasonality']\n",
    ")"
   ]
  },
  {
   "cell_type": "markdown",
   "metadata": {},
   "source": [
    "Modify the column names as required by prophet"
   ]
  },
  {
   "cell_type": "code",
   "execution_count": 9,
   "metadata": {},
   "outputs": [],
   "source": [
    "train_data = weekly_data_combination.reset_index(names=\"ds\").rename(columns={'Close_ASML':'y'})"
   ]
  },
  {
   "cell_type": "markdown",
   "metadata": {},
   "source": [
    "Add regressors"
   ]
  },
  {
   "cell_type": "code",
   "execution_count": 10,
   "metadata": {},
   "outputs": [],
   "source": [
    "for regressor in regressors:\n",
    "    prophet_model.add_regressor(regressor)"
   ]
  },
  {
   "cell_type": "markdown",
   "metadata": {},
   "source": [
    "Fit the model"
   ]
  },
  {
   "cell_type": "code",
   "execution_count": 11,
   "metadata": {},
   "outputs": [
    {
     "name": "stderr",
     "output_type": "stream",
     "text": [
      "19:57:56 - cmdstanpy - INFO - Chain [1] start processing\n",
      "19:57:57 - cmdstanpy - INFO - Chain [1] done processing\n"
     ]
    },
    {
     "data": {
      "text/plain": [
       "<prophet.forecaster.Prophet at 0x210fb1ddd60>"
      ]
     },
     "execution_count": 11,
     "metadata": {},
     "output_type": "execute_result"
    }
   ],
   "source": [
    "prophet_model.fit(train_data)"
   ]
  },
  {
   "cell_type": "markdown",
   "metadata": {},
   "source": [
    "### 2.4.6 Building the future dataframe "
   ]
  },
  {
   "cell_type": "code",
   "execution_count": 12,
   "metadata": {},
   "outputs": [
    {
     "name": "stderr",
     "output_type": "stream",
     "text": [
      "C:\\Users\\Usuario\\anaconda3\\envs\\forecastingv2\\Lib\\site-packages\\prophet\\forecaster.py:1854: FutureWarning: 'w' is deprecated and will be removed in a future version, please use 'W' instead.\n",
      "  dates = pd.date_range(\n"
     ]
    },
    {
     "data": {
      "text/html": [
       "<div>\n",
       "<style scoped>\n",
       "    .dataframe tbody tr th:only-of-type {\n",
       "        vertical-align: middle;\n",
       "    }\n",
       "\n",
       "    .dataframe tbody tr th {\n",
       "        vertical-align: top;\n",
       "    }\n",
       "\n",
       "    .dataframe thead th {\n",
       "        text-align: right;\n",
       "    }\n",
       "</style>\n",
       "<table border=\"1\" class=\"dataframe\">\n",
       "  <thead>\n",
       "    <tr style=\"text-align: right;\">\n",
       "      <th></th>\n",
       "      <th>ds</th>\n",
       "    </tr>\n",
       "  </thead>\n",
       "  <tbody>\n",
       "    <tr>\n",
       "      <th>358</th>\n",
       "      <td>2024-11-24</td>\n",
       "    </tr>\n",
       "    <tr>\n",
       "      <th>359</th>\n",
       "      <td>2024-12-01</td>\n",
       "    </tr>\n",
       "  </tbody>\n",
       "</table>\n",
       "</div>"
      ],
      "text/plain": [
       "            ds\n",
       "358 2024-11-24\n",
       "359 2024-12-01"
      ]
     },
     "execution_count": 12,
     "metadata": {},
     "output_type": "execute_result"
    }
   ],
   "source": [
    "future_dataframe = prophet_model.make_future_dataframe(periods=future_weeks, freq='w')[-future_weeks:]\n",
    "future_dataframe"
   ]
  },
  {
   "cell_type": "markdown",
   "metadata": {},
   "source": [
    "Predict the stock of ASML's suppliers using the prophet models of the suppliers that were done in notebook 03_selecting_asml_suppliers"
   ]
  },
  {
   "cell_type": "code",
   "execution_count": 13,
   "metadata": {},
   "outputs": [],
   "source": [
    "# Iterate over each supplier in company_tickers to make predictions\n",
    "for company in regressors:\n",
    "    if 'Close' in company:\n",
    "        company = company.replace('Close_', '')\n",
    "        \n",
    "        # Get the loaded Prophet model for the current supplier from the models_suppliers dictionary\n",
    "        model = models_suppliers[company]\n",
    "\n",
    "        # Generate predictions on the future_dataframe using the model\n",
    "        forecast = model.predict(future_dataframe)\n",
    "\n",
    "        # Select only 'ds' and 'yhat' columns, rename 'yhat' to 'Close_{company}'\n",
    "        forecast = forecast[['ds', 'yhat']].rename(columns={'yhat': f'Close_{company.replace(\" \", \"_\")}'})\n",
    "\n",
    "        # Merge the forecast data with the future_dataframe on the 'ds' column\n",
    "        future_dataframe = future_dataframe.merge(forecast, on='ds', how='left')"
   ]
  },
  {
   "cell_type": "code",
   "execution_count": 14,
   "metadata": {},
   "outputs": [
    {
     "data": {
      "text/html": [
       "<div>\n",
       "<style scoped>\n",
       "    .dataframe tbody tr th:only-of-type {\n",
       "        vertical-align: middle;\n",
       "    }\n",
       "\n",
       "    .dataframe tbody tr th {\n",
       "        vertical-align: top;\n",
       "    }\n",
       "\n",
       "    .dataframe thead th {\n",
       "        text-align: right;\n",
       "    }\n",
       "</style>\n",
       "<table border=\"1\" class=\"dataframe\">\n",
       "  <thead>\n",
       "    <tr style=\"text-align: right;\">\n",
       "      <th></th>\n",
       "      <th>ds</th>\n",
       "      <th>Close_Lam_Research_Corporation</th>\n",
       "      <th>Close_Carl_Zeiss_Meditec</th>\n",
       "      <th>Close_Tokyo_Electron_Limited</th>\n",
       "    </tr>\n",
       "  </thead>\n",
       "  <tbody>\n",
       "    <tr>\n",
       "      <th>0</th>\n",
       "      <td>2024-11-24</td>\n",
       "      <td>70.654978</td>\n",
       "      <td>66.297018</td>\n",
       "      <td>95.774359</td>\n",
       "    </tr>\n",
       "    <tr>\n",
       "      <th>1</th>\n",
       "      <td>2024-12-01</td>\n",
       "      <td>70.828043</td>\n",
       "      <td>66.479516</td>\n",
       "      <td>95.989452</td>\n",
       "    </tr>\n",
       "  </tbody>\n",
       "</table>\n",
       "</div>"
      ],
      "text/plain": [
       "          ds  Close_Lam_Research_Corporation  Close_Carl_Zeiss_Meditec  \\\n",
       "0 2024-11-24                       70.654978                 66.297018   \n",
       "1 2024-12-01                       70.828043                 66.479516   \n",
       "\n",
       "   Close_Tokyo_Electron_Limited  \n",
       "0                     95.774359  \n",
       "1                     95.989452  "
      ]
     },
     "execution_count": 14,
     "metadata": {},
     "output_type": "execute_result"
    }
   ],
   "source": [
    "future_dataframe"
   ]
  },
  {
   "cell_type": "markdown",
   "metadata": {},
   "source": [
    "Let's predict the exogenous variables into the future and add them to the future_dataframe as well "
   ]
  },
  {
   "cell_type": "code",
   "execution_count": 15,
   "metadata": {},
   "outputs": [
    {
     "data": {
      "text/html": [
       "<div>\n",
       "<style scoped>\n",
       "    .dataframe tbody tr th:only-of-type {\n",
       "        vertical-align: middle;\n",
       "    }\n",
       "\n",
       "    .dataframe tbody tr th {\n",
       "        vertical-align: top;\n",
       "    }\n",
       "\n",
       "    .dataframe thead th {\n",
       "        text-align: right;\n",
       "    }\n",
       "</style>\n",
       "<table border=\"1\" class=\"dataframe\">\n",
       "  <thead>\n",
       "    <tr style=\"text-align: right;\">\n",
       "      <th></th>\n",
       "      <th>ds</th>\n",
       "      <th>Close_Lam_Research_Corporation</th>\n",
       "      <th>Close_Carl_Zeiss_Meditec</th>\n",
       "      <th>Close_Tokyo_Electron_Limited</th>\n",
       "      <th>Geopolitical_Tension</th>\n",
       "      <th>Trade_Sanctions</th>\n",
       "    </tr>\n",
       "  </thead>\n",
       "  <tbody>\n",
       "    <tr>\n",
       "      <th>0</th>\n",
       "      <td>2024-11-24</td>\n",
       "      <td>70.654978</td>\n",
       "      <td>66.297018</td>\n",
       "      <td>95.774359</td>\n",
       "      <td>1</td>\n",
       "      <td>1</td>\n",
       "    </tr>\n",
       "    <tr>\n",
       "      <th>1</th>\n",
       "      <td>2024-12-01</td>\n",
       "      <td>70.828043</td>\n",
       "      <td>66.479516</td>\n",
       "      <td>95.989452</td>\n",
       "      <td>1</td>\n",
       "      <td>1</td>\n",
       "    </tr>\n",
       "  </tbody>\n",
       "</table>\n",
       "</div>"
      ],
      "text/plain": [
       "          ds  Close_Lam_Research_Corporation  Close_Carl_Zeiss_Meditec  \\\n",
       "0 2024-11-24                       70.654978                 66.297018   \n",
       "1 2024-12-01                       70.828043                 66.479516   \n",
       "\n",
       "   Close_Tokyo_Electron_Limited  Geopolitical_Tension  Trade_Sanctions  \n",
       "0                     95.774359                     1                1  \n",
       "1                     95.989452                     1                1  "
      ]
     },
     "execution_count": 15,
     "metadata": {},
     "output_type": "execute_result"
    }
   ],
   "source": [
    "# Apply the function to future_dataframe\n",
    "add_exogenous_variables(future_dataframe, regressors)\n",
    "\n",
    "future_dataframe"
   ]
  },
  {
   "cell_type": "markdown",
   "metadata": {},
   "source": [
    "### 2.4.7 Predicting the stock values of ASML "
   ]
  },
  {
   "cell_type": "code",
   "execution_count": 16,
   "metadata": {},
   "outputs": [
    {
     "data": {
      "text/html": [
       "<div>\n",
       "<style scoped>\n",
       "    .dataframe tbody tr th:only-of-type {\n",
       "        vertical-align: middle;\n",
       "    }\n",
       "\n",
       "    .dataframe tbody tr th {\n",
       "        vertical-align: top;\n",
       "    }\n",
       "\n",
       "    .dataframe thead th {\n",
       "        text-align: right;\n",
       "    }\n",
       "</style>\n",
       "<table border=\"1\" class=\"dataframe\">\n",
       "  <thead>\n",
       "    <tr style=\"text-align: right;\">\n",
       "      <th></th>\n",
       "      <th>Close</th>\n",
       "    </tr>\n",
       "    <tr>\n",
       "      <th>ds</th>\n",
       "      <th></th>\n",
       "    </tr>\n",
       "  </thead>\n",
       "  <tbody>\n",
       "    <tr>\n",
       "      <th>2024-11-24</th>\n",
       "      <td>786.557007</td>\n",
       "    </tr>\n",
       "    <tr>\n",
       "      <th>2024-12-01</th>\n",
       "      <td>793.064164</td>\n",
       "    </tr>\n",
       "  </tbody>\n",
       "</table>\n",
       "</div>"
      ],
      "text/plain": [
       "                 Close\n",
       "ds                    \n",
       "2024-11-24  786.557007\n",
       "2024-12-01  793.064164"
      ]
     },
     "execution_count": 16,
     "metadata": {},
     "output_type": "execute_result"
    }
   ],
   "source": [
    "# Generate predictions\n",
    "future_dataframe_ASML_stock = prophet_model.predict(future_dataframe)\n",
    "\n",
    "# Return to the original DataFrame format with 'ds' as index and 'yhat' as 'Close'\n",
    "future_dataframe_ASML_stock = future_dataframe_ASML_stock[['ds', 'yhat']].set_index('ds').rename(columns={'yhat': 'Close'})\n",
    "\n",
    "future_dataframe_ASML_stock"
   ]
  },
  {
   "cell_type": "markdown",
   "metadata": {},
   "source": [
    "Let's do a representation of the results"
   ]
  },
  {
   "cell_type": "code",
   "execution_count": 17,
   "metadata": {},
   "outputs": [
    {
     "data": {
      "text/plain": [
       "(<Figure size 1600x400 with 1 Axes>, <Axes: ylabel='Close_ASML'>)"
      ]
     },
     "execution_count": 17,
     "metadata": {},
     "output_type": "execute_result"
    },
    {
     "data": {
      "image/png": "[encoded data removed]",
      "text/plain": [
       "<Figure size 1600x400 with 1 Axes>"
      ]
     },
     "metadata": {},
     "output_type": "display_data"
    }
   ],
   "source": [
    "# Plot the series with train, test, and predictions from both models\n",
    "plot_series(\n",
    "    weekly_data_combination['Close_ASML'],             # Training data starting from index 500 for better visualization\n",
    "    future_dataframe_ASML_stock,                       # Predictions from the ASML model\n",
    "    labels=[\"past_data\", \"y_pred_asml_stock\"]          # Labels for each line in the plot\n",
    ")"
   ]
  }
 ],
 "metadata": {
  "kernelspec": {
   "display_name": "forecastingv2",
   "language": "python",
   "name": "forecastingv2"
  },
  "language_info": {
   "codemirror_mode": {
    "name": "ipython",
    "version": 3
   },
   "file_extension": ".py",
   "mimetype": "text/x-python",
   "name": "python",
   "nbconvert_exporter": "python",
   "pygments_lexer": "ipython3",
   "version": "3.12.3"
  }
 },
 "nbformat": 4,
 "nbformat_minor": 4
}
