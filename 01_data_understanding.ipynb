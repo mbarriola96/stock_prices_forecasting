{
 "cells": [
  {
   "cell_type": "markdown",
   "metadata": {},
   "source": [
    "# 1. Overview"
   ]
  },
  {
   "cell_type": "code",
   "execution_count": null,
   "metadata": {},
   "outputs": [],
   "source": []
  },
  {
   "cell_type": "markdown",
   "metadata": {},
   "source": [
    "# 2. Data Understanding"
   ]
  },
  {
   "cell_type": "markdown",
   "metadata": {},
   "source": [
    "## 2.1 Data Description"
   ]
  },
  {
   "cell_type": "markdown",
   "metadata": {},
   "source": [
    "## 2.2 Import necessary libraries"
   ]
  },
  {
   "cell_type": "code",
   "execution_count": 1,
   "metadata": {
    "scrolled": true
   },
   "outputs": [],
   "source": [
    "import pandas as pd\n",
    "import yfinance as yf\n",
    "import matplotlib.pyplot as plt \n",
    "import numpy as np\n",
    "\n",
    "from datetime import datetime, timedelta"
   ]
  },
  {
   "cell_type": "markdown",
   "metadata": {},
   "source": [
    "## 2.3 Define Global Variables"
   ]
  },
  {
   "cell_type": "code",
   "execution_count": 2,
   "metadata": {},
   "outputs": [],
   "source": [
    "company_name = 'ASML'  # Replace 'ASML' with any other company ticker (e.g., 'AAPL' for Apple)\n",
    "start_date = '2008-01-01'\n",
    "end_date = datetime.today().strftime(\"%Y-%m-%d\")"
   ]
  },
  {
   "cell_type": "markdown",
   "metadata": {},
   "source": [
    "## 2.4 Functions"
   ]
  },
  {
   "cell_type": "code",
   "execution_count": 3,
   "metadata": {},
   "outputs": [],
   "source": [
    "def get_historical_data(ticker_symbol, start_date, end_date):\n",
    "    \"\"\"\n",
    "    Fetches historical stock data for a given company between specified dates. \n",
    "    Returns a DataFrame containing the historical data.\n",
    "\n",
    "    Input:\n",
    "    - ticker_symbol: The stock ticker of the company (e.g., 'ASML').\n",
    "    - start_date: The start date for the historical data (e.g., '2000-01-01').\n",
    "    - end_date: The end date for the historical data (e.g., '2024-10-05').\n",
    "\n",
    "    Output:\n",
    "    - A pandas DataFrame containing the historical stock data for the specified period.\n",
    "    \"\"\"\n",
    "    # Define the ticker symbol\n",
    "    stock_data = yf.Ticker(ticker_symbol)\n",
    "\n",
    "    # Download historical data between the start and end dates\n",
    "    historical_data = stock_data.history(start=start_date, end=end_date)\n",
    "\n",
    "    # Reset the index to convert 'Date' from an index to a regular column\n",
    "    historical_data.reset_index(inplace=True)\n",
    "\n",
    "    # Return the resulting DataFrame\n",
    "    return historical_data"
   ]
  },
  {
   "cell_type": "code",
   "execution_count": 4,
   "metadata": {},
   "outputs": [],
   "source": [
    "def plot_closing_prices(historical_data, company_name):\n",
    "    \"\"\"\n",
    "    Plots the historical closing prices of a company's stock over time.\n",
    "\n",
    "    Input:\n",
    "    - historical_data: DataFrame containing the stock data with 'Date' and 'Close' columns.\n",
    "    - company_name: The name or ticker of the company to be displayed in the plot title.\n",
    "\n",
    "    Output:\n",
    "    - A line plot of the company's historical closing prices.\n",
    "    \"\"\"\n",
    "    # Convert the 'Date' and 'Close' columns to numpy arrays\n",
    "    dates = np.array(historical_data['Date'])\n",
    "    close_prices = np.array(historical_data['Close'])\n",
    "\n",
    "    # Create the plot for the 'Close' (closing price) column using matplotlib\n",
    "    plt.figure(figsize=(10, 6))  # Set the figure size\n",
    "    plt.plot(dates, close_prices, label='Closing Price', color='blue')\n",
    "\n",
    "    # Add title and axis labels\n",
    "    plt.title(f'Historical Closing Prices of {company_name} between {dates[0]} and {dates[-1]}')\n",
    "    plt.xlabel('Date')\n",
    "    plt.ylabel('Closing Price (USD)')\n",
    "\n",
    "    # Rotate X-axis labels for better readability\n",
    "    plt.xticks(rotation=45)\n",
    "\n",
    "    # Show the legend\n",
    "    plt.legend()\n",
    "\n",
    "    # Adjust layout to prevent overlap of elements\n",
    "    plt.tight_layout()\n",
    "\n",
    "    # Display the plot\n",
    "    plt.show()"
   ]
  },
  {
   "cell_type": "code",
   "execution_count": 5,
   "metadata": {},
   "outputs": [],
   "source": [
    "# Groupby daily, weekly, and monthly\n",
    "def plot_stock_by_period(historical_data, company_name):\n",
    "    \"\"\"\n",
    "    Input: \n",
    "    - historical_data: DataFrame containing stock data with 'Date' and 'Close' columns.\n",
    "    - company_name: String representing the name of the company.\n",
    "\n",
    "    Output: \n",
    "    - Three line plots showing daily, weekly, and monthly average closing prices.\n",
    "    - Prints the count of data points for each group (daily, weekly, and monthly).\n",
    "\n",
    "    Logic: \n",
    "    - The function resamples the stock data by day, week, and month, computes the average closing price, \n",
    "      and generates line plots using Matplotlib for each resampled dataset.\n",
    "    \"\"\"\n",
    "\n",
    "    # Convert 'Date' column to datetime if not already\n",
    "    historical_data['Date'] = pd.to_datetime(historical_data['Date'])\n",
    "\n",
    "    # Set 'Date' as the DataFrame index\n",
    "    historical_data.set_index('Date', inplace=True)\n",
    "\n",
    "    # Group by different periods\n",
    "    daily_data = historical_data.resample('D').median()\n",
    "    weekly_data = historical_data.resample('W').median()\n",
    "    monthly_data = historical_data.resample('M').median()\n",
    "\n",
    "    # Print the number of data points for each period\n",
    "    print(f\"Number of daily data points: {daily_data.shape[0]}\")\n",
    "    print(f\"Number of weekly data points: {weekly_data.shape[0]}\")\n",
    "    print(f\"Number of monthly data points: {monthly_data.shape[0]}\")\n",
    "\n",
    "    # Convert 'Date' and 'Close' columns to NumPy arrays for matplotlib compatibility\n",
    "    daily_dates = daily_data.index.to_numpy()\n",
    "    daily_close_prices = daily_data['Close'].to_numpy()\n",
    "\n",
    "    weekly_dates = weekly_data.index.to_numpy()\n",
    "    weekly_close_prices = weekly_data['Close'].to_numpy()\n",
    "\n",
    "    monthly_dates = monthly_data.index.to_numpy()\n",
    "    monthly_close_prices = monthly_data['Close'].to_numpy()\n",
    "\n",
    "    # Plot daily data\n",
    "    plt.figure(figsize=(10, 6))\n",
    "    plt.plot(daily_dates, daily_close_prices, label='Daily Closing Price', color='blue')\n",
    "    plt.title(f'{company_name} - Daily Closing Prices')\n",
    "    plt.xlabel('Date')\n",
    "    plt.ylabel('Closing Price (USD)')\n",
    "    plt.xticks(rotation=45)\n",
    "    plt.tight_layout()\n",
    "    plt.show()\n",
    "\n",
    "    # Plot weekly data\n",
    "    plt.figure(figsize=(10, 6))\n",
    "    plt.plot(weekly_dates, weekly_close_prices, label='Weekly Closing Price', color='green')\n",
    "    plt.title(f'{company_name} - Weekly Closing Prices')\n",
    "    plt.xlabel('Date')\n",
    "    plt.ylabel('Closing Price (USD)')\n",
    "    plt.xticks(rotation=45)\n",
    "    plt.tight_layout()\n",
    "    plt.show()\n",
    "\n",
    "    # Plot monthly data\n",
    "    plt.figure(figsize=(10, 6))\n",
    "    plt.plot(monthly_dates, monthly_close_prices, label='Monthly Closing Price', color='red')\n",
    "    plt.title(f'{company_name} - Monthly Closing Prices')\n",
    "    plt.xlabel('Date')\n",
    "    plt.ylabel('Closing Price (USD)')\n",
    "    plt.xticks(rotation=45)\n",
    "    plt.tight_layout()\n",
    "    plt.show()"
   ]
  },
  {
   "cell_type": "code",
   "execution_count": 6,
   "metadata": {},
   "outputs": [],
   "source": [
    "def create_daily_date_list(start_date, end_date):\n",
    "    # Parse the start and end dates from string format to datetime objects\n",
    "    start = datetime.strptime(start_date, \"%Y-%m-%d\")\n",
    "    end = datetime.strptime(end_date, \"%Y-%m-%d\")\n",
    "    \n",
    "    # Initialize an empty list to store the dates\n",
    "    date_list = []\n",
    "    \n",
    "    # Generate dates by iterating from start to end date with daily frequency\n",
    "    current_date = start\n",
    "    while current_date <= end:\n",
    "        date_list.append(current_date.strftime(\"%Y-%m-%d\"))  # Append date as a string in 'YYYY-MM-DD' format\n",
    "        current_date += timedelta(days=1)  # Move to the next day\n",
    "\n",
    "    return date_list"
   ]
  },
  {
   "cell_type": "code",
   "execution_count": 7,
   "metadata": {},
   "outputs": [],
   "source": [
    "def plot_stock_with_multiple_boxplots(historical_data, company_name):\n",
    "    \"\"\"\n",
    "    Plots the stock's closing price distribution for weekly, monthly, and quarterly with\n",
    "    multiple boxplots for each period.\n",
    "    \n",
    "    Input:\n",
    "    - historical_data: DataFrame containing stock data with 'Date' and 'Close' columns.\n",
    "    - company_name: String representing the name of the company.\n",
    "    \n",
    "    Output:\n",
    "    - Boxplots for each period (7 for weekly, 12 for monthly, and 4 for quarterly).\n",
    "    \"\"\"\n",
    "\n",
    "    # Ensure 'Date' column is in datetime format\n",
    "    historical_data['Date'] = pd.to_datetime(historical_data['Date'])\n",
    "\n",
    "    # Extract additional time period information\n",
    "    historical_data['Weekday'] = historical_data['Date'].dt.weekday  # Weekday (0=Monday, 6=Sunday)\n",
    "    historical_data['Month'] = historical_data['Date'].dt.month      # Month (1=January, 12=December)\n",
    "    historical_data['Quarter'] = historical_data['Date'].dt.quarter  # Quarter (1 to 4)\n",
    "\n",
    "    # Plot Weekly Data (7 boxplots for each day of the week)\n",
    "    plt.figure(figsize=(12, 8))\n",
    "    historical_data.boxplot(column='Close', by='Weekday', grid=True)\n",
    "    plt.title(f'{company_name} - Weekly Closing Prices (by Weekday)')\n",
    "    plt.suptitle('')\n",
    "    plt.xlabel('Weekday (0=Monday, 6=Sunday)')\n",
    "    plt.ylabel('Closing Price (USD)')\n",
    "    plt.show();\n",
    "\n",
    "    # Plot Monthly Data (12 boxplots for each month)\n",
    "    plt.figure(figsize=(12, 8))\n",
    "    historical_data.boxplot(column='Close', by='Month', grid=True)\n",
    "    plt.title(f'{company_name} - Monthly Closing Prices (by Month)')\n",
    "    plt.suptitle('')\n",
    "    plt.xlabel('Month')\n",
    "    plt.ylabel('Closing Price (USD)')\n",
    "    plt.show();\n",
    "\n",
    "    # Plot Quarterly Data (4 boxplots for each quarter)\n",
    "    plt.figure(figsize=(12, 8))\n",
    "    historical_data.boxplot(column='Close', by='Quarter', grid=True)\n",
    "    plt.title(f'{company_name} - Quarterly Closing Prices (by Quarter)')\n",
    "    plt.suptitle('')\n",
    "    plt.xlabel('Quarter')\n",
    "    plt.ylabel('Closing Price (USD)')\n",
    "    plt.show();\n"
   ]
  },
  {
   "cell_type": "markdown",
   "metadata": {},
   "source": [
    "## 2.5 Code"
   ]
  },
  {
   "cell_type": "markdown",
   "metadata": {},
   "source": [
    "### 2.5.1 Looking at the dataset"
   ]
  },
  {
   "cell_type": "markdown",
   "metadata": {},
   "source": [
    "We are going to load the data using the function get_historical_data"
   ]
  },
  {
   "cell_type": "code",
   "execution_count": 8,
   "metadata": {
    "scrolled": false
   },
   "outputs": [
    {
     "data": {
      "text/html": [
       "<div>\n",
       "<style scoped>\n",
       "    .dataframe tbody tr th:only-of-type {\n",
       "        vertical-align: middle;\n",
       "    }\n",
       "\n",
       "    .dataframe tbody tr th {\n",
       "        vertical-align: top;\n",
       "    }\n",
       "\n",
       "    .dataframe thead th {\n",
       "        text-align: right;\n",
       "    }\n",
       "</style>\n",
       "<table border=\"1\" class=\"dataframe\">\n",
       "  <thead>\n",
       "    <tr style=\"text-align: right;\">\n",
       "      <th></th>\n",
       "      <th>Date</th>\n",
       "      <th>Open</th>\n",
       "      <th>High</th>\n",
       "      <th>Low</th>\n",
       "      <th>Close</th>\n",
       "      <th>Volume</th>\n",
       "      <th>Dividends</th>\n",
       "      <th>Stock Splits</th>\n",
       "    </tr>\n",
       "  </thead>\n",
       "  <tbody>\n",
       "    <tr>\n",
       "      <th>0</th>\n",
       "      <td>2008-01-02</td>\n",
       "      <td>21.000087</td>\n",
       "      <td>21.006773</td>\n",
       "      <td>20.344880</td>\n",
       "      <td>20.371622</td>\n",
       "      <td>4199000</td>\n",
       "      <td>0.0</td>\n",
       "      <td>0.0</td>\n",
       "    </tr>\n",
       "    <tr>\n",
       "      <th>1</th>\n",
       "      <td>2008-01-03</td>\n",
       "      <td>20.257966</td>\n",
       "      <td>20.311452</td>\n",
       "      <td>20.017278</td>\n",
       "      <td>20.023964</td>\n",
       "      <td>3654000</td>\n",
       "      <td>0.0</td>\n",
       "      <td>0.0</td>\n",
       "    </tr>\n",
       "    <tr>\n",
       "      <th>2</th>\n",
       "      <td>2008-01-04</td>\n",
       "      <td>20.070769</td>\n",
       "      <td>20.077455</td>\n",
       "      <td>18.820524</td>\n",
       "      <td>18.874010</td>\n",
       "      <td>5865500</td>\n",
       "      <td>0.0</td>\n",
       "      <td>0.0</td>\n",
       "    </tr>\n",
       "    <tr>\n",
       "      <th>3</th>\n",
       "      <td>2008-01-07</td>\n",
       "      <td>18.593200</td>\n",
       "      <td>18.867317</td>\n",
       "      <td>18.492913</td>\n",
       "      <td>18.833889</td>\n",
       "      <td>4602400</td>\n",
       "      <td>0.0</td>\n",
       "      <td>0.0</td>\n",
       "    </tr>\n",
       "    <tr>\n",
       "      <th>4</th>\n",
       "      <td>2008-01-08</td>\n",
       "      <td>19.114694</td>\n",
       "      <td>19.315267</td>\n",
       "      <td>18.573144</td>\n",
       "      <td>18.626631</td>\n",
       "      <td>2241400</td>\n",
       "      <td>0.0</td>\n",
       "      <td>0.0</td>\n",
       "    </tr>\n",
       "    <tr>\n",
       "      <th>...</th>\n",
       "      <td>...</td>\n",
       "      <td>...</td>\n",
       "      <td>...</td>\n",
       "      <td>...</td>\n",
       "      <td>...</td>\n",
       "      <td>...</td>\n",
       "      <td>...</td>\n",
       "      <td>...</td>\n",
       "    </tr>\n",
       "    <tr>\n",
       "      <th>4219</th>\n",
       "      <td>2024-10-07</td>\n",
       "      <td>811.719971</td>\n",
       "      <td>823.000000</td>\n",
       "      <td>811.010010</td>\n",
       "      <td>817.250000</td>\n",
       "      <td>898200</td>\n",
       "      <td>0.0</td>\n",
       "      <td>0.0</td>\n",
       "    </tr>\n",
       "    <tr>\n",
       "      <th>4220</th>\n",
       "      <td>2024-10-08</td>\n",
       "      <td>822.500000</td>\n",
       "      <td>830.830017</td>\n",
       "      <td>820.070007</td>\n",
       "      <td>824.260010</td>\n",
       "      <td>1265900</td>\n",
       "      <td>0.0</td>\n",
       "      <td>0.0</td>\n",
       "    </tr>\n",
       "    <tr>\n",
       "      <th>4221</th>\n",
       "      <td>2024-10-09</td>\n",
       "      <td>829.830017</td>\n",
       "      <td>846.119995</td>\n",
       "      <td>826.369995</td>\n",
       "      <td>845.900024</td>\n",
       "      <td>1004900</td>\n",
       "      <td>0.0</td>\n",
       "      <td>0.0</td>\n",
       "    </tr>\n",
       "    <tr>\n",
       "      <th>4222</th>\n",
       "      <td>2024-10-10</td>\n",
       "      <td>825.000000</td>\n",
       "      <td>835.630005</td>\n",
       "      <td>821.500000</td>\n",
       "      <td>833.969971</td>\n",
       "      <td>876300</td>\n",
       "      <td>0.0</td>\n",
       "      <td>0.0</td>\n",
       "    </tr>\n",
       "    <tr>\n",
       "      <th>4223</th>\n",
       "      <td>2024-10-11</td>\n",
       "      <td>829.919983</td>\n",
       "      <td>845.000000</td>\n",
       "      <td>828.409973</td>\n",
       "      <td>840.690002</td>\n",
       "      <td>964700</td>\n",
       "      <td>0.0</td>\n",
       "      <td>0.0</td>\n",
       "    </tr>\n",
       "  </tbody>\n",
       "</table>\n",
       "<p>4224 rows × 8 columns</p>\n",
       "</div>"
      ],
      "text/plain": [
       "            Date        Open        High         Low       Close   Volume  \\\n",
       "0     2008-01-02   21.000087   21.006773   20.344880   20.371622  4199000   \n",
       "1     2008-01-03   20.257966   20.311452   20.017278   20.023964  3654000   \n",
       "2     2008-01-04   20.070769   20.077455   18.820524   18.874010  5865500   \n",
       "3     2008-01-07   18.593200   18.867317   18.492913   18.833889  4602400   \n",
       "4     2008-01-08   19.114694   19.315267   18.573144   18.626631  2241400   \n",
       "...          ...         ...         ...         ...         ...      ...   \n",
       "4219  2024-10-07  811.719971  823.000000  811.010010  817.250000   898200   \n",
       "4220  2024-10-08  822.500000  830.830017  820.070007  824.260010  1265900   \n",
       "4221  2024-10-09  829.830017  846.119995  826.369995  845.900024  1004900   \n",
       "4222  2024-10-10  825.000000  835.630005  821.500000  833.969971   876300   \n",
       "4223  2024-10-11  829.919983  845.000000  828.409973  840.690002   964700   \n",
       "\n",
       "      Dividends  Stock Splits  \n",
       "0           0.0           0.0  \n",
       "1           0.0           0.0  \n",
       "2           0.0           0.0  \n",
       "3           0.0           0.0  \n",
       "4           0.0           0.0  \n",
       "...         ...           ...  \n",
       "4219        0.0           0.0  \n",
       "4220        0.0           0.0  \n",
       "4221        0.0           0.0  \n",
       "4222        0.0           0.0  \n",
       "4223        0.0           0.0  \n",
       "\n",
       "[4224 rows x 8 columns]"
      ]
     },
     "execution_count": 8,
     "metadata": {},
     "output_type": "execute_result"
    }
   ],
   "source": [
    "# Call the function get_historical_data\n",
    "historical_data = get_historical_data(company_name, start_date, end_date)\n",
    "\n",
    "# Convert 'Date' column to datetime format and keep only the date (without time)\n",
    "historical_data['Date'] = pd.to_datetime(historical_data['Date']).dt.date\n",
    "\n",
    "historical_data"
   ]
  },
  {
   "cell_type": "markdown",
   "metadata": {},
   "source": [
    "Now let's plot the stock data"
   ]
  },
  {
   "cell_type": "code",
   "execution_count": 9,
   "metadata": {
    "scrolled": false
   },
   "outputs": [
    {
     "data": {
      "image/png": "[encoded data removed]",
      "text/plain": [
       "<Figure size 720x432 with 1 Axes>"
      ]
     },
     "metadata": {
      "needs_background": "light"
     },
     "output_type": "display_data"
    }
   ],
   "source": [
    "plot_closing_prices(historical_data, company_name)"
   ]
  },
  {
   "cell_type": "markdown",
   "metadata": {},
   "source": [
    "### 2.5.2 Checking for duplicate values"
   ]
  },
  {
   "cell_type": "code",
   "execution_count": 10,
   "metadata": {},
   "outputs": [
    {
     "data": {
      "text/plain": [
       "0"
      ]
     },
     "execution_count": 10,
     "metadata": {},
     "output_type": "execute_result"
    }
   ],
   "source": [
    "historical_data.duplicated().sum()"
   ]
  },
  {
   "cell_type": "markdown",
   "metadata": {},
   "source": [
    "There is no duplicated values. So we can continue"
   ]
  },
  {
   "cell_type": "markdown",
   "metadata": {},
   "source": [
    "### 2.5.3 Checking for missing dates"
   ]
  },
  {
   "cell_type": "code",
   "execution_count": 11,
   "metadata": {},
   "outputs": [
    {
     "data": {
      "text/plain": [
       "Date            0.0\n",
       "Open            0.0\n",
       "High            0.0\n",
       "Low             0.0\n",
       "Close           0.0\n",
       "Volume          0.0\n",
       "Dividends       0.0\n",
       "Stock Splits    0.0\n",
       "dtype: float64"
      ]
     },
     "execution_count": 11,
     "metadata": {},
     "output_type": "execute_result"
    }
   ],
   "source": [
    "(historical_data.isna().sum()/len(historical_data))*100"
   ]
  },
  {
   "cell_type": "markdown",
   "metadata": {},
   "source": [
    "As we can see there aren't any null values"
   ]
  },
  {
   "cell_type": "markdown",
   "metadata": {},
   "source": [
    "Let's check the dates of the data"
   ]
  },
  {
   "cell_type": "code",
   "execution_count": 12,
   "metadata": {},
   "outputs": [
    {
     "data": {
      "text/html": [
       "<div>\n",
       "<style scoped>\n",
       "    .dataframe tbody tr th:only-of-type {\n",
       "        vertical-align: middle;\n",
       "    }\n",
       "\n",
       "    .dataframe tbody tr th {\n",
       "        vertical-align: top;\n",
       "    }\n",
       "\n",
       "    .dataframe thead th {\n",
       "        text-align: right;\n",
       "    }\n",
       "</style>\n",
       "<table border=\"1\" class=\"dataframe\">\n",
       "  <thead>\n",
       "    <tr style=\"text-align: right;\">\n",
       "      <th></th>\n",
       "      <th>Date</th>\n",
       "    </tr>\n",
       "  </thead>\n",
       "  <tbody>\n",
       "    <tr>\n",
       "      <th>0</th>\n",
       "      <td>2008-01-01</td>\n",
       "    </tr>\n",
       "    <tr>\n",
       "      <th>1</th>\n",
       "      <td>2008-01-02</td>\n",
       "    </tr>\n",
       "    <tr>\n",
       "      <th>2</th>\n",
       "      <td>2008-01-03</td>\n",
       "    </tr>\n",
       "    <tr>\n",
       "      <th>3</th>\n",
       "      <td>2008-01-04</td>\n",
       "    </tr>\n",
       "    <tr>\n",
       "      <th>4</th>\n",
       "      <td>2008-01-05</td>\n",
       "    </tr>\n",
       "    <tr>\n",
       "      <th>...</th>\n",
       "      <td>...</td>\n",
       "    </tr>\n",
       "    <tr>\n",
       "      <th>6126</th>\n",
       "      <td>2024-10-09</td>\n",
       "    </tr>\n",
       "    <tr>\n",
       "      <th>6127</th>\n",
       "      <td>2024-10-10</td>\n",
       "    </tr>\n",
       "    <tr>\n",
       "      <th>6128</th>\n",
       "      <td>2024-10-11</td>\n",
       "    </tr>\n",
       "    <tr>\n",
       "      <th>6129</th>\n",
       "      <td>2024-10-12</td>\n",
       "    </tr>\n",
       "    <tr>\n",
       "      <th>6130</th>\n",
       "      <td>2024-10-13</td>\n",
       "    </tr>\n",
       "  </tbody>\n",
       "</table>\n",
       "<p>6131 rows × 1 columns</p>\n",
       "</div>"
      ],
      "text/plain": [
       "            Date\n",
       "0     2008-01-01\n",
       "1     2008-01-02\n",
       "2     2008-01-03\n",
       "3     2008-01-04\n",
       "4     2008-01-05\n",
       "...          ...\n",
       "6126  2024-10-09\n",
       "6127  2024-10-10\n",
       "6128  2024-10-11\n",
       "6129  2024-10-12\n",
       "6130  2024-10-13\n",
       "\n",
       "[6131 rows x 1 columns]"
      ]
     },
     "execution_count": 12,
     "metadata": {},
     "output_type": "execute_result"
    }
   ],
   "source": [
    "dates = create_daily_date_list(start_date, end_date)\n",
    "\n",
    "date_range = pd.DataFrame(dates, columns=[\"Date\"]) \n",
    "\n",
    "date_range"
   ]
  },
  {
   "cell_type": "code",
   "execution_count": 13,
   "metadata": {
    "scrolled": false
   },
   "outputs": [
    {
     "data": {
      "text/html": [
       "<div>\n",
       "<style scoped>\n",
       "    .dataframe tbody tr th:only-of-type {\n",
       "        vertical-align: middle;\n",
       "    }\n",
       "\n",
       "    .dataframe tbody tr th {\n",
       "        vertical-align: top;\n",
       "    }\n",
       "\n",
       "    .dataframe thead th {\n",
       "        text-align: right;\n",
       "    }\n",
       "</style>\n",
       "<table border=\"1\" class=\"dataframe\">\n",
       "  <thead>\n",
       "    <tr style=\"text-align: right;\">\n",
       "      <th></th>\n",
       "      <th>Date</th>\n",
       "      <th>Open</th>\n",
       "      <th>High</th>\n",
       "      <th>Low</th>\n",
       "      <th>Close</th>\n",
       "      <th>Volume</th>\n",
       "      <th>Dividends</th>\n",
       "      <th>Stock Splits</th>\n",
       "    </tr>\n",
       "  </thead>\n",
       "  <tbody>\n",
       "    <tr>\n",
       "      <th>0</th>\n",
       "      <td>2008-01-01</td>\n",
       "      <td>NaN</td>\n",
       "      <td>NaN</td>\n",
       "      <td>NaN</td>\n",
       "      <td>NaN</td>\n",
       "      <td>NaN</td>\n",
       "      <td>NaN</td>\n",
       "      <td>NaN</td>\n",
       "    </tr>\n",
       "    <tr>\n",
       "      <th>1</th>\n",
       "      <td>2008-01-02</td>\n",
       "      <td>21.000087</td>\n",
       "      <td>21.006773</td>\n",
       "      <td>20.344880</td>\n",
       "      <td>20.371622</td>\n",
       "      <td>4199000.0</td>\n",
       "      <td>0.0</td>\n",
       "      <td>0.0</td>\n",
       "    </tr>\n",
       "    <tr>\n",
       "      <th>2</th>\n",
       "      <td>2008-01-03</td>\n",
       "      <td>20.257966</td>\n",
       "      <td>20.311452</td>\n",
       "      <td>20.017278</td>\n",
       "      <td>20.023964</td>\n",
       "      <td>3654000.0</td>\n",
       "      <td>0.0</td>\n",
       "      <td>0.0</td>\n",
       "    </tr>\n",
       "    <tr>\n",
       "      <th>3</th>\n",
       "      <td>2008-01-04</td>\n",
       "      <td>20.070769</td>\n",
       "      <td>20.077455</td>\n",
       "      <td>18.820524</td>\n",
       "      <td>18.874010</td>\n",
       "      <td>5865500.0</td>\n",
       "      <td>0.0</td>\n",
       "      <td>0.0</td>\n",
       "    </tr>\n",
       "    <tr>\n",
       "      <th>4</th>\n",
       "      <td>2008-01-05</td>\n",
       "      <td>NaN</td>\n",
       "      <td>NaN</td>\n",
       "      <td>NaN</td>\n",
       "      <td>NaN</td>\n",
       "      <td>NaN</td>\n",
       "      <td>NaN</td>\n",
       "      <td>NaN</td>\n",
       "    </tr>\n",
       "    <tr>\n",
       "      <th>...</th>\n",
       "      <td>...</td>\n",
       "      <td>...</td>\n",
       "      <td>...</td>\n",
       "      <td>...</td>\n",
       "      <td>...</td>\n",
       "      <td>...</td>\n",
       "      <td>...</td>\n",
       "      <td>...</td>\n",
       "    </tr>\n",
       "    <tr>\n",
       "      <th>6126</th>\n",
       "      <td>2024-10-09</td>\n",
       "      <td>829.830017</td>\n",
       "      <td>846.119995</td>\n",
       "      <td>826.369995</td>\n",
       "      <td>845.900024</td>\n",
       "      <td>1004900.0</td>\n",
       "      <td>0.0</td>\n",
       "      <td>0.0</td>\n",
       "    </tr>\n",
       "    <tr>\n",
       "      <th>6127</th>\n",
       "      <td>2024-10-10</td>\n",
       "      <td>825.000000</td>\n",
       "      <td>835.630005</td>\n",
       "      <td>821.500000</td>\n",
       "      <td>833.969971</td>\n",
       "      <td>876300.0</td>\n",
       "      <td>0.0</td>\n",
       "      <td>0.0</td>\n",
       "    </tr>\n",
       "    <tr>\n",
       "      <th>6128</th>\n",
       "      <td>2024-10-11</td>\n",
       "      <td>829.919983</td>\n",
       "      <td>845.000000</td>\n",
       "      <td>828.409973</td>\n",
       "      <td>840.690002</td>\n",
       "      <td>964700.0</td>\n",
       "      <td>0.0</td>\n",
       "      <td>0.0</td>\n",
       "    </tr>\n",
       "    <tr>\n",
       "      <th>6129</th>\n",
       "      <td>2024-10-12</td>\n",
       "      <td>NaN</td>\n",
       "      <td>NaN</td>\n",
       "      <td>NaN</td>\n",
       "      <td>NaN</td>\n",
       "      <td>NaN</td>\n",
       "      <td>NaN</td>\n",
       "      <td>NaN</td>\n",
       "    </tr>\n",
       "    <tr>\n",
       "      <th>6130</th>\n",
       "      <td>2024-10-13</td>\n",
       "      <td>NaN</td>\n",
       "      <td>NaN</td>\n",
       "      <td>NaN</td>\n",
       "      <td>NaN</td>\n",
       "      <td>NaN</td>\n",
       "      <td>NaN</td>\n",
       "      <td>NaN</td>\n",
       "    </tr>\n",
       "  </tbody>\n",
       "</table>\n",
       "<p>6131 rows × 8 columns</p>\n",
       "</div>"
      ],
      "text/plain": [
       "            Date        Open        High         Low       Close     Volume  \\\n",
       "0     2008-01-01         NaN         NaN         NaN         NaN        NaN   \n",
       "1     2008-01-02   21.000087   21.006773   20.344880   20.371622  4199000.0   \n",
       "2     2008-01-03   20.257966   20.311452   20.017278   20.023964  3654000.0   \n",
       "3     2008-01-04   20.070769   20.077455   18.820524   18.874010  5865500.0   \n",
       "4     2008-01-05         NaN         NaN         NaN         NaN        NaN   \n",
       "...          ...         ...         ...         ...         ...        ...   \n",
       "6126  2024-10-09  829.830017  846.119995  826.369995  845.900024  1004900.0   \n",
       "6127  2024-10-10  825.000000  835.630005  821.500000  833.969971   876300.0   \n",
       "6128  2024-10-11  829.919983  845.000000  828.409973  840.690002   964700.0   \n",
       "6129  2024-10-12         NaN         NaN         NaN         NaN        NaN   \n",
       "6130  2024-10-13         NaN         NaN         NaN         NaN        NaN   \n",
       "\n",
       "      Dividends  Stock Splits  \n",
       "0           NaN           NaN  \n",
       "1           0.0           0.0  \n",
       "2           0.0           0.0  \n",
       "3           0.0           0.0  \n",
       "4           NaN           NaN  \n",
       "...         ...           ...  \n",
       "6126        0.0           0.0  \n",
       "6127        0.0           0.0  \n",
       "6128        0.0           0.0  \n",
       "6129        NaN           NaN  \n",
       "6130        NaN           NaN  \n",
       "\n",
       "[6131 rows x 8 columns]"
      ]
     },
     "execution_count": 13,
     "metadata": {},
     "output_type": "execute_result"
    }
   ],
   "source": [
    "# Ensure the 'Date' columns in both DataFrames are in datetime format for merging\n",
    "historical_data['Date'] = pd.to_datetime(historical_data['Date']).dt.date\n",
    "date_range['Date'] = pd.to_datetime(date_range['Date']).dt.date\n",
    "\n",
    "# Perform the merge on the 'Date' column\n",
    "merged_data = pd.merge(date_range, historical_data, on='Date', how='left')\n",
    "\n",
    "merged_data"
   ]
  },
  {
   "cell_type": "markdown",
   "metadata": {},
   "source": [
    "We can see that there are null values because these are weekend dates. We are going to fill these null values doing a forward fill."
   ]
  },
  {
   "cell_type": "code",
   "execution_count": 14,
   "metadata": {},
   "outputs": [
    {
     "data": {
      "text/html": [
       "<div>\n",
       "<style scoped>\n",
       "    .dataframe tbody tr th:only-of-type {\n",
       "        vertical-align: middle;\n",
       "    }\n",
       "\n",
       "    .dataframe tbody tr th {\n",
       "        vertical-align: top;\n",
       "    }\n",
       "\n",
       "    .dataframe thead th {\n",
       "        text-align: right;\n",
       "    }\n",
       "</style>\n",
       "<table border=\"1\" class=\"dataframe\">\n",
       "  <thead>\n",
       "    <tr style=\"text-align: right;\">\n",
       "      <th></th>\n",
       "      <th>Date</th>\n",
       "      <th>Open</th>\n",
       "      <th>High</th>\n",
       "      <th>Low</th>\n",
       "      <th>Close</th>\n",
       "      <th>Volume</th>\n",
       "      <th>Dividends</th>\n",
       "      <th>Stock Splits</th>\n",
       "    </tr>\n",
       "  </thead>\n",
       "  <tbody>\n",
       "    <tr>\n",
       "      <th>0</th>\n",
       "      <td>2008-01-02</td>\n",
       "      <td>21.000087</td>\n",
       "      <td>21.006773</td>\n",
       "      <td>20.344880</td>\n",
       "      <td>20.371622</td>\n",
       "      <td>4199000.0</td>\n",
       "      <td>0.0</td>\n",
       "      <td>0.0</td>\n",
       "    </tr>\n",
       "    <tr>\n",
       "      <th>1</th>\n",
       "      <td>2008-01-03</td>\n",
       "      <td>20.257966</td>\n",
       "      <td>20.311452</td>\n",
       "      <td>20.017278</td>\n",
       "      <td>20.023964</td>\n",
       "      <td>3654000.0</td>\n",
       "      <td>0.0</td>\n",
       "      <td>0.0</td>\n",
       "    </tr>\n",
       "    <tr>\n",
       "      <th>2</th>\n",
       "      <td>2008-01-04</td>\n",
       "      <td>20.070769</td>\n",
       "      <td>20.077455</td>\n",
       "      <td>18.820524</td>\n",
       "      <td>18.874010</td>\n",
       "      <td>5865500.0</td>\n",
       "      <td>0.0</td>\n",
       "      <td>0.0</td>\n",
       "    </tr>\n",
       "    <tr>\n",
       "      <th>3</th>\n",
       "      <td>2008-01-05</td>\n",
       "      <td>20.070769</td>\n",
       "      <td>20.077455</td>\n",
       "      <td>18.820524</td>\n",
       "      <td>18.874010</td>\n",
       "      <td>5865500.0</td>\n",
       "      <td>0.0</td>\n",
       "      <td>0.0</td>\n",
       "    </tr>\n",
       "    <tr>\n",
       "      <th>4</th>\n",
       "      <td>2008-01-06</td>\n",
       "      <td>20.070769</td>\n",
       "      <td>20.077455</td>\n",
       "      <td>18.820524</td>\n",
       "      <td>18.874010</td>\n",
       "      <td>5865500.0</td>\n",
       "      <td>0.0</td>\n",
       "      <td>0.0</td>\n",
       "    </tr>\n",
       "    <tr>\n",
       "      <th>...</th>\n",
       "      <td>...</td>\n",
       "      <td>...</td>\n",
       "      <td>...</td>\n",
       "      <td>...</td>\n",
       "      <td>...</td>\n",
       "      <td>...</td>\n",
       "      <td>...</td>\n",
       "      <td>...</td>\n",
       "    </tr>\n",
       "    <tr>\n",
       "      <th>6125</th>\n",
       "      <td>2024-10-09</td>\n",
       "      <td>829.830017</td>\n",
       "      <td>846.119995</td>\n",
       "      <td>826.369995</td>\n",
       "      <td>845.900024</td>\n",
       "      <td>1004900.0</td>\n",
       "      <td>0.0</td>\n",
       "      <td>0.0</td>\n",
       "    </tr>\n",
       "    <tr>\n",
       "      <th>6126</th>\n",
       "      <td>2024-10-10</td>\n",
       "      <td>825.000000</td>\n",
       "      <td>835.630005</td>\n",
       "      <td>821.500000</td>\n",
       "      <td>833.969971</td>\n",
       "      <td>876300.0</td>\n",
       "      <td>0.0</td>\n",
       "      <td>0.0</td>\n",
       "    </tr>\n",
       "    <tr>\n",
       "      <th>6127</th>\n",
       "      <td>2024-10-11</td>\n",
       "      <td>829.919983</td>\n",
       "      <td>845.000000</td>\n",
       "      <td>828.409973</td>\n",
       "      <td>840.690002</td>\n",
       "      <td>964700.0</td>\n",
       "      <td>0.0</td>\n",
       "      <td>0.0</td>\n",
       "    </tr>\n",
       "    <tr>\n",
       "      <th>6128</th>\n",
       "      <td>2024-10-12</td>\n",
       "      <td>829.919983</td>\n",
       "      <td>845.000000</td>\n",
       "      <td>828.409973</td>\n",
       "      <td>840.690002</td>\n",
       "      <td>964700.0</td>\n",
       "      <td>0.0</td>\n",
       "      <td>0.0</td>\n",
       "    </tr>\n",
       "    <tr>\n",
       "      <th>6129</th>\n",
       "      <td>2024-10-13</td>\n",
       "      <td>829.919983</td>\n",
       "      <td>845.000000</td>\n",
       "      <td>828.409973</td>\n",
       "      <td>840.690002</td>\n",
       "      <td>964700.0</td>\n",
       "      <td>0.0</td>\n",
       "      <td>0.0</td>\n",
       "    </tr>\n",
       "  </tbody>\n",
       "</table>\n",
       "<p>6130 rows × 8 columns</p>\n",
       "</div>"
      ],
      "text/plain": [
       "            Date        Open        High         Low       Close     Volume  \\\n",
       "0     2008-01-02   21.000087   21.006773   20.344880   20.371622  4199000.0   \n",
       "1     2008-01-03   20.257966   20.311452   20.017278   20.023964  3654000.0   \n",
       "2     2008-01-04   20.070769   20.077455   18.820524   18.874010  5865500.0   \n",
       "3     2008-01-05   20.070769   20.077455   18.820524   18.874010  5865500.0   \n",
       "4     2008-01-06   20.070769   20.077455   18.820524   18.874010  5865500.0   \n",
       "...          ...         ...         ...         ...         ...        ...   \n",
       "6125  2024-10-09  829.830017  846.119995  826.369995  845.900024  1004900.0   \n",
       "6126  2024-10-10  825.000000  835.630005  821.500000  833.969971   876300.0   \n",
       "6127  2024-10-11  829.919983  845.000000  828.409973  840.690002   964700.0   \n",
       "6128  2024-10-12  829.919983  845.000000  828.409973  840.690002   964700.0   \n",
       "6129  2024-10-13  829.919983  845.000000  828.409973  840.690002   964700.0   \n",
       "\n",
       "      Dividends  Stock Splits  \n",
       "0           0.0           0.0  \n",
       "1           0.0           0.0  \n",
       "2           0.0           0.0  \n",
       "3           0.0           0.0  \n",
       "4           0.0           0.0  \n",
       "...         ...           ...  \n",
       "6125        0.0           0.0  \n",
       "6126        0.0           0.0  \n",
       "6127        0.0           0.0  \n",
       "6128        0.0           0.0  \n",
       "6129        0.0           0.0  \n",
       "\n",
       "[6130 rows x 8 columns]"
      ]
     },
     "execution_count": 14,
     "metadata": {},
     "output_type": "execute_result"
    }
   ],
   "source": [
    "# Perform a forward fill to fill NaN values with the previous valid value\n",
    "historical_data_complete = merged_data.fillna(method='ffill')\n",
    "\n",
    "# Drop rows with NaN\n",
    "historical_data_complete = historical_data_complete.dropna().reset_index(drop=True)\n",
    "\n",
    "# Display the forward-filled DataFrame\n",
    "historical_data_complete"
   ]
  },
  {
   "cell_type": "markdown",
   "metadata": {},
   "source": [
    "We will just keep columns: Data and Close"
   ]
  },
  {
   "cell_type": "code",
   "execution_count": 15,
   "metadata": {},
   "outputs": [
    {
     "data": {
      "text/html": [
       "<div>\n",
       "<style scoped>\n",
       "    .dataframe tbody tr th:only-of-type {\n",
       "        vertical-align: middle;\n",
       "    }\n",
       "\n",
       "    .dataframe tbody tr th {\n",
       "        vertical-align: top;\n",
       "    }\n",
       "\n",
       "    .dataframe thead th {\n",
       "        text-align: right;\n",
       "    }\n",
       "</style>\n",
       "<table border=\"1\" class=\"dataframe\">\n",
       "  <thead>\n",
       "    <tr style=\"text-align: right;\">\n",
       "      <th></th>\n",
       "      <th>Date</th>\n",
       "      <th>Close</th>\n",
       "    </tr>\n",
       "  </thead>\n",
       "  <tbody>\n",
       "    <tr>\n",
       "      <th>0</th>\n",
       "      <td>2008-01-02</td>\n",
       "      <td>20.371622</td>\n",
       "    </tr>\n",
       "    <tr>\n",
       "      <th>1</th>\n",
       "      <td>2008-01-03</td>\n",
       "      <td>20.023964</td>\n",
       "    </tr>\n",
       "    <tr>\n",
       "      <th>2</th>\n",
       "      <td>2008-01-04</td>\n",
       "      <td>18.874010</td>\n",
       "    </tr>\n",
       "    <tr>\n",
       "      <th>3</th>\n",
       "      <td>2008-01-05</td>\n",
       "      <td>18.874010</td>\n",
       "    </tr>\n",
       "    <tr>\n",
       "      <th>4</th>\n",
       "      <td>2008-01-06</td>\n",
       "      <td>18.874010</td>\n",
       "    </tr>\n",
       "    <tr>\n",
       "      <th>...</th>\n",
       "      <td>...</td>\n",
       "      <td>...</td>\n",
       "    </tr>\n",
       "    <tr>\n",
       "      <th>6125</th>\n",
       "      <td>2024-10-09</td>\n",
       "      <td>845.900024</td>\n",
       "    </tr>\n",
       "    <tr>\n",
       "      <th>6126</th>\n",
       "      <td>2024-10-10</td>\n",
       "      <td>833.969971</td>\n",
       "    </tr>\n",
       "    <tr>\n",
       "      <th>6127</th>\n",
       "      <td>2024-10-11</td>\n",
       "      <td>840.690002</td>\n",
       "    </tr>\n",
       "    <tr>\n",
       "      <th>6128</th>\n",
       "      <td>2024-10-12</td>\n",
       "      <td>840.690002</td>\n",
       "    </tr>\n",
       "    <tr>\n",
       "      <th>6129</th>\n",
       "      <td>2024-10-13</td>\n",
       "      <td>840.690002</td>\n",
       "    </tr>\n",
       "  </tbody>\n",
       "</table>\n",
       "<p>6130 rows × 2 columns</p>\n",
       "</div>"
      ],
      "text/plain": [
       "            Date       Close\n",
       "0     2008-01-02   20.371622\n",
       "1     2008-01-03   20.023964\n",
       "2     2008-01-04   18.874010\n",
       "3     2008-01-05   18.874010\n",
       "4     2008-01-06   18.874010\n",
       "...          ...         ...\n",
       "6125  2024-10-09  845.900024\n",
       "6126  2024-10-10  833.969971\n",
       "6127  2024-10-11  840.690002\n",
       "6128  2024-10-12  840.690002\n",
       "6129  2024-10-13  840.690002\n",
       "\n",
       "[6130 rows x 2 columns]"
      ]
     },
     "execution_count": 15,
     "metadata": {},
     "output_type": "execute_result"
    }
   ],
   "source": [
    "# Keep only the 'Date' and 'Close' columns\n",
    "historical_data_complete = historical_data_complete[['Date', 'Close']]\n",
    "\n",
    "# Display the resulting DataFrame\n",
    "historical_data_complete"
   ]
  },
  {
   "cell_type": "markdown",
   "metadata": {},
   "source": [
    "### 2.5.4 Looking at seasonality"
   ]
  },
  {
   "cell_type": "code",
   "execution_count": 16,
   "metadata": {},
   "outputs": [],
   "source": [
    "historical_data_complete.reset_index(inplace=True)"
   ]
  },
  {
   "cell_type": "code",
   "execution_count": 17,
   "metadata": {},
   "outputs": [
    {
     "name": "stderr",
     "output_type": "stream",
     "text": [
      "<ipython-input-7-b956eb69f2bc>:15: SettingWithCopyWarning: \n",
      "A value is trying to be set on a copy of a slice from a DataFrame.\n",
      "Try using .loc[row_indexer,col_indexer] = value instead\n",
      "\n",
      "See the caveats in the documentation: https://pandas.pydata.org/pandas-docs/stable/user_guide/indexing.html#returning-a-view-versus-a-copy\n",
      "  historical_data['Date'] = pd.to_datetime(historical_data['Date'])\n",
      "<ipython-input-7-b956eb69f2bc>:18: SettingWithCopyWarning: \n",
      "A value is trying to be set on a copy of a slice from a DataFrame.\n",
      "Try using .loc[row_indexer,col_indexer] = value instead\n",
      "\n",
      "See the caveats in the documentation: https://pandas.pydata.org/pandas-docs/stable/user_guide/indexing.html#returning-a-view-versus-a-copy\n",
      "  historical_data['Weekday'] = historical_data['Date'].dt.weekday  # Weekday (0=Monday, 6=Sunday)\n",
      "<ipython-input-7-b956eb69f2bc>:19: SettingWithCopyWarning: \n",
      "A value is trying to be set on a copy of a slice from a DataFrame.\n",
      "Try using .loc[row_indexer,col_indexer] = value instead\n",
      "\n",
      "See the caveats in the documentation: https://pandas.pydata.org/pandas-docs/stable/user_guide/indexing.html#returning-a-view-versus-a-copy\n",
      "  historical_data['Month'] = historical_data['Date'].dt.month      # Month (1=January, 12=December)\n",
      "<ipython-input-7-b956eb69f2bc>:20: SettingWithCopyWarning: \n",
      "A value is trying to be set on a copy of a slice from a DataFrame.\n",
      "Try using .loc[row_indexer,col_indexer] = value instead\n",
      "\n",
      "See the caveats in the documentation: https://pandas.pydata.org/pandas-docs/stable/user_guide/indexing.html#returning-a-view-versus-a-copy\n",
      "  historical_data['Quarter'] = historical_data['Date'].dt.quarter  # Quarter (1 to 4)\n"
     ]
    },
    {
     "data": {
      "text/plain": [
       "<Figure size 864x576 with 0 Axes>"
      ]
     },
     "metadata": {},
     "output_type": "display_data"
    },
    {
     "data": {
      "image/png": "[encoded data removed]",
      "text/plain": [
       "<Figure size 432x288 with 1 Axes>"
      ]
     },
     "metadata": {
      "needs_background": "light"
     },
     "output_type": "display_data"
    },
    {
     "data": {
      "text/plain": [
       "<Figure size 864x576 with 0 Axes>"
      ]
     },
     "metadata": {},
     "output_type": "display_data"
    },
    {
     "data": {
      "image/png": "[encoded data removed]",
      "text/plain": [
       "<Figure size 432x288 with 1 Axes>"
      ]
     },
     "metadata": {
      "needs_background": "light"
     },
     "output_type": "display_data"
    },
    {
     "data": {
      "text/plain": [
       "<Figure size 864x576 with 0 Axes>"
      ]
     },
     "metadata": {},
     "output_type": "display_data"
    },
    {
     "data": {
      "image/png": "[encoded data removed]",
      "text/plain": [
       "<Figure size 432x288 with 1 Axes>"
      ]
     },
     "metadata": {
      "needs_background": "light"
     },
     "output_type": "display_data"
    }
   ],
   "source": [
    "plot_stock_with_multiple_boxplots(historical_data_complete, company_name);"
   ]
  },
  {
   "cell_type": "markdown",
   "metadata": {},
   "source": [
    "With the results above, we cannot determine if there is any clear seasonality. "
   ]
  },
  {
   "cell_type": "markdown",
   "metadata": {},
   "source": [
    "### 2.5.5 Choosing the time series of our dataset"
   ]
  },
  {
   "cell_type": "markdown",
   "metadata": {},
   "source": [
    "Let's plot the time series doing different groubys to decide what we're going to work with. Having in mind our business case and the data points that we have."
   ]
  },
  {
   "cell_type": "code",
   "execution_count": 18,
   "metadata": {},
   "outputs": [
    {
     "name": "stdout",
     "output_type": "stream",
     "text": [
      "Number of daily data points: 6130\n",
      "Number of weekly data points: 876\n",
      "Number of monthly data points: 202\n"
     ]
    },
    {
     "name": "stderr",
     "output_type": "stream",
     "text": [
      "<ipython-input-5-d887d46770ee>:18: SettingWithCopyWarning: \n",
      "A value is trying to be set on a copy of a slice from a DataFrame.\n",
      "Try using .loc[row_indexer,col_indexer] = value instead\n",
      "\n",
      "See the caveats in the documentation: https://pandas.pydata.org/pandas-docs/stable/user_guide/indexing.html#returning-a-view-versus-a-copy\n",
      "  historical_data['Date'] = pd.to_datetime(historical_data['Date'])\n"
     ]
    },
    {
     "data": {
      "image/png": "[encoded data removed]",
      "text/plain": [
       "<Figure size 720x432 with 1 Axes>"
      ]
     },
     "metadata": {
      "needs_background": "light"
     },
     "output_type": "display_data"
    },
    {
     "data": {
      "image/png": "[encoded data removed]",
      "text/plain": [
       "<Figure size 720x432 with 1 Axes>"
      ]
     },
     "metadata": {
      "needs_background": "light"
     },
     "output_type": "display_data"
    },
    {
     "data": {
      "image/png": "[encoded data removed]",
      "text/plain": [
       "<Figure size 720x432 with 1 Axes>"
      ]
     },
     "metadata": {
      "needs_background": "light"
     },
     "output_type": "display_data"
    }
   ],
   "source": [
    "# Call function to plot the data\n",
    "plot_stock_by_period(historical_data_complete, company_name)"
   ]
  },
  {
   "cell_type": "markdown",
   "metadata": {},
   "source": [
    "We are going to transform the data. Based on out business case we are going to choose the weekly data because we want to give weekly predictions."
   ]
  },
  {
   "cell_type": "code",
   "execution_count": 20,
   "metadata": {},
   "outputs": [
    {
     "data": {
      "text/html": [
       "<div>\n",
       "<style scoped>\n",
       "    .dataframe tbody tr th:only-of-type {\n",
       "        vertical-align: middle;\n",
       "    }\n",
       "\n",
       "    .dataframe tbody tr th {\n",
       "        vertical-align: top;\n",
       "    }\n",
       "\n",
       "    .dataframe thead th {\n",
       "        text-align: right;\n",
       "    }\n",
       "</style>\n",
       "<table border=\"1\" class=\"dataframe\">\n",
       "  <thead>\n",
       "    <tr style=\"text-align: right;\">\n",
       "      <th></th>\n",
       "      <th>index</th>\n",
       "      <th>Close</th>\n",
       "      <th>Weekday</th>\n",
       "      <th>Month</th>\n",
       "      <th>Quarter</th>\n",
       "    </tr>\n",
       "    <tr>\n",
       "      <th>Date</th>\n",
       "      <th></th>\n",
       "      <th></th>\n",
       "      <th></th>\n",
       "      <th></th>\n",
       "      <th></th>\n",
       "    </tr>\n",
       "  </thead>\n",
       "  <tbody>\n",
       "    <tr>\n",
       "      <th>2008-01-02</th>\n",
       "      <td>0</td>\n",
       "      <td>20.371622</td>\n",
       "      <td>2</td>\n",
       "      <td>1</td>\n",
       "      <td>1</td>\n",
       "    </tr>\n",
       "    <tr>\n",
       "      <th>2008-01-03</th>\n",
       "      <td>1</td>\n",
       "      <td>20.023964</td>\n",
       "      <td>3</td>\n",
       "      <td>1</td>\n",
       "      <td>1</td>\n",
       "    </tr>\n",
       "    <tr>\n",
       "      <th>2008-01-04</th>\n",
       "      <td>2</td>\n",
       "      <td>18.874010</td>\n",
       "      <td>4</td>\n",
       "      <td>1</td>\n",
       "      <td>1</td>\n",
       "    </tr>\n",
       "    <tr>\n",
       "      <th>2008-01-05</th>\n",
       "      <td>3</td>\n",
       "      <td>18.874010</td>\n",
       "      <td>5</td>\n",
       "      <td>1</td>\n",
       "      <td>1</td>\n",
       "    </tr>\n",
       "    <tr>\n",
       "      <th>2008-01-06</th>\n",
       "      <td>4</td>\n",
       "      <td>18.874010</td>\n",
       "      <td>6</td>\n",
       "      <td>1</td>\n",
       "      <td>1</td>\n",
       "    </tr>\n",
       "    <tr>\n",
       "      <th>...</th>\n",
       "      <td>...</td>\n",
       "      <td>...</td>\n",
       "      <td>...</td>\n",
       "      <td>...</td>\n",
       "      <td>...</td>\n",
       "    </tr>\n",
       "    <tr>\n",
       "      <th>2024-10-09</th>\n",
       "      <td>6125</td>\n",
       "      <td>845.900024</td>\n",
       "      <td>2</td>\n",
       "      <td>10</td>\n",
       "      <td>4</td>\n",
       "    </tr>\n",
       "    <tr>\n",
       "      <th>2024-10-10</th>\n",
       "      <td>6126</td>\n",
       "      <td>833.969971</td>\n",
       "      <td>3</td>\n",
       "      <td>10</td>\n",
       "      <td>4</td>\n",
       "    </tr>\n",
       "    <tr>\n",
       "      <th>2024-10-11</th>\n",
       "      <td>6127</td>\n",
       "      <td>840.690002</td>\n",
       "      <td>4</td>\n",
       "      <td>10</td>\n",
       "      <td>4</td>\n",
       "    </tr>\n",
       "    <tr>\n",
       "      <th>2024-10-12</th>\n",
       "      <td>6128</td>\n",
       "      <td>840.690002</td>\n",
       "      <td>5</td>\n",
       "      <td>10</td>\n",
       "      <td>4</td>\n",
       "    </tr>\n",
       "    <tr>\n",
       "      <th>2024-10-13</th>\n",
       "      <td>6129</td>\n",
       "      <td>840.690002</td>\n",
       "      <td>6</td>\n",
       "      <td>10</td>\n",
       "      <td>4</td>\n",
       "    </tr>\n",
       "  </tbody>\n",
       "</table>\n",
       "<p>6130 rows × 5 columns</p>\n",
       "</div>"
      ],
      "text/plain": [
       "            index       Close  Weekday  Month  Quarter\n",
       "Date                                                  \n",
       "2008-01-02      0   20.371622        2      1        1\n",
       "2008-01-03      1   20.023964        3      1        1\n",
       "2008-01-04      2   18.874010        4      1        1\n",
       "2008-01-05      3   18.874010        5      1        1\n",
       "2008-01-06      4   18.874010        6      1        1\n",
       "...           ...         ...      ...    ...      ...\n",
       "2024-10-09   6125  845.900024        2     10        4\n",
       "2024-10-10   6126  833.969971        3     10        4\n",
       "2024-10-11   6127  840.690002        4     10        4\n",
       "2024-10-12   6128  840.690002        5     10        4\n",
       "2024-10-13   6129  840.690002        6     10        4\n",
       "\n",
       "[6130 rows x 5 columns]"
      ]
     },
     "execution_count": 20,
     "metadata": {},
     "output_type": "execute_result"
    }
   ],
   "source": [
    "historical_data_complete"
   ]
  },
  {
   "cell_type": "code",
   "execution_count": 21,
   "metadata": {},
   "outputs": [],
   "source": [
    "# Set 'Date' as the DataFrame index\n",
    "# historical_data_complete.set_index('Date', inplace=True)\n",
    "weekly_data = historical_data_complete.resample('W').median()"
   ]
  },
  {
   "cell_type": "code",
   "execution_count": 22,
   "metadata": {},
   "outputs": [
    {
     "data": {
      "text/html": [
       "<div>\n",
       "<style scoped>\n",
       "    .dataframe tbody tr th:only-of-type {\n",
       "        vertical-align: middle;\n",
       "    }\n",
       "\n",
       "    .dataframe tbody tr th {\n",
       "        vertical-align: top;\n",
       "    }\n",
       "\n",
       "    .dataframe thead th {\n",
       "        text-align: right;\n",
       "    }\n",
       "</style>\n",
       "<table border=\"1\" class=\"dataframe\">\n",
       "  <thead>\n",
       "    <tr style=\"text-align: right;\">\n",
       "      <th></th>\n",
       "      <th>Close</th>\n",
       "    </tr>\n",
       "    <tr>\n",
       "      <th>Date</th>\n",
       "      <th></th>\n",
       "    </tr>\n",
       "  </thead>\n",
       "  <tbody>\n",
       "    <tr>\n",
       "      <th>2008-01-06</th>\n",
       "      <td>18.874010</td>\n",
       "    </tr>\n",
       "    <tr>\n",
       "      <th>2008-01-13</th>\n",
       "      <td>18.566460</td>\n",
       "    </tr>\n",
       "    <tr>\n",
       "      <th>2008-01-20</th>\n",
       "      <td>17.363016</td>\n",
       "    </tr>\n",
       "    <tr>\n",
       "      <th>2008-01-27</th>\n",
       "      <td>18.406002</td>\n",
       "    </tr>\n",
       "    <tr>\n",
       "      <th>2008-02-03</th>\n",
       "      <td>18.506287</td>\n",
       "    </tr>\n",
       "    <tr>\n",
       "      <th>...</th>\n",
       "      <td>...</td>\n",
       "    </tr>\n",
       "    <tr>\n",
       "      <th>2024-09-15</th>\n",
       "      <td>800.169983</td>\n",
       "    </tr>\n",
       "    <tr>\n",
       "      <th>2024-09-22</th>\n",
       "      <td>795.280029</td>\n",
       "    </tr>\n",
       "    <tr>\n",
       "      <th>2024-09-29</th>\n",
       "      <td>841.539978</td>\n",
       "    </tr>\n",
       "    <tr>\n",
       "      <th>2024-10-06</th>\n",
       "      <td>833.000000</td>\n",
       "    </tr>\n",
       "    <tr>\n",
       "      <th>2024-10-13</th>\n",
       "      <td>840.690002</td>\n",
       "    </tr>\n",
       "  </tbody>\n",
       "</table>\n",
       "<p>876 rows × 1 columns</p>\n",
       "</div>"
      ],
      "text/plain": [
       "                 Close\n",
       "Date                  \n",
       "2008-01-06   18.874010\n",
       "2008-01-13   18.566460\n",
       "2008-01-20   17.363016\n",
       "2008-01-27   18.406002\n",
       "2008-02-03   18.506287\n",
       "...                ...\n",
       "2024-09-15  800.169983\n",
       "2024-09-22  795.280029\n",
       "2024-09-29  841.539978\n",
       "2024-10-06  833.000000\n",
       "2024-10-13  840.690002\n",
       "\n",
       "[876 rows x 1 columns]"
      ]
     },
     "execution_count": 22,
     "metadata": {},
     "output_type": "execute_result"
    }
   ],
   "source": [
    "weekly_data = weekly_data[['Close']]\n",
    "weekly_data"
   ]
  },
  {
   "cell_type": "markdown",
   "metadata": {},
   "source": [
    "We are going to continue investigating the EDA"
   ]
  },
  {
   "cell_type": "markdown",
   "metadata": {},
   "source": [
    "### 2.5.6 Seasonal-Trend-Loess Decomposition (STL)"
   ]
  },
  {
   "cell_type": "markdown",
   "metadata": {},
   "source": [
    "### 2.5.7 Autocorrelation and Partial Autocorrelation (ACF/PACF)"
   ]
  },
  {
   "cell_type": "markdown",
   "metadata": {},
   "source": [
    "### 2.5.8 Rolling Statistics"
   ]
  },
  {
   "cell_type": "markdown",
   "metadata": {},
   "source": [
    "### 2.5.9 Distribution of Returns"
   ]
  },
  {
   "cell_type": "markdown",
   "metadata": {},
   "source": [
    "### 2.5.10 Outlier Detection"
   ]
  },
  {
   "cell_type": "markdown",
   "metadata": {},
   "source": [
    "### 2.5.11 Correlation with External Factors"
   ]
  },
  {
   "cell_type": "code",
   "execution_count": null,
   "metadata": {},
   "outputs": [],
   "source": []
  }
 ],
 "metadata": {
  "kernelspec": {
   "display_name": "forecasting",
   "language": "python",
   "name": "forecasting"
  },
  "language_info": {
   "codemirror_mode": {
    "name": "ipython",
    "version": 3
   },
   "file_extension": ".py",
   "mimetype": "text/x-python",
   "name": "python",
   "nbconvert_exporter": "python",
   "pygments_lexer": "ipython3",
   "version": "3.8.5"
  }
 },
 "nbformat": 4,
 "nbformat_minor": 4
}
