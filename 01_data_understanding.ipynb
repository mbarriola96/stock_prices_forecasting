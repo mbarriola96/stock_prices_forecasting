{
 "cells": [
  {
   "cell_type": "markdown",
   "metadata": {},
   "source": [
    "# 1. Overview"
   ]
  },
  {
   "cell_type": "code",
   "execution_count": null,
   "metadata": {},
   "outputs": [],
   "source": []
  },
  {
   "cell_type": "markdown",
   "metadata": {},
   "source": [
    "# 2. Data Understanding"
   ]
  },
  {
   "cell_type": "markdown",
   "metadata": {},
   "source": [
    "## 2.1 Data Description"
   ]
  },
  {
   "cell_type": "markdown",
   "metadata": {},
   "source": [
    "## 2.2 Import necessary libraries"
   ]
  },
  {
   "cell_type": "code",
   "execution_count": 1,
   "metadata": {
    "scrolled": true
   },
   "outputs": [],
   "source": [
    "import pandas as pd\n",
    "import yfinance as yf\n",
    "import matplotlib.pyplot as plt \n",
    "import numpy as np\n",
    "\n",
    "from datetime import datetime"
   ]
  },
  {
   "cell_type": "markdown",
   "metadata": {},
   "source": [
    "## 2.3 Define Global Variables"
   ]
  },
  {
   "cell_type": "code",
   "execution_count": 2,
   "metadata": {},
   "outputs": [],
   "source": [
    "company_name = 'ASML'  # Replace 'ASML' with any other company ticker (e.g., 'AAPL' for Apple)\n",
    "start_date = '2000-01-01'\n",
    "end_date = datetime.today().strftime(\"%Y-%m-%d\")"
   ]
  },
  {
   "cell_type": "markdown",
   "metadata": {},
   "source": [
    "## 2.4 Functions"
   ]
  },
  {
   "cell_type": "code",
   "execution_count": 3,
   "metadata": {},
   "outputs": [],
   "source": [
    "def get_historical_data(ticker_symbol, start_date, end_date):\n",
    "    \"\"\"\n",
    "    Fetches historical stock data for a given company between specified dates. \n",
    "    Returns a DataFrame containing the historical data.\n",
    "\n",
    "    Input:\n",
    "    - ticker_symbol: The stock ticker of the company (e.g., 'ASML').\n",
    "    - start_date: The start date for the historical data (e.g., '2000-01-01').\n",
    "    - end_date: The end date for the historical data (e.g., '2024-10-05').\n",
    "\n",
    "    Output:\n",
    "    - A pandas DataFrame containing the historical stock data for the specified period.\n",
    "    \"\"\"\n",
    "    # Define the ticker symbol\n",
    "    stock_data = yf.Ticker(ticker_symbol)\n",
    "\n",
    "    # Download historical data between the start and end dates\n",
    "    historical_data = stock_data.history(start=start_date, end=end_date)\n",
    "\n",
    "    # Reset the index to convert 'Date' from an index to a regular column\n",
    "    historical_data.reset_index(inplace=True)\n",
    "\n",
    "    # Return the resulting DataFrame\n",
    "    return historical_data"
   ]
  },
  {
   "cell_type": "code",
   "execution_count": 4,
   "metadata": {},
   "outputs": [],
   "source": [
    "def plot_closing_prices(historical_data, company_name):\n",
    "    \"\"\"\n",
    "    Plots the historical closing prices of a company's stock over time.\n",
    "\n",
    "    Input:\n",
    "    - historical_data: DataFrame containing the stock data with 'Date' and 'Close' columns.\n",
    "    - company_name: The name or ticker of the company to be displayed in the plot title.\n",
    "\n",
    "    Output:\n",
    "    - A line plot of the company's historical closing prices.\n",
    "    \"\"\"\n",
    "    # Convert the 'Date' and 'Close' columns to numpy arrays\n",
    "    dates = np.array(historical_data['Date'])\n",
    "    close_prices = np.array(historical_data['Close'])\n",
    "\n",
    "    # Create the plot for the 'Close' (closing price) column using matplotlib\n",
    "    plt.figure(figsize=(10, 6))  # Set the figure size\n",
    "    plt.plot(dates, close_prices, label='Closing Price', color='blue')\n",
    "\n",
    "    # Add title and axis labels\n",
    "    plt.title(f'Historical Closing Prices of {company_name} between {dates[0].date()} and {dates[-1].date()}')\n",
    "    plt.xlabel('Date')\n",
    "    plt.ylabel('Closing Price (USD)')\n",
    "\n",
    "    # Rotate X-axis labels for better readability\n",
    "    plt.xticks(rotation=45)\n",
    "\n",
    "    # Show the legend\n",
    "    plt.legend()\n",
    "\n",
    "    # Adjust layout to prevent overlap of elements\n",
    "    plt.tight_layout()\n",
    "\n",
    "    # Display the plot\n",
    "    plt.show()"
   ]
  },
  {
   "cell_type": "markdown",
   "metadata": {},
   "source": [
    "## 2.5 Code"
   ]
  },
  {
   "cell_type": "markdown",
   "metadata": {},
   "source": [
    "We are going to load the data using the function get_historical_data"
   ]
  },
  {
   "cell_type": "code",
   "execution_count": 7,
   "metadata": {
    "scrolled": false
   },
   "outputs": [
    {
     "data": {
      "text/html": [
       "<div>\n",
       "<style scoped>\n",
       "    .dataframe tbody tr th:only-of-type {\n",
       "        vertical-align: middle;\n",
       "    }\n",
       "\n",
       "    .dataframe tbody tr th {\n",
       "        vertical-align: top;\n",
       "    }\n",
       "\n",
       "    .dataframe thead th {\n",
       "        text-align: right;\n",
       "    }\n",
       "</style>\n",
       "<table border=\"1\" class=\"dataframe\">\n",
       "  <thead>\n",
       "    <tr style=\"text-align: right;\">\n",
       "      <th></th>\n",
       "      <th>Date</th>\n",
       "      <th>Open</th>\n",
       "      <th>High</th>\n",
       "      <th>Low</th>\n",
       "      <th>Close</th>\n",
       "      <th>Volume</th>\n",
       "      <th>Dividends</th>\n",
       "      <th>Stock Splits</th>\n",
       "    </tr>\n",
       "  </thead>\n",
       "  <tbody>\n",
       "    <tr>\n",
       "      <th>0</th>\n",
       "      <td>2000-01-03 00:00:00-05:00</td>\n",
       "      <td>27.080377</td>\n",
       "      <td>27.080377</td>\n",
       "      <td>25.865232</td>\n",
       "      <td>26.935717</td>\n",
       "      <td>1121600</td>\n",
       "      <td>0.0</td>\n",
       "      <td>0.0</td>\n",
       "    </tr>\n",
       "    <tr>\n",
       "      <th>1</th>\n",
       "      <td>2000-01-04 00:00:00-05:00</td>\n",
       "      <td>25.894166</td>\n",
       "      <td>26.270283</td>\n",
       "      <td>25.055137</td>\n",
       "      <td>25.141933</td>\n",
       "      <td>968800</td>\n",
       "      <td>0.0</td>\n",
       "      <td>0.0</td>\n",
       "    </tr>\n",
       "    <tr>\n",
       "      <th>2</th>\n",
       "      <td>2000-01-05 00:00:00-05:00</td>\n",
       "      <td>24.245043</td>\n",
       "      <td>24.505431</td>\n",
       "      <td>23.304752</td>\n",
       "      <td>24.447567</td>\n",
       "      <td>1458133</td>\n",
       "      <td>0.0</td>\n",
       "      <td>0.0</td>\n",
       "    </tr>\n",
       "    <tr>\n",
       "      <th>3</th>\n",
       "      <td>2000-01-06 00:00:00-05:00</td>\n",
       "      <td>22.682710</td>\n",
       "      <td>23.203486</td>\n",
       "      <td>21.742419</td>\n",
       "      <td>22.943098</td>\n",
       "      <td>3517867</td>\n",
       "      <td>0.0</td>\n",
       "      <td>0.0</td>\n",
       "    </tr>\n",
       "    <tr>\n",
       "      <th>4</th>\n",
       "      <td>2000-01-07 00:00:00-05:00</td>\n",
       "      <td>22.755042</td>\n",
       "      <td>23.492809</td>\n",
       "      <td>22.624848</td>\n",
       "      <td>23.463877</td>\n",
       "      <td>1631200</td>\n",
       "      <td>0.0</td>\n",
       "      <td>0.0</td>\n",
       "    </tr>\n",
       "    <tr>\n",
       "      <th>...</th>\n",
       "      <td>...</td>\n",
       "      <td>...</td>\n",
       "      <td>...</td>\n",
       "      <td>...</td>\n",
       "      <td>...</td>\n",
       "      <td>...</td>\n",
       "      <td>...</td>\n",
       "      <td>...</td>\n",
       "    </tr>\n",
       "    <tr>\n",
       "      <th>6226</th>\n",
       "      <td>2024-10-02 00:00:00-04:00</td>\n",
       "      <td>820.799988</td>\n",
       "      <td>839.270020</td>\n",
       "      <td>816.500000</td>\n",
       "      <td>832.190002</td>\n",
       "      <td>898400</td>\n",
       "      <td>0.0</td>\n",
       "      <td>0.0</td>\n",
       "    </tr>\n",
       "    <tr>\n",
       "      <th>6227</th>\n",
       "      <td>2024-10-03 00:00:00-04:00</td>\n",
       "      <td>825.909973</td>\n",
       "      <td>837.510010</td>\n",
       "      <td>823.789978</td>\n",
       "      <td>832.409973</td>\n",
       "      <td>651900</td>\n",
       "      <td>0.0</td>\n",
       "      <td>0.0</td>\n",
       "    </tr>\n",
       "    <tr>\n",
       "      <th>6228</th>\n",
       "      <td>2024-10-04 00:00:00-04:00</td>\n",
       "      <td>836.049988</td>\n",
       "      <td>839.340027</td>\n",
       "      <td>825.960022</td>\n",
       "      <td>833.000000</td>\n",
       "      <td>862500</td>\n",
       "      <td>0.0</td>\n",
       "      <td>0.0</td>\n",
       "    </tr>\n",
       "    <tr>\n",
       "      <th>6229</th>\n",
       "      <td>2024-10-07 00:00:00-04:00</td>\n",
       "      <td>811.719971</td>\n",
       "      <td>823.000000</td>\n",
       "      <td>811.010010</td>\n",
       "      <td>817.250000</td>\n",
       "      <td>898200</td>\n",
       "      <td>0.0</td>\n",
       "      <td>0.0</td>\n",
       "    </tr>\n",
       "    <tr>\n",
       "      <th>6230</th>\n",
       "      <td>2024-10-08 00:00:00-04:00</td>\n",
       "      <td>822.500000</td>\n",
       "      <td>830.830017</td>\n",
       "      <td>820.070007</td>\n",
       "      <td>824.260010</td>\n",
       "      <td>1265900</td>\n",
       "      <td>0.0</td>\n",
       "      <td>0.0</td>\n",
       "    </tr>\n",
       "  </tbody>\n",
       "</table>\n",
       "<p>6231 rows × 8 columns</p>\n",
       "</div>"
      ],
      "text/plain": [
       "                          Date        Open        High         Low  \\\n",
       "0    2000-01-03 00:00:00-05:00   27.080377   27.080377   25.865232   \n",
       "1    2000-01-04 00:00:00-05:00   25.894166   26.270283   25.055137   \n",
       "2    2000-01-05 00:00:00-05:00   24.245043   24.505431   23.304752   \n",
       "3    2000-01-06 00:00:00-05:00   22.682710   23.203486   21.742419   \n",
       "4    2000-01-07 00:00:00-05:00   22.755042   23.492809   22.624848   \n",
       "...                        ...         ...         ...         ...   \n",
       "6226 2024-10-02 00:00:00-04:00  820.799988  839.270020  816.500000   \n",
       "6227 2024-10-03 00:00:00-04:00  825.909973  837.510010  823.789978   \n",
       "6228 2024-10-04 00:00:00-04:00  836.049988  839.340027  825.960022   \n",
       "6229 2024-10-07 00:00:00-04:00  811.719971  823.000000  811.010010   \n",
       "6230 2024-10-08 00:00:00-04:00  822.500000  830.830017  820.070007   \n",
       "\n",
       "           Close   Volume  Dividends  Stock Splits  \n",
       "0      26.935717  1121600        0.0           0.0  \n",
       "1      25.141933   968800        0.0           0.0  \n",
       "2      24.447567  1458133        0.0           0.0  \n",
       "3      22.943098  3517867        0.0           0.0  \n",
       "4      23.463877  1631200        0.0           0.0  \n",
       "...          ...      ...        ...           ...  \n",
       "6226  832.190002   898400        0.0           0.0  \n",
       "6227  832.409973   651900        0.0           0.0  \n",
       "6228  833.000000   862500        0.0           0.0  \n",
       "6229  817.250000   898200        0.0           0.0  \n",
       "6230  824.260010  1265900        0.0           0.0  \n",
       "\n",
       "[6231 rows x 8 columns]"
      ]
     },
     "execution_count": 7,
     "metadata": {},
     "output_type": "execute_result"
    }
   ],
   "source": [
    "# Call the function get_historical_data\n",
    "historical_data = get_historical_data(company_name, start_date, end_date)\n",
    "\n",
    "historical_data "
   ]
  },
  {
   "cell_type": "markdown",
   "metadata": {},
   "source": [
    "Now let's plot the stock data"
   ]
  },
  {
   "cell_type": "code",
   "execution_count": 8,
   "metadata": {},
   "outputs": [
    {
     "data": {
      "image/png": "[encoded data removed]",
      "text/plain": [
       "<Figure size 720x432 with 1 Axes>"
      ]
     },
     "metadata": {
      "needs_background": "light"
     },
     "output_type": "display_data"
    }
   ],
   "source": [
    "plot_closing_prices(historical_data, company_name)"
   ]
  },
  {
   "cell_type": "code",
   "execution_count": null,
   "metadata": {},
   "outputs": [],
   "source": []
  }
 ],
 "metadata": {
  "kernelspec": {
   "display_name": "forecasting",
   "language": "python",
   "name": "forecasting"
  },
  "language_info": {
   "codemirror_mode": {
    "name": "ipython",
    "version": 3
   },
   "file_extension": ".py",
   "mimetype": "text/x-python",
   "name": "python",
   "nbconvert_exporter": "python",
   "pygments_lexer": "ipython3",
   "version": "3.8.5"
  }
 },
 "nbformat": 4,
 "nbformat_minor": 4
}
